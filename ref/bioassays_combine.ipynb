{
 "cells": [
  {
   "cell_type": "code",
   "execution_count": 28,
   "metadata": {},
   "outputs": [],
   "source": [
    "import pandas as pd"
   ]
  },
  {
   "cell_type": "code",
   "execution_count": 29,
   "metadata": {},
   "outputs": [],
   "source": [
    "df1 = pd.read_csv(\"mu_partial_agonist_bioassays.csv\")\n",
    "df2 = pd.read_csv(\"mu_partial_agonist.csv\")\n",
    "df3 = pd.read_csv(\"partial_agonist_list.csv\")"
   ]
  },
  {
   "cell_type": "code",
   "execution_count": 30,
   "metadata": {},
   "outputs": [],
   "source": [
    "df1 = df1[['cid', 'moa']]\n",
    "df2 = df2[['cid', 'moa']]\n",
    "df3 = df3[['cid', 'moa']]"
   ]
  },
  {
   "cell_type": "code",
   "execution_count": 31,
   "metadata": {},
   "outputs": [],
   "source": [
    "df = pd.concat([df1, df2, df3])\n",
    "df[\"moa\"] = \"partial agonist\"\n",
    "df.drop_duplicates(inplace=True)"
   ]
  },
  {
   "cell_type": "code",
   "execution_count": 32,
   "metadata": {},
   "outputs": [
    {
     "data": {
      "text/html": [
       "<div>\n",
       "<style scoped>\n",
       "    .dataframe tbody tr th:only-of-type {\n",
       "        vertical-align: middle;\n",
       "    }\n",
       "\n",
       "    .dataframe tbody tr th {\n",
       "        vertical-align: top;\n",
       "    }\n",
       "\n",
       "    .dataframe thead th {\n",
       "        text-align: right;\n",
       "    }\n",
       "</style>\n",
       "<table border=\"1\" class=\"dataframe\">\n",
       "  <thead>\n",
       "    <tr style=\"text-align: right;\">\n",
       "      <th></th>\n",
       "      <th>cid</th>\n",
       "      <th>moa</th>\n",
       "      <th>smiles</th>\n",
       "    </tr>\n",
       "  </thead>\n",
       "  <tbody>\n",
       "    <tr>\n",
       "      <th>0</th>\n",
       "      <td>5748293</td>\n",
       "      <td>partial agonist</td>\n",
       "      <td>COC1=CC=CC2=C1C34CCN(C(C2)C3(CCC(=O)C4)OC)CC5CC5</td>\n",
       "    </tr>\n",
       "    <tr>\n",
       "      <th>1</th>\n",
       "      <td>44339409</td>\n",
       "      <td>partial agonist</td>\n",
       "      <td>C1CC1CN2CCC34C5C(=O)CCC3(C2CC6=C4C(=CC=C6)O5)O...</td>\n",
       "    </tr>\n",
       "    <tr>\n",
       "      <th>2</th>\n",
       "      <td>44339475</td>\n",
       "      <td>partial agonist</td>\n",
       "      <td>C1CC1CN2CCC34CC(=O)CCC3(C2CC5=C4C(=CC=C5)O)OCC...</td>\n",
       "    </tr>\n",
       "    <tr>\n",
       "      <th>3</th>\n",
       "      <td>44339521</td>\n",
       "      <td>partial agonist</td>\n",
       "      <td>COC1=CC=CC2=C1C34CCN(C(C2)C3(CCC(=O)C4)OCCCC5=...</td>\n",
       "    </tr>\n",
       "    <tr>\n",
       "      <th>4</th>\n",
       "      <td>5359966</td>\n",
       "      <td>partial agonist</td>\n",
       "      <td>C1CCC23CCN(C(C2C1)CC4=C3C=C(C=C4)O)CC5CC5</td>\n",
       "    </tr>\n",
       "  </tbody>\n",
       "</table>\n",
       "</div>"
      ],
      "text/plain": [
       "        cid              moa  \\\n",
       "0   5748293  partial agonist   \n",
       "1  44339409  partial agonist   \n",
       "2  44339475  partial agonist   \n",
       "3  44339521  partial agonist   \n",
       "4   5359966  partial agonist   \n",
       "\n",
       "                                              smiles  \n",
       "0   COC1=CC=CC2=C1C34CCN(C(C2)C3(CCC(=O)C4)OC)CC5CC5  \n",
       "1  C1CC1CN2CCC34C5C(=O)CCC3(C2CC6=C4C(=CC=C6)O5)O...  \n",
       "2  C1CC1CN2CCC34CC(=O)CCC3(C2CC5=C4C(=CC=C5)O)OCC...  \n",
       "3  COC1=CC=CC2=C1C34CCN(C(C2)C3(CCC(=O)C4)OCCCC5=...  \n",
       "4          C1CCC23CCN(C(C2C1)CC4=C3C=C(C=C4)O)CC5CC5  "
      ]
     },
     "execution_count": 32,
     "metadata": {},
     "output_type": "execute_result"
    }
   ],
   "source": [
    "import requests\n",
    "from requests.sessions import Session\n",
    "def smiles_conv(x):\n",
    "    with requests.Session() as session:\n",
    "        url = \"https://pubchem.ncbi.nlm.nih.gov/rest/pug/compound/cid/{}/property/CanonicalSMILES/JSON\".format(x)\n",
    "        with session.get(url) as response:  \n",
    "            doc = response.json()\n",
    "            \n",
    "    return doc[\"PropertyTable\"][\"Properties\"][0][\"CanonicalSMILES\"]\n",
    "df['smiles'] = df['cid'].apply(smiles_conv)\n",
    "df.head()"
   ]
  },
  {
   "cell_type": "code",
   "execution_count": 38,
   "metadata": {},
   "outputs": [],
   "source": [
    "df.rename(columns={\"moa\": \"action\"}, inplace=True)\n",
    "df[\"action\"] = \"PARTIAL AGONIST\""
   ]
  },
  {
   "cell_type": "code",
   "execution_count": 41,
   "metadata": {},
   "outputs": [
    {
     "data": {
      "text/plain": [
       "(116, 3)"
      ]
     },
     "execution_count": 41,
     "metadata": {},
     "output_type": "execute_result"
    }
   ],
   "source": [
    "df.shape"
   ]
  },
  {
   "cell_type": "code",
   "execution_count": 35,
   "metadata": {},
   "outputs": [
    {
     "data": {
      "text/html": [
       "<div>\n",
       "<style scoped>\n",
       "    .dataframe tbody tr th:only-of-type {\n",
       "        vertical-align: middle;\n",
       "    }\n",
       "\n",
       "    .dataframe tbody tr th {\n",
       "        vertical-align: top;\n",
       "    }\n",
       "\n",
       "    .dataframe thead th {\n",
       "        text-align: right;\n",
       "    }\n",
       "</style>\n",
       "<table border=\"1\" class=\"dataframe\">\n",
       "  <thead>\n",
       "    <tr style=\"text-align: right;\">\n",
       "      <th></th>\n",
       "      <th>cid</th>\n",
       "      <th>smiles</th>\n",
       "      <th>action</th>\n",
       "    </tr>\n",
       "  </thead>\n",
       "  <tbody>\n",
       "    <tr>\n",
       "      <th>0</th>\n",
       "      <td>2159</td>\n",
       "      <td>CCN1CCCC1CNC(=O)C2=CC(=C(C=C2OC)N)S(=O)(=O)CC</td>\n",
       "      <td>AGONIST</td>\n",
       "    </tr>\n",
       "    <tr>\n",
       "      <th>1</th>\n",
       "      <td>2160</td>\n",
       "      <td>CN(C)CCC=C1C2=CC=CC=C2CCC3=CC=CC=C31</td>\n",
       "      <td>BINDER</td>\n",
       "    </tr>\n",
       "    <tr>\n",
       "      <th>2</th>\n",
       "      <td>2562</td>\n",
       "      <td>CCN(CC)CCOCCOC(=O)C1(CCCC1)C2=CC=CC=C2</td>\n",
       "      <td>ANTAGONIST</td>\n",
       "    </tr>\n",
       "    <tr>\n",
       "      <th>3</th>\n",
       "      <td>3345</td>\n",
       "      <td>CCC(=O)N(C1CCN(CC1)CCC2=CC=CC=C2)C3=CC=CC=C3</td>\n",
       "      <td>AGONIST</td>\n",
       "    </tr>\n",
       "    <tr>\n",
       "      <th>4</th>\n",
       "      <td>3345</td>\n",
       "      <td>CCC(=O)N(C1CCN(CC1)CCC2=CC=CC=C2)C3=CC=CC=C3</td>\n",
       "      <td>FULL AGONIST</td>\n",
       "    </tr>\n",
       "  </tbody>\n",
       "</table>\n",
       "</div>"
      ],
      "text/plain": [
       "    cid                                         smiles        action\n",
       "0  2159  CCN1CCCC1CNC(=O)C2=CC(=C(C=C2OC)N)S(=O)(=O)CC       AGONIST\n",
       "1  2160           CN(C)CCC=C1C2=CC=CC=C2CCC3=CC=CC=C31        BINDER\n",
       "2  2562         CCN(CC)CCOCCOC(=O)C1(CCCC1)C2=CC=CC=C2    ANTAGONIST\n",
       "3  3345   CCC(=O)N(C1CCN(CC1)CCC2=CC=CC=C2)C3=CC=CC=C3       AGONIST\n",
       "4  3345   CCC(=O)N(C1CCN(CC1)CCC2=CC=CC=C2)C3=CC=CC=C3  FULL AGONIST"
      ]
     },
     "execution_count": 35,
     "metadata": {},
     "output_type": "execute_result"
    }
   ],
   "source": [
    "test_csv = pd.read_csv(\"data/processed/test.csv\")\n",
    "test_csv.drop(\"Unnamed: 0\", axis=1, inplace=True)\n",
    "test_csv.head()"
   ]
  },
  {
   "cell_type": "code",
   "execution_count": 40,
   "metadata": {},
   "outputs": [
    {
     "data": {
      "text/plain": [
       "(212, 3)"
      ]
     },
     "execution_count": 40,
     "metadata": {},
     "output_type": "execute_result"
    }
   ],
   "source": [
    "test_csv.shape"
   ]
  },
  {
   "cell_type": "code",
   "execution_count": 42,
   "metadata": {},
   "outputs": [
    {
     "data": {
      "text/html": [
       "<div>\n",
       "<style scoped>\n",
       "    .dataframe tbody tr th:only-of-type {\n",
       "        vertical-align: middle;\n",
       "    }\n",
       "\n",
       "    .dataframe tbody tr th {\n",
       "        vertical-align: top;\n",
       "    }\n",
       "\n",
       "    .dataframe thead th {\n",
       "        text-align: right;\n",
       "    }\n",
       "</style>\n",
       "<table border=\"1\" class=\"dataframe\">\n",
       "  <thead>\n",
       "    <tr style=\"text-align: right;\">\n",
       "      <th></th>\n",
       "      <th>cid</th>\n",
       "      <th>action</th>\n",
       "      <th>smiles</th>\n",
       "    </tr>\n",
       "  </thead>\n",
       "  <tbody>\n",
       "    <tr>\n",
       "      <th>0</th>\n",
       "      <td>5748293</td>\n",
       "      <td>PARTIAL AGONIST</td>\n",
       "      <td>COC1=CC=CC2=C1C34CCN(C(C2)C3(CCC(=O)C4)OC)CC5CC5</td>\n",
       "    </tr>\n",
       "    <tr>\n",
       "      <th>1</th>\n",
       "      <td>44339409</td>\n",
       "      <td>PARTIAL AGONIST</td>\n",
       "      <td>C1CC1CN2CCC34C5C(=O)CCC3(C2CC6=C4C(=CC=C6)O5)O...</td>\n",
       "    </tr>\n",
       "    <tr>\n",
       "      <th>2</th>\n",
       "      <td>44339475</td>\n",
       "      <td>PARTIAL AGONIST</td>\n",
       "      <td>C1CC1CN2CCC34CC(=O)CCC3(C2CC5=C4C(=CC=C5)O)OCC...</td>\n",
       "    </tr>\n",
       "    <tr>\n",
       "      <th>3</th>\n",
       "      <td>44339521</td>\n",
       "      <td>PARTIAL AGONIST</td>\n",
       "      <td>COC1=CC=CC2=C1C34CCN(C(C2)C3(CCC(=O)C4)OCCCC5=...</td>\n",
       "    </tr>\n",
       "    <tr>\n",
       "      <th>4</th>\n",
       "      <td>5359966</td>\n",
       "      <td>PARTIAL AGONIST</td>\n",
       "      <td>C1CCC23CCN(C(C2C1)CC4=C3C=C(C=C4)O)CC5CC5</td>\n",
       "    </tr>\n",
       "    <tr>\n",
       "      <th>...</th>\n",
       "      <td>...</td>\n",
       "      <td>...</td>\n",
       "      <td>...</td>\n",
       "    </tr>\n",
       "    <tr>\n",
       "      <th>207</th>\n",
       "      <td>132990963</td>\n",
       "      <td>AGONIST</td>\n",
       "      <td>C1CCC(CC1)N2CCN(CC2)C(CC3=CC=CC=C3)C4=CC=C(C=C4)F</td>\n",
       "    </tr>\n",
       "    <tr>\n",
       "      <th>208</th>\n",
       "      <td>132990975</td>\n",
       "      <td>AGONIST</td>\n",
       "      <td>C1CCC(CC1)N2CCN(CC2)C(CC3=CC=CC=C3)C4=CC=CC=C4F</td>\n",
       "    </tr>\n",
       "    <tr>\n",
       "      <th>209</th>\n",
       "      <td>134156377</td>\n",
       "      <td>AGONIST</td>\n",
       "      <td>CN1CC[C@]23[C@@H]4[C@H]1CC5=C2C(=C(C=C5)OC)O[C...</td>\n",
       "    </tr>\n",
       "    <tr>\n",
       "      <th>210</th>\n",
       "      <td>137434175</td>\n",
       "      <td>ANTAGONIST</td>\n",
       "      <td>CCC1=CC2=C(C(=C(N=C2C(=C1)F)N3CCC(CC3)NC4CCOCC...</td>\n",
       "    </tr>\n",
       "    <tr>\n",
       "      <th>211</th>\n",
       "      <td>145993966</td>\n",
       "      <td>AGONIST</td>\n",
       "      <td>CN1CC[C@]23[C@@H]4[C@H](CCC2([C@H]1CC5=C3C(=C(...</td>\n",
       "    </tr>\n",
       "  </tbody>\n",
       "</table>\n",
       "<p>328 rows × 3 columns</p>\n",
       "</div>"
      ],
      "text/plain": [
       "           cid           action  \\\n",
       "0      5748293  PARTIAL AGONIST   \n",
       "1     44339409  PARTIAL AGONIST   \n",
       "2     44339475  PARTIAL AGONIST   \n",
       "3     44339521  PARTIAL AGONIST   \n",
       "4      5359966  PARTIAL AGONIST   \n",
       "..         ...              ...   \n",
       "207  132990963          AGONIST   \n",
       "208  132990975          AGONIST   \n",
       "209  134156377          AGONIST   \n",
       "210  137434175       ANTAGONIST   \n",
       "211  145993966          AGONIST   \n",
       "\n",
       "                                                smiles  \n",
       "0     COC1=CC=CC2=C1C34CCN(C(C2)C3(CCC(=O)C4)OC)CC5CC5  \n",
       "1    C1CC1CN2CCC34C5C(=O)CCC3(C2CC6=C4C(=CC=C6)O5)O...  \n",
       "2    C1CC1CN2CCC34CC(=O)CCC3(C2CC5=C4C(=CC=C5)O)OCC...  \n",
       "3    COC1=CC=CC2=C1C34CCN(C(C2)C3(CCC(=O)C4)OCCCC5=...  \n",
       "4            C1CCC23CCN(C(C2C1)CC4=C3C=C(C=C4)O)CC5CC5  \n",
       "..                                                 ...  \n",
       "207  C1CCC(CC1)N2CCN(CC2)C(CC3=CC=CC=C3)C4=CC=C(C=C4)F  \n",
       "208    C1CCC(CC1)N2CCN(CC2)C(CC3=CC=CC=C3)C4=CC=CC=C4F  \n",
       "209  CN1CC[C@]23[C@@H]4[C@H]1CC5=C2C(=C(C=C5)OC)O[C...  \n",
       "210  CCC1=CC2=C(C(=C(N=C2C(=C1)F)N3CCC(CC3)NC4CCOCC...  \n",
       "211  CN1CC[C@]23[C@@H]4[C@H](CCC2([C@H]1CC5=C3C(=C(...  \n",
       "\n",
       "[328 rows x 3 columns]"
      ]
     },
     "execution_count": 42,
     "metadata": {},
     "output_type": "execute_result"
    }
   ],
   "source": [
    "final_df = pd.concat([df, test_csv])\n",
    "final_df"
   ]
  },
  {
   "cell_type": "code",
   "execution_count": 43,
   "metadata": {},
   "outputs": [],
   "source": [
    "final_df.drop_duplicates(inplace=True)"
   ]
  },
  {
   "cell_type": "code",
   "execution_count": 44,
   "metadata": {},
   "outputs": [
    {
     "data": {
      "text/html": [
       "<div>\n",
       "<style scoped>\n",
       "    .dataframe tbody tr th:only-of-type {\n",
       "        vertical-align: middle;\n",
       "    }\n",
       "\n",
       "    .dataframe tbody tr th {\n",
       "        vertical-align: top;\n",
       "    }\n",
       "\n",
       "    .dataframe thead th {\n",
       "        text-align: right;\n",
       "    }\n",
       "</style>\n",
       "<table border=\"1\" class=\"dataframe\">\n",
       "  <thead>\n",
       "    <tr style=\"text-align: right;\">\n",
       "      <th></th>\n",
       "      <th>cid</th>\n",
       "      <th>action</th>\n",
       "      <th>smiles</th>\n",
       "    </tr>\n",
       "  </thead>\n",
       "  <tbody>\n",
       "    <tr>\n",
       "      <th>0</th>\n",
       "      <td>5748293</td>\n",
       "      <td>PARTIAL AGONIST</td>\n",
       "      <td>COC1=CC=CC2=C1C34CCN(C(C2)C3(CCC(=O)C4)OC)CC5CC5</td>\n",
       "    </tr>\n",
       "    <tr>\n",
       "      <th>1</th>\n",
       "      <td>44339409</td>\n",
       "      <td>PARTIAL AGONIST</td>\n",
       "      <td>C1CC1CN2CCC34C5C(=O)CCC3(C2CC6=C4C(=CC=C6)O5)O...</td>\n",
       "    </tr>\n",
       "    <tr>\n",
       "      <th>2</th>\n",
       "      <td>44339475</td>\n",
       "      <td>PARTIAL AGONIST</td>\n",
       "      <td>C1CC1CN2CCC34CC(=O)CCC3(C2CC5=C4C(=CC=C5)O)OCC...</td>\n",
       "    </tr>\n",
       "    <tr>\n",
       "      <th>3</th>\n",
       "      <td>44339521</td>\n",
       "      <td>PARTIAL AGONIST</td>\n",
       "      <td>COC1=CC=CC2=C1C34CCN(C(C2)C3(CCC(=O)C4)OCCCC5=...</td>\n",
       "    </tr>\n",
       "    <tr>\n",
       "      <th>4</th>\n",
       "      <td>5359966</td>\n",
       "      <td>PARTIAL AGONIST</td>\n",
       "      <td>C1CCC23CCN(C(C2C1)CC4=C3C=C(C=C4)O)CC5CC5</td>\n",
       "    </tr>\n",
       "    <tr>\n",
       "      <th>...</th>\n",
       "      <td>...</td>\n",
       "      <td>...</td>\n",
       "      <td>...</td>\n",
       "    </tr>\n",
       "    <tr>\n",
       "      <th>207</th>\n",
       "      <td>132990963</td>\n",
       "      <td>AGONIST</td>\n",
       "      <td>C1CCC(CC1)N2CCN(CC2)C(CC3=CC=CC=C3)C4=CC=C(C=C4)F</td>\n",
       "    </tr>\n",
       "    <tr>\n",
       "      <th>208</th>\n",
       "      <td>132990975</td>\n",
       "      <td>AGONIST</td>\n",
       "      <td>C1CCC(CC1)N2CCN(CC2)C(CC3=CC=CC=C3)C4=CC=CC=C4F</td>\n",
       "    </tr>\n",
       "    <tr>\n",
       "      <th>209</th>\n",
       "      <td>134156377</td>\n",
       "      <td>AGONIST</td>\n",
       "      <td>CN1CC[C@]23[C@@H]4[C@H]1CC5=C2C(=C(C=C5)OC)O[C...</td>\n",
       "    </tr>\n",
       "    <tr>\n",
       "      <th>210</th>\n",
       "      <td>137434175</td>\n",
       "      <td>ANTAGONIST</td>\n",
       "      <td>CCC1=CC2=C(C(=C(N=C2C(=C1)F)N3CCC(CC3)NC4CCOCC...</td>\n",
       "    </tr>\n",
       "    <tr>\n",
       "      <th>211</th>\n",
       "      <td>145993966</td>\n",
       "      <td>AGONIST</td>\n",
       "      <td>CN1CC[C@]23[C@@H]4[C@H](CCC2([C@H]1CC5=C3C(=C(...</td>\n",
       "    </tr>\n",
       "  </tbody>\n",
       "</table>\n",
       "<p>296 rows × 3 columns</p>\n",
       "</div>"
      ],
      "text/plain": [
       "           cid           action  \\\n",
       "0      5748293  PARTIAL AGONIST   \n",
       "1     44339409  PARTIAL AGONIST   \n",
       "2     44339475  PARTIAL AGONIST   \n",
       "3     44339521  PARTIAL AGONIST   \n",
       "4      5359966  PARTIAL AGONIST   \n",
       "..         ...              ...   \n",
       "207  132990963          AGONIST   \n",
       "208  132990975          AGONIST   \n",
       "209  134156377          AGONIST   \n",
       "210  137434175       ANTAGONIST   \n",
       "211  145993966          AGONIST   \n",
       "\n",
       "                                                smiles  \n",
       "0     COC1=CC=CC2=C1C34CCN(C(C2)C3(CCC(=O)C4)OC)CC5CC5  \n",
       "1    C1CC1CN2CCC34C5C(=O)CCC3(C2CC6=C4C(=CC=C6)O5)O...  \n",
       "2    C1CC1CN2CCC34CC(=O)CCC3(C2CC5=C4C(=CC=C5)O)OCC...  \n",
       "3    COC1=CC=CC2=C1C34CCN(C(C2)C3(CCC(=O)C4)OCCCC5=...  \n",
       "4            C1CCC23CCN(C(C2C1)CC4=C3C=C(C=C4)O)CC5CC5  \n",
       "..                                                 ...  \n",
       "207  C1CCC(CC1)N2CCN(CC2)C(CC3=CC=CC=C3)C4=CC=C(C=C4)F  \n",
       "208    C1CCC(CC1)N2CCN(CC2)C(CC3=CC=CC=C3)C4=CC=CC=C4F  \n",
       "209  CN1CC[C@]23[C@@H]4[C@H]1CC5=C2C(=C(C=C5)OC)O[C...  \n",
       "210  CCC1=CC2=C(C(=C(N=C2C(=C1)F)N3CCC(CC3)NC4CCOCC...  \n",
       "211  CN1CC[C@]23[C@@H]4[C@H](CCC2([C@H]1CC5=C3C(=C(...  \n",
       "\n",
       "[296 rows x 3 columns]"
      ]
     },
     "execution_count": 44,
     "metadata": {},
     "output_type": "execute_result"
    }
   ],
   "source": [
    "final_df"
   ]
  },
  {
   "cell_type": "code",
   "execution_count": null,
   "metadata": {},
   "outputs": [],
   "source": [
    "final_df.set_index(\"cid\", inplace=True)\n",
    "final_df.to_csv(\"data/processed/final.csv\")"
   ]
  }
 ],
 "metadata": {
  "interpreter": {
   "hash": "a7b1bf7cda555139a90bb8f30917beea45d65add00b5946fe39a8fc1c4accc0c"
  },
  "kernelspec": {
   "display_name": "Python 3.7.13 ('m2vec')",
   "language": "python",
   "name": "python3"
  },
  "language_info": {
   "codemirror_mode": {
    "name": "ipython",
    "version": 3
   },
   "file_extension": ".py",
   "mimetype": "text/x-python",
   "name": "python",
   "nbconvert_exporter": "python",
   "pygments_lexer": "ipython3",
   "version": "3.7.13"
  },
  "orig_nbformat": 4
 },
 "nbformat": 4,
 "nbformat_minor": 2
}
