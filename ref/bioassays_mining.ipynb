{
 "cells": [
  {
   "cell_type": "code",
   "execution_count": 213,
   "metadata": {},
   "outputs": [],
   "source": [
    "import pandas as pd"
   ]
  },
  {
   "cell_type": "code",
   "execution_count": 214,
   "metadata": {},
   "outputs": [],
   "source": [
    "# columns = ['aid', 'aidtype', 'aidname', 'aiddesc', 'aidsrcid', 'aidsrcname',\n",
    "#        'aidextid', 'aidmdate', 'cids', 'sids', 'geneids', 'aidcategories',\n",
    "#        'protacxns', 'depcatg', 'pmids', 'rnai', 'ecs', 'repacxns',\n",
    "#        'taxids', 'cellids', 'targettaxid', 'annotation']\n",
    "\n",
    "# mu_agonist = pd.read_csv(\"bioassays/mu/mu_agonist.csv\")\n",
    "# mu_antagonist = pd.read_csv(\"bioassays/mu/mu_antagonist.csv\")\n",
    "# mu_partial_agonist = pd.read_csv(\"bioassays/mu/mu_partial_agonist.csv\")\n",
    "# mu_other = pd.read_csv(\"bioassays/mu/mu_other.csv\")\n",
    "\n",
    "# mu_agonist = mu_agonist[columns]\n",
    "# mu_antagonist = mu_antagonist[columns]\n",
    "# mu_partial_agonist = mu_partial_agonist[columns]\n",
    "# mu_other = mu_other[columns]\n",
    "\n",
    "# df_combined = pd.concat([mu_agonist, mu_antagonist, mu_partial_agonist, mu_other], axis=0)\n",
    "# df_combined.drop_duplicates(inplace=True)\n",
    "# df_combined\n",
    "\n",
    "df_combined = pd.read_csv(\"PROTACXN_P35372_bioassay.csv\")"
   ]
  },
  {
   "cell_type": "code",
   "execution_count": 215,
   "metadata": {},
   "outputs": [
    {
     "data": {
      "text/plain": [
       "0       https://pubchem.ncbi.nlm.nih.gov/rest/pug/assa...\n",
       "1       https://pubchem.ncbi.nlm.nih.gov/rest/pug/assa...\n",
       "2       https://pubchem.ncbi.nlm.nih.gov/rest/pug/assa...\n",
       "3       https://pubchem.ncbi.nlm.nih.gov/rest/pug/assa...\n",
       "4       https://pubchem.ncbi.nlm.nih.gov/rest/pug/assa...\n",
       "                              ...                        \n",
       "1939    https://pubchem.ncbi.nlm.nih.gov/rest/pug/assa...\n",
       "1940    https://pubchem.ncbi.nlm.nih.gov/rest/pug/assa...\n",
       "1941    https://pubchem.ncbi.nlm.nih.gov/rest/pug/assa...\n",
       "1942    https://pubchem.ncbi.nlm.nih.gov/rest/pug/assa...\n",
       "1943    https://pubchem.ncbi.nlm.nih.gov/rest/pug/assa...\n",
       "Name: links, Length: 1944, dtype: object"
      ]
     },
     "execution_count": 215,
     "metadata": {},
     "output_type": "execute_result"
    }
   ],
   "source": [
    "df_combined[\"links\"] = df_combined.aid.apply(lambda x : \"https://pubchem.ncbi.nlm.nih.gov/rest/pug/assay/aid/{}/CSV\".format(x))\n",
    "df_combined[\"links\"]"
   ]
  },
  {
   "cell_type": "code",
   "execution_count": 216,
   "metadata": {},
   "outputs": [
    {
     "data": {
      "text/plain": [
       "36"
      ]
     },
     "execution_count": 216,
     "metadata": {},
     "output_type": "execute_result"
    }
   ],
   "source": [
    "mu_partial_agonist = pd.read_csv(\"bioassays/mu/mu_partial_agonist.csv\")\n",
    "titles = mu_partial_agonist.aiddesc.drop_duplicates().values.tolist()\n",
    "# for title in titles:\n",
    "#     print(title[:70])\n",
    "len(titles)"
   ]
  },
  {
   "cell_type": "code",
   "execution_count": 217,
   "metadata": {},
   "outputs": [
    {
     "data": {
      "text/plain": [
       "0     https://pubchem.ncbi.nlm.nih.gov/rest/pug/assa...\n",
       "1     https://pubchem.ncbi.nlm.nih.gov/rest/pug/assa...\n",
       "2     https://pubchem.ncbi.nlm.nih.gov/rest/pug/assa...\n",
       "3     https://pubchem.ncbi.nlm.nih.gov/rest/pug/assa...\n",
       "4     https://pubchem.ncbi.nlm.nih.gov/rest/pug/assa...\n",
       "                            ...                        \n",
       "81    https://pubchem.ncbi.nlm.nih.gov/rest/pug/assa...\n",
       "82    https://pubchem.ncbi.nlm.nih.gov/rest/pug/assa...\n",
       "83    https://pubchem.ncbi.nlm.nih.gov/rest/pug/assa...\n",
       "84    https://pubchem.ncbi.nlm.nih.gov/rest/pug/assa...\n",
       "85    https://pubchem.ncbi.nlm.nih.gov/rest/pug/assa...\n",
       "Name: links, Length: 86, dtype: object"
      ]
     },
     "execution_count": 217,
     "metadata": {},
     "output_type": "execute_result"
    }
   ],
   "source": [
    "mu_partial_agonist[\"links\"] = mu_partial_agonist.aid.apply(lambda x : \"https://pubchem.ncbi.nlm.nih.gov/rest/pug/assay/aid/{}/CSV\".format(x))\n",
    "mu_partial_agonist[\"links\"]"
   ]
  },
  {
   "cell_type": "code",
   "execution_count": 417,
   "metadata": {},
   "outputs": [
    {
     "ename": "IndexError",
     "evalue": "list index out of range",
     "output_type": "error",
     "traceback": [
      "\u001b[1;31m---------------------------------------------------------------------------\u001b[0m",
      "\u001b[1;31mIndexError\u001b[0m                                Traceback (most recent call last)",
      "\u001b[1;32m~\\AppData\\Local\\Temp\\ipykernel_17280\\1142341222.py\u001b[0m in \u001b[0;36m<module>\u001b[1;34m\u001b[0m\n\u001b[0;32m      1\u001b[0m \u001b[0midx\u001b[0m \u001b[1;33m=\u001b[0m \u001b[1;36m36\u001b[0m\u001b[1;33m\u001b[0m\u001b[1;33m\u001b[0m\u001b[0m\n\u001b[1;32m----> 2\u001b[1;33m \u001b[0mcurrent_title\u001b[0m \u001b[1;33m=\u001b[0m \u001b[0mtitles\u001b[0m\u001b[1;33m[\u001b[0m\u001b[0midx\u001b[0m\u001b[1;33m]\u001b[0m\u001b[1;33m\u001b[0m\u001b[1;33m\u001b[0m\u001b[0m\n\u001b[0m\u001b[0;32m      3\u001b[0m \u001b[0mcurrent_title\u001b[0m\u001b[1;33m\u001b[0m\u001b[1;33m\u001b[0m\u001b[0m\n",
      "\u001b[1;31mIndexError\u001b[0m: list index out of range"
     ]
    }
   ],
   "source": [
    "idx = 36\n",
    "current_title = titles[idx]\n",
    "current_title"
   ]
  },
  {
   "cell_type": "code",
   "execution_count": null,
   "metadata": {},
   "outputs": [
    {
     "data": {
      "text/plain": [
       "['https://pubchem.ncbi.nlm.nih.gov/rest/pug/assay/aid/1668234/CSV']"
      ]
     },
     "execution_count": 410,
     "metadata": {},
     "output_type": "execute_result"
    }
   ],
   "source": [
    "aid_df = df_combined[df_combined.aiddesc == current_title]\n",
    "aid_links = aid_df.links.to_list()\n",
    "aid_links"
   ]
  },
  {
   "cell_type": "code",
   "execution_count": null,
   "metadata": {},
   "outputs": [],
   "source": [
    "# aid_links.append('https://pubchem.ncbi.nlm.nih.gov/rest/pug/assay/aid/76233/CSV')"
   ]
  },
  {
   "cell_type": "code",
   "execution_count": null,
   "metadata": {},
   "outputs": [],
   "source": [
    "bioassays_df = []\n",
    "for i, link in enumerate(aid_links):\n",
    "    df = pd.read_csv(link)\n",
    "    filtered_df = df[df.PUBCHEM_RESULT_TAG.str.isnumeric()]\n",
    "    # filtered_df = filtered_df[  ['PUBCHEM_CID', 'Standard Type', 'Standard Relation', 'Standard Value', 'Standard Units'] ]\n",
    "    try:\n",
    "        filtered_df = filtered_df[  ['PUBCHEM_CID', 'Standard Type','Standard Value', 'Standard Units'] ]\n",
    "        filtered_df.PUBCHEM_CID = filtered_df.PUBCHEM_CID.astype('int')\n",
    "        # filtered_df.set_index('PUBCHEM_CID', inplace=True)\n",
    "        filtered_df.reset_index(drop=True, inplace=True)\n",
    "        filtered_df.rename(columns = {'Standard Type':'Standard_Type_' + str(i), \n",
    "                                    'Standard Value':'Standard_Value_' + str(i), \n",
    "                                    'Standard Units': 'Standard_Units_' + str(i)}, inplace = True)\n",
    "        bioassays_df.append(filtered_df)\n",
    "    except:\n",
    "        print(\"idx \",i , \" not working\")\n",
    "        pass\n",
    "\n",
    "# bioassays_df"
   ]
  },
  {
   "cell_type": "code",
   "execution_count": null,
   "metadata": {},
   "outputs": [
    {
     "data": {
      "text/html": [
       "<div>\n",
       "<style scoped>\n",
       "    .dataframe tbody tr th:only-of-type {\n",
       "        vertical-align: middle;\n",
       "    }\n",
       "\n",
       "    .dataframe tbody tr th {\n",
       "        vertical-align: top;\n",
       "    }\n",
       "\n",
       "    .dataframe thead th {\n",
       "        text-align: right;\n",
       "    }\n",
       "</style>\n",
       "<table border=\"1\" class=\"dataframe\">\n",
       "  <thead>\n",
       "    <tr style=\"text-align: right;\">\n",
       "      <th></th>\n",
       "      <th>PUBCHEM_CID</th>\n",
       "      <th>Standard_Type_0</th>\n",
       "      <th>Standard_Value_0</th>\n",
       "      <th>Standard_Units_0</th>\n",
       "    </tr>\n",
       "  </thead>\n",
       "  <tbody>\n",
       "    <tr>\n",
       "      <th>0</th>\n",
       "      <td>5497186</td>\n",
       "      <td>Ki</td>\n",
       "      <td>30.7</td>\n",
       "      <td>nM</td>\n",
       "    </tr>\n",
       "    <tr>\n",
       "      <th>1</th>\n",
       "      <td>156010938</td>\n",
       "      <td>Ki</td>\n",
       "      <td>NaN</td>\n",
       "      <td>NaN</td>\n",
       "    </tr>\n",
       "    <tr>\n",
       "      <th>2</th>\n",
       "      <td>122633395</td>\n",
       "      <td>Ki</td>\n",
       "      <td>3483</td>\n",
       "      <td>nM</td>\n",
       "    </tr>\n",
       "    <tr>\n",
       "      <th>3</th>\n",
       "      <td>122633436</td>\n",
       "      <td>Ki</td>\n",
       "      <td>8668</td>\n",
       "      <td>nM</td>\n",
       "    </tr>\n",
       "    <tr>\n",
       "      <th>4</th>\n",
       "      <td>156021880</td>\n",
       "      <td>Ki</td>\n",
       "      <td>1792</td>\n",
       "      <td>nM</td>\n",
       "    </tr>\n",
       "  </tbody>\n",
       "</table>\n",
       "</div>"
      ],
      "text/plain": [
       "   PUBCHEM_CID Standard_Type_0 Standard_Value_0 Standard_Units_0\n",
       "0      5497186              Ki             30.7               nM\n",
       "1    156010938              Ki              NaN              NaN\n",
       "2    122633395              Ki             3483               nM\n",
       "3    122633436              Ki             8668               nM\n",
       "4    156021880              Ki             1792               nM"
      ]
     },
     "execution_count": 413,
     "metadata": {},
     "output_type": "execute_result"
    }
   ],
   "source": [
    "df = bioassays_df[0]\n",
    "for mined_df in bioassays_df[1:]:\n",
    "    df = df.merge(mined_df, on='PUBCHEM_CID', how='outer')\n",
    "df"
   ]
  },
  {
   "cell_type": "code",
   "execution_count": null,
   "metadata": {},
   "outputs": [
    {
     "name": "stdout",
     "output_type": "stream",
     "text": [
      "Title: Discovery of δ opioid receptor full agonists lacking a basic nitrogen atom and their antidepressant-like effects._||_Abstract: We have recently reported that the elaboration of the N-substituent in the δ opioid receptor (DOR) antagonist naltrindole (NTI) enabled the regulation of the DOR activities from full inverse agonists to weak partial agonists. The investigations of amide-type NTI derivatives revealed that N-phenylacetyl and N-dihydrocinnamoyl derivatives 3a and 3b were DOR full agonists. The same transformations were applied to a DOR agonist KNT-127 to provide the more potent DOR agonists 6a and 6b. Among the tested compounds, the most efficacious compound 6a showed dose-dependent antidepressant-like effects in the mouse forced swim test. The antidepressant-like effects by 6a seemed to be more potent than those of KNT-127, which is a more potent DOR agonist in in vitro assays. The amide-type compound like 6a may more fully penetrate into the central nervous system.\n"
     ]
    }
   ],
   "source": [
    "csv_name = current_title\n",
    "print(csv_name)\n",
    "df.set_index(\"PUBCHEM_CID\", inplace=True)\n",
    "df.to_csv(\"filtered_mu/{}_{}.csv\".format(idx, csv_name[6:30]))"
   ]
  },
  {
   "cell_type": "code",
   "execution_count": null,
   "metadata": {},
   "outputs": [],
   "source": [
    "# df = pd.read_csv(\"https://pubchem.ncbi.nlm.nih.gov/bioassay/395302#section=Data-Table\")\n",
    "# df = pd.read_csv(\"https://pubchem.ncbi.nlm.nih.gov/rest/pug/assay/aid/395302/CSV\")\n",
    "# df"
   ]
  },
  {
   "cell_type": "code",
   "execution_count": null,
   "metadata": {},
   "outputs": [],
   "source": [
    "# filtered_df = df[df.PUBCHEM_RESULT_TAG.str.isnumeric()]\n",
    "# filtered_df = filtered_df[  ['PUBCHEM_CID', 'Standard Type', 'Standard Relation' ,'Standard Value', 'Standard Units'] ]\n",
    "# filtered_df.PUBCHEM_CID = filtered_df.PUBCHEM_CID.astype('int')\n",
    "# filtered_df.set_index('PUBCHEM_CID', inplace=True)\n",
    "# filtered_df"
   ]
  }
 ],
 "metadata": {
  "interpreter": {
   "hash": "a7b1bf7cda555139a90bb8f30917beea45d65add00b5946fe39a8fc1c4accc0c"
  },
  "kernelspec": {
   "display_name": "Python 3.7.13 ('m2vec')",
   "language": "python",
   "name": "python3"
  },
  "language_info": {
   "codemirror_mode": {
    "name": "ipython",
    "version": 3
   },
   "file_extension": ".py",
   "mimetype": "text/x-python",
   "name": "python",
   "nbconvert_exporter": "python",
   "pygments_lexer": "ipython3",
   "version": "3.7.13"
  },
  "orig_nbformat": 4,
  "vscode": {
   "interpreter": {
    "hash": "0e96493a51bd56564920b25f6e7d9a6b42fec1e71eafd371ac8b473cdfeffd90"
   }
  }
 },
 "nbformat": 4,
 "nbformat_minor": 2
}
