{
 "cells": [
  {
   "cell_type": "code",
   "execution_count": 51,
   "metadata": {},
   "outputs": [],
   "source": [
    "import pandas as pd\n",
    "import numpy as np\n",
    "import seaborn as sns\n",
    "from rdkit import Chem\n",
    "import matplotlib.pyplot as plt\n",
    "import networkx as nx\n",
    "from karateclub import Graph2Vec\n"
   ]
  },
  {
   "cell_type": "code",
   "execution_count": 52,
   "metadata": {},
   "outputs": [
    {
     "data": {
      "text/plain": [
       "'4.2.0'"
      ]
     },
     "execution_count": 52,
     "metadata": {},
     "output_type": "execute_result"
    }
   ],
   "source": [
    "import gensim\n",
    "gensim.__version__"
   ]
  },
  {
   "cell_type": "code",
   "execution_count": 53,
   "metadata": {},
   "outputs": [
    {
     "data": {
      "text/plain": [
       "Index(['cid', 'smiles', 'action', 'action_gen'], dtype='object')"
      ]
     },
     "execution_count": 53,
     "metadata": {},
     "output_type": "execute_result"
    }
   ],
   "source": [
    "df = pd.read_csv(\"data/processed/basic_data.csv\")\n",
    "df.head()\n",
    "df.columns"
   ]
  },
  {
   "cell_type": "code",
   "execution_count": 54,
   "metadata": {},
   "outputs": [
    {
     "data": {
      "text/html": [
       "<div>\n",
       "<style scoped>\n",
       "    .dataframe tbody tr th:only-of-type {\n",
       "        vertical-align: middle;\n",
       "    }\n",
       "\n",
       "    .dataframe tbody tr th {\n",
       "        vertical-align: top;\n",
       "    }\n",
       "\n",
       "    .dataframe thead th {\n",
       "        text-align: right;\n",
       "    }\n",
       "</style>\n",
       "<table border=\"1\" class=\"dataframe\">\n",
       "  <thead>\n",
       "    <tr style=\"text-align: right;\">\n",
       "      <th></th>\n",
       "      <th>cid</th>\n",
       "      <th>smiles</th>\n",
       "      <th>action</th>\n",
       "      <th>action_gen</th>\n",
       "      <th>mol</th>\n",
       "    </tr>\n",
       "  </thead>\n",
       "  <tbody>\n",
       "    <tr>\n",
       "      <th>0</th>\n",
       "      <td>2159</td>\n",
       "      <td>CCN1CCCC1CNC(=O)C2=CC(=C(C=C2OC)N)S(=O)(=O)CC</td>\n",
       "      <td>AGONIST</td>\n",
       "      <td>AGONIST</td>\n",
       "      <td>&lt;rdkit.Chem.rdchem.Mol object at 0x000001808C2...</td>\n",
       "    </tr>\n",
       "    <tr>\n",
       "      <th>1</th>\n",
       "      <td>2160</td>\n",
       "      <td>CN(C)CCC=C1C2=CC=CC=C2CCC3=CC=CC=C31</td>\n",
       "      <td>BINDER</td>\n",
       "      <td>OTHER</td>\n",
       "      <td>&lt;rdkit.Chem.rdchem.Mol object at 0x000001808C2...</td>\n",
       "    </tr>\n",
       "    <tr>\n",
       "      <th>2</th>\n",
       "      <td>2562</td>\n",
       "      <td>CCN(CC)CCOCCOC(=O)C1(CCCC1)C2=CC=CC=C2</td>\n",
       "      <td>ANTAGONIST</td>\n",
       "      <td>ANTAGONIST</td>\n",
       "      <td>&lt;rdkit.Chem.rdchem.Mol object at 0x000001808C2...</td>\n",
       "    </tr>\n",
       "    <tr>\n",
       "      <th>3</th>\n",
       "      <td>3345</td>\n",
       "      <td>CCC(=O)N(C1CCN(CC1)CCC2=CC=CC=C2)C3=CC=CC=C3</td>\n",
       "      <td>AGONIST</td>\n",
       "      <td>AGONIST</td>\n",
       "      <td>&lt;rdkit.Chem.rdchem.Mol object at 0x000001808C3...</td>\n",
       "    </tr>\n",
       "    <tr>\n",
       "      <th>4</th>\n",
       "      <td>3821</td>\n",
       "      <td>CNC1(CCCCC1=O)C2=CC=CC=C2Cl</td>\n",
       "      <td>BINDER</td>\n",
       "      <td>OTHER</td>\n",
       "      <td>&lt;rdkit.Chem.rdchem.Mol object at 0x000001808C3...</td>\n",
       "    </tr>\n",
       "    <tr>\n",
       "      <th>...</th>\n",
       "      <td>...</td>\n",
       "      <td>...</td>\n",
       "      <td>...</td>\n",
       "      <td>...</td>\n",
       "      <td>...</td>\n",
       "    </tr>\n",
       "    <tr>\n",
       "      <th>166</th>\n",
       "      <td>132990963</td>\n",
       "      <td>C1CCC(CC1)N2CCN(CC2)C(CC3=CC=CC=C3)C4=CC=C(C=C4)F</td>\n",
       "      <td>AGONIST</td>\n",
       "      <td>AGONIST</td>\n",
       "      <td>&lt;rdkit.Chem.rdchem.Mol object at 0x000001808C3...</td>\n",
       "    </tr>\n",
       "    <tr>\n",
       "      <th>167</th>\n",
       "      <td>132990975</td>\n",
       "      <td>C1CCC(CC1)N2CCN(CC2)C(CC3=CC=CC=C3)C4=CC=CC=C4F</td>\n",
       "      <td>AGONIST</td>\n",
       "      <td>AGONIST</td>\n",
       "      <td>&lt;rdkit.Chem.rdchem.Mol object at 0x000001808C3...</td>\n",
       "    </tr>\n",
       "    <tr>\n",
       "      <th>168</th>\n",
       "      <td>134156377</td>\n",
       "      <td>CN1CC[C@]23[C@@H]4[C@H]1CC5=C2C(=C(C=C5)OC)O[C...</td>\n",
       "      <td>AGONIST</td>\n",
       "      <td>AGONIST</td>\n",
       "      <td>&lt;rdkit.Chem.rdchem.Mol object at 0x000001808C3...</td>\n",
       "    </tr>\n",
       "    <tr>\n",
       "      <th>169</th>\n",
       "      <td>137434175</td>\n",
       "      <td>CCC1=CC2=C(C(=C(N=C2C(=C1)F)N3CCC(CC3)NC4CCOCC...</td>\n",
       "      <td>ANTAGONIST</td>\n",
       "      <td>ANTAGONIST</td>\n",
       "      <td>&lt;rdkit.Chem.rdchem.Mol object at 0x000001808C3...</td>\n",
       "    </tr>\n",
       "    <tr>\n",
       "      <th>170</th>\n",
       "      <td>145993966</td>\n",
       "      <td>CN1CC[C@]23[C@@H]4[C@H](CCC2([C@H]1CC5=C3C(=C(...</td>\n",
       "      <td>AGONIST</td>\n",
       "      <td>AGONIST</td>\n",
       "      <td>&lt;rdkit.Chem.rdchem.Mol object at 0x000001808C3...</td>\n",
       "    </tr>\n",
       "  </tbody>\n",
       "</table>\n",
       "<p>171 rows × 5 columns</p>\n",
       "</div>"
      ],
      "text/plain": [
       "           cid                                             smiles      action  \\\n",
       "0         2159      CCN1CCCC1CNC(=O)C2=CC(=C(C=C2OC)N)S(=O)(=O)CC     AGONIST   \n",
       "1         2160               CN(C)CCC=C1C2=CC=CC=C2CCC3=CC=CC=C31      BINDER   \n",
       "2         2562             CCN(CC)CCOCCOC(=O)C1(CCCC1)C2=CC=CC=C2  ANTAGONIST   \n",
       "3         3345       CCC(=O)N(C1CCN(CC1)CCC2=CC=CC=C2)C3=CC=CC=C3     AGONIST   \n",
       "4         3821                        CNC1(CCCCC1=O)C2=CC=CC=C2Cl      BINDER   \n",
       "..         ...                                                ...         ...   \n",
       "166  132990963  C1CCC(CC1)N2CCN(CC2)C(CC3=CC=CC=C3)C4=CC=C(C=C4)F     AGONIST   \n",
       "167  132990975    C1CCC(CC1)N2CCN(CC2)C(CC3=CC=CC=C3)C4=CC=CC=C4F     AGONIST   \n",
       "168  134156377  CN1CC[C@]23[C@@H]4[C@H]1CC5=C2C(=C(C=C5)OC)O[C...     AGONIST   \n",
       "169  137434175  CCC1=CC2=C(C(=C(N=C2C(=C1)F)N3CCC(CC3)NC4CCOCC...  ANTAGONIST   \n",
       "170  145993966  CN1CC[C@]23[C@@H]4[C@H](CCC2([C@H]1CC5=C3C(=C(...     AGONIST   \n",
       "\n",
       "     action_gen                                                mol  \n",
       "0       AGONIST  <rdkit.Chem.rdchem.Mol object at 0x000001808C2...  \n",
       "1         OTHER  <rdkit.Chem.rdchem.Mol object at 0x000001808C2...  \n",
       "2    ANTAGONIST  <rdkit.Chem.rdchem.Mol object at 0x000001808C2...  \n",
       "3       AGONIST  <rdkit.Chem.rdchem.Mol object at 0x000001808C3...  \n",
       "4         OTHER  <rdkit.Chem.rdchem.Mol object at 0x000001808C3...  \n",
       "..          ...                                                ...  \n",
       "166     AGONIST  <rdkit.Chem.rdchem.Mol object at 0x000001808C3...  \n",
       "167     AGONIST  <rdkit.Chem.rdchem.Mol object at 0x000001808C3...  \n",
       "168     AGONIST  <rdkit.Chem.rdchem.Mol object at 0x000001808C3...  \n",
       "169  ANTAGONIST  <rdkit.Chem.rdchem.Mol object at 0x000001808C3...  \n",
       "170     AGONIST  <rdkit.Chem.rdchem.Mol object at 0x000001808C3...  \n",
       "\n",
       "[171 rows x 5 columns]"
      ]
     },
     "execution_count": 54,
     "metadata": {},
     "output_type": "execute_result"
    }
   ],
   "source": [
    "df['mol'] = df['smiles'].apply(lambda x: Chem.MolFromSmiles(x)) \n",
    "df"
   ]
  },
  {
   "cell_type": "code",
   "execution_count": 55,
   "metadata": {},
   "outputs": [
    {
     "name": "stdout",
     "output_type": "stream",
     "text": [
      ">>> create nx from mol ... \n"
     ]
    }
   ],
   "source": [
    "def mol_to_nx(mol):\n",
    "    G = nx.Graph()\n",
    "\n",
    "    for atom in mol.GetAtoms():\n",
    "        G.add_node(atom.GetIdx(),\n",
    "                   atomic_num=atom.GetAtomicNum(),\n",
    "                   is_aromatic=atom.GetIsAromatic(),\n",
    "                   atom_symbol=atom.GetSymbol())\n",
    "        \n",
    "    for bond in mol.GetBonds():\n",
    "        G.add_edge(bond.GetBeginAtomIdx(),\n",
    "                   bond.GetEndAtomIdx(),\n",
    "                   bond_type=bond.GetBondType())\n",
    "        \n",
    "    return G\n",
    "\n",
    "print(\">>> create nx from mol ... \")\n",
    "df['graph'] = df['mol'].apply(lambda x: mol_to_nx(x))"
   ]
  },
  {
   "cell_type": "code",
   "execution_count": 56,
   "metadata": {},
   "outputs": [
    {
     "data": {
      "text/html": [
       "<div>\n",
       "<style scoped>\n",
       "    .dataframe tbody tr th:only-of-type {\n",
       "        vertical-align: middle;\n",
       "    }\n",
       "\n",
       "    .dataframe tbody tr th {\n",
       "        vertical-align: top;\n",
       "    }\n",
       "\n",
       "    .dataframe thead th {\n",
       "        text-align: right;\n",
       "    }\n",
       "</style>\n",
       "<table border=\"1\" class=\"dataframe\">\n",
       "  <thead>\n",
       "    <tr style=\"text-align: right;\">\n",
       "      <th></th>\n",
       "      <th>0</th>\n",
       "      <th>1</th>\n",
       "      <th>2</th>\n",
       "      <th>3</th>\n",
       "      <th>4</th>\n",
       "      <th>5</th>\n",
       "      <th>6</th>\n",
       "      <th>7</th>\n",
       "      <th>8</th>\n",
       "      <th>9</th>\n",
       "      <th>...</th>\n",
       "      <th>118</th>\n",
       "      <th>119</th>\n",
       "      <th>120</th>\n",
       "      <th>121</th>\n",
       "      <th>122</th>\n",
       "      <th>123</th>\n",
       "      <th>124</th>\n",
       "      <th>125</th>\n",
       "      <th>126</th>\n",
       "      <th>127</th>\n",
       "    </tr>\n",
       "  </thead>\n",
       "  <tbody>\n",
       "    <tr>\n",
       "      <th>0</th>\n",
       "      <td>0.045524</td>\n",
       "      <td>-0.023846</td>\n",
       "      <td>-0.092027</td>\n",
       "      <td>0.022546</td>\n",
       "      <td>0.006270</td>\n",
       "      <td>-0.002078</td>\n",
       "      <td>0.105828</td>\n",
       "      <td>-0.040584</td>\n",
       "      <td>-0.008681</td>\n",
       "      <td>-0.003822</td>\n",
       "      <td>...</td>\n",
       "      <td>-0.014273</td>\n",
       "      <td>-0.004436</td>\n",
       "      <td>-0.022819</td>\n",
       "      <td>0.002613</td>\n",
       "      <td>0.078349</td>\n",
       "      <td>0.039283</td>\n",
       "      <td>-0.010170</td>\n",
       "      <td>0.011844</td>\n",
       "      <td>0.003348</td>\n",
       "      <td>0.019819</td>\n",
       "    </tr>\n",
       "    <tr>\n",
       "      <th>1</th>\n",
       "      <td>0.038434</td>\n",
       "      <td>-0.021535</td>\n",
       "      <td>-0.094399</td>\n",
       "      <td>0.026135</td>\n",
       "      <td>0.017022</td>\n",
       "      <td>-0.000790</td>\n",
       "      <td>0.101603</td>\n",
       "      <td>-0.041006</td>\n",
       "      <td>-0.010569</td>\n",
       "      <td>0.003719</td>\n",
       "      <td>...</td>\n",
       "      <td>-0.018592</td>\n",
       "      <td>0.002726</td>\n",
       "      <td>-0.021008</td>\n",
       "      <td>0.007050</td>\n",
       "      <td>0.073310</td>\n",
       "      <td>0.033461</td>\n",
       "      <td>-0.014585</td>\n",
       "      <td>0.002770</td>\n",
       "      <td>0.003929</td>\n",
       "      <td>0.012773</td>\n",
       "    </tr>\n",
       "    <tr>\n",
       "      <th>2</th>\n",
       "      <td>0.056417</td>\n",
       "      <td>-0.040708</td>\n",
       "      <td>-0.132055</td>\n",
       "      <td>0.044684</td>\n",
       "      <td>0.023446</td>\n",
       "      <td>-0.003657</td>\n",
       "      <td>0.141597</td>\n",
       "      <td>-0.061481</td>\n",
       "      <td>-0.010172</td>\n",
       "      <td>0.004704</td>\n",
       "      <td>...</td>\n",
       "      <td>-0.019587</td>\n",
       "      <td>0.003530</td>\n",
       "      <td>-0.040102</td>\n",
       "      <td>-0.004252</td>\n",
       "      <td>0.092254</td>\n",
       "      <td>0.037285</td>\n",
       "      <td>-0.004986</td>\n",
       "      <td>0.004268</td>\n",
       "      <td>-0.007226</td>\n",
       "      <td>0.025843</td>\n",
       "    </tr>\n",
       "    <tr>\n",
       "      <th>3</th>\n",
       "      <td>0.034672</td>\n",
       "      <td>-0.028735</td>\n",
       "      <td>-0.076572</td>\n",
       "      <td>0.016757</td>\n",
       "      <td>0.004813</td>\n",
       "      <td>0.001506</td>\n",
       "      <td>0.083726</td>\n",
       "      <td>-0.040167</td>\n",
       "      <td>-0.010704</td>\n",
       "      <td>0.002110</td>\n",
       "      <td>...</td>\n",
       "      <td>-0.009979</td>\n",
       "      <td>-0.003851</td>\n",
       "      <td>-0.020261</td>\n",
       "      <td>0.001279</td>\n",
       "      <td>0.050122</td>\n",
       "      <td>0.017639</td>\n",
       "      <td>-0.006127</td>\n",
       "      <td>0.008065</td>\n",
       "      <td>-0.001549</td>\n",
       "      <td>0.009979</td>\n",
       "    </tr>\n",
       "    <tr>\n",
       "      <th>4</th>\n",
       "      <td>0.043694</td>\n",
       "      <td>-0.035296</td>\n",
       "      <td>-0.101411</td>\n",
       "      <td>0.028097</td>\n",
       "      <td>0.014438</td>\n",
       "      <td>0.001442</td>\n",
       "      <td>0.107848</td>\n",
       "      <td>-0.048153</td>\n",
       "      <td>0.000641</td>\n",
       "      <td>-0.002874</td>\n",
       "      <td>...</td>\n",
       "      <td>-0.010477</td>\n",
       "      <td>-0.001700</td>\n",
       "      <td>-0.029795</td>\n",
       "      <td>-0.002746</td>\n",
       "      <td>0.069470</td>\n",
       "      <td>0.037860</td>\n",
       "      <td>-0.002639</td>\n",
       "      <td>0.005612</td>\n",
       "      <td>-0.004274</td>\n",
       "      <td>0.008706</td>\n",
       "    </tr>\n",
       "    <tr>\n",
       "      <th>...</th>\n",
       "      <td>...</td>\n",
       "      <td>...</td>\n",
       "      <td>...</td>\n",
       "      <td>...</td>\n",
       "      <td>...</td>\n",
       "      <td>...</td>\n",
       "      <td>...</td>\n",
       "      <td>...</td>\n",
       "      <td>...</td>\n",
       "      <td>...</td>\n",
       "      <td>...</td>\n",
       "      <td>...</td>\n",
       "      <td>...</td>\n",
       "      <td>...</td>\n",
       "      <td>...</td>\n",
       "      <td>...</td>\n",
       "      <td>...</td>\n",
       "      <td>...</td>\n",
       "      <td>...</td>\n",
       "      <td>...</td>\n",
       "      <td>...</td>\n",
       "    </tr>\n",
       "    <tr>\n",
       "      <th>166</th>\n",
       "      <td>0.029599</td>\n",
       "      <td>-0.029668</td>\n",
       "      <td>-0.082572</td>\n",
       "      <td>0.015583</td>\n",
       "      <td>0.007111</td>\n",
       "      <td>0.007779</td>\n",
       "      <td>0.089977</td>\n",
       "      <td>-0.041653</td>\n",
       "      <td>0.000129</td>\n",
       "      <td>-0.000409</td>\n",
       "      <td>...</td>\n",
       "      <td>-0.017079</td>\n",
       "      <td>-0.006070</td>\n",
       "      <td>-0.022594</td>\n",
       "      <td>-0.003671</td>\n",
       "      <td>0.063213</td>\n",
       "      <td>0.028630</td>\n",
       "      <td>-0.004695</td>\n",
       "      <td>0.005213</td>\n",
       "      <td>-0.000952</td>\n",
       "      <td>0.009261</td>\n",
       "    </tr>\n",
       "    <tr>\n",
       "      <th>167</th>\n",
       "      <td>0.038699</td>\n",
       "      <td>-0.036024</td>\n",
       "      <td>-0.092473</td>\n",
       "      <td>0.020442</td>\n",
       "      <td>0.011835</td>\n",
       "      <td>0.000116</td>\n",
       "      <td>0.107806</td>\n",
       "      <td>-0.046041</td>\n",
       "      <td>-0.006933</td>\n",
       "      <td>0.006247</td>\n",
       "      <td>...</td>\n",
       "      <td>-0.010617</td>\n",
       "      <td>-0.006245</td>\n",
       "      <td>-0.021995</td>\n",
       "      <td>-0.007144</td>\n",
       "      <td>0.073126</td>\n",
       "      <td>0.033103</td>\n",
       "      <td>-0.006642</td>\n",
       "      <td>0.011877</td>\n",
       "      <td>-0.004534</td>\n",
       "      <td>0.007553</td>\n",
       "    </tr>\n",
       "    <tr>\n",
       "      <th>168</th>\n",
       "      <td>0.061884</td>\n",
       "      <td>-0.050232</td>\n",
       "      <td>-0.151340</td>\n",
       "      <td>0.049237</td>\n",
       "      <td>0.027392</td>\n",
       "      <td>-0.000766</td>\n",
       "      <td>0.172698</td>\n",
       "      <td>-0.065002</td>\n",
       "      <td>0.002167</td>\n",
       "      <td>-0.002037</td>\n",
       "      <td>...</td>\n",
       "      <td>-0.022891</td>\n",
       "      <td>0.004741</td>\n",
       "      <td>-0.035162</td>\n",
       "      <td>0.002799</td>\n",
       "      <td>0.124157</td>\n",
       "      <td>0.048266</td>\n",
       "      <td>-0.014723</td>\n",
       "      <td>0.015802</td>\n",
       "      <td>0.000939</td>\n",
       "      <td>0.028616</td>\n",
       "    </tr>\n",
       "    <tr>\n",
       "      <th>169</th>\n",
       "      <td>0.035364</td>\n",
       "      <td>-0.022117</td>\n",
       "      <td>-0.072829</td>\n",
       "      <td>0.030010</td>\n",
       "      <td>0.011288</td>\n",
       "      <td>0.001696</td>\n",
       "      <td>0.078876</td>\n",
       "      <td>-0.027555</td>\n",
       "      <td>0.000477</td>\n",
       "      <td>-0.002903</td>\n",
       "      <td>...</td>\n",
       "      <td>-0.019145</td>\n",
       "      <td>0.000935</td>\n",
       "      <td>-0.015050</td>\n",
       "      <td>-0.002047</td>\n",
       "      <td>0.053788</td>\n",
       "      <td>0.019997</td>\n",
       "      <td>-0.000270</td>\n",
       "      <td>0.008228</td>\n",
       "      <td>0.005500</td>\n",
       "      <td>0.010125</td>\n",
       "    </tr>\n",
       "    <tr>\n",
       "      <th>170</th>\n",
       "      <td>0.064899</td>\n",
       "      <td>-0.049631</td>\n",
       "      <td>-0.146592</td>\n",
       "      <td>0.049471</td>\n",
       "      <td>0.013439</td>\n",
       "      <td>0.007160</td>\n",
       "      <td>0.160561</td>\n",
       "      <td>-0.070887</td>\n",
       "      <td>-0.006360</td>\n",
       "      <td>0.007760</td>\n",
       "      <td>...</td>\n",
       "      <td>-0.020119</td>\n",
       "      <td>0.006557</td>\n",
       "      <td>-0.040234</td>\n",
       "      <td>0.005361</td>\n",
       "      <td>0.106541</td>\n",
       "      <td>0.045225</td>\n",
       "      <td>-0.007136</td>\n",
       "      <td>0.016134</td>\n",
       "      <td>-0.001864</td>\n",
       "      <td>0.025621</td>\n",
       "    </tr>\n",
       "  </tbody>\n",
       "</table>\n",
       "<p>171 rows × 128 columns</p>\n",
       "</div>"
      ],
      "text/plain": [
       "          0         1         2         3         4         5         6    \\\n",
       "0    0.045524 -0.023846 -0.092027  0.022546  0.006270 -0.002078  0.105828   \n",
       "1    0.038434 -0.021535 -0.094399  0.026135  0.017022 -0.000790  0.101603   \n",
       "2    0.056417 -0.040708 -0.132055  0.044684  0.023446 -0.003657  0.141597   \n",
       "3    0.034672 -0.028735 -0.076572  0.016757  0.004813  0.001506  0.083726   \n",
       "4    0.043694 -0.035296 -0.101411  0.028097  0.014438  0.001442  0.107848   \n",
       "..        ...       ...       ...       ...       ...       ...       ...   \n",
       "166  0.029599 -0.029668 -0.082572  0.015583  0.007111  0.007779  0.089977   \n",
       "167  0.038699 -0.036024 -0.092473  0.020442  0.011835  0.000116  0.107806   \n",
       "168  0.061884 -0.050232 -0.151340  0.049237  0.027392 -0.000766  0.172698   \n",
       "169  0.035364 -0.022117 -0.072829  0.030010  0.011288  0.001696  0.078876   \n",
       "170  0.064899 -0.049631 -0.146592  0.049471  0.013439  0.007160  0.160561   \n",
       "\n",
       "          7         8         9    ...       118       119       120  \\\n",
       "0   -0.040584 -0.008681 -0.003822  ... -0.014273 -0.004436 -0.022819   \n",
       "1   -0.041006 -0.010569  0.003719  ... -0.018592  0.002726 -0.021008   \n",
       "2   -0.061481 -0.010172  0.004704  ... -0.019587  0.003530 -0.040102   \n",
       "3   -0.040167 -0.010704  0.002110  ... -0.009979 -0.003851 -0.020261   \n",
       "4   -0.048153  0.000641 -0.002874  ... -0.010477 -0.001700 -0.029795   \n",
       "..        ...       ...       ...  ...       ...       ...       ...   \n",
       "166 -0.041653  0.000129 -0.000409  ... -0.017079 -0.006070 -0.022594   \n",
       "167 -0.046041 -0.006933  0.006247  ... -0.010617 -0.006245 -0.021995   \n",
       "168 -0.065002  0.002167 -0.002037  ... -0.022891  0.004741 -0.035162   \n",
       "169 -0.027555  0.000477 -0.002903  ... -0.019145  0.000935 -0.015050   \n",
       "170 -0.070887 -0.006360  0.007760  ... -0.020119  0.006557 -0.040234   \n",
       "\n",
       "          121       122       123       124       125       126       127  \n",
       "0    0.002613  0.078349  0.039283 -0.010170  0.011844  0.003348  0.019819  \n",
       "1    0.007050  0.073310  0.033461 -0.014585  0.002770  0.003929  0.012773  \n",
       "2   -0.004252  0.092254  0.037285 -0.004986  0.004268 -0.007226  0.025843  \n",
       "3    0.001279  0.050122  0.017639 -0.006127  0.008065 -0.001549  0.009979  \n",
       "4   -0.002746  0.069470  0.037860 -0.002639  0.005612 -0.004274  0.008706  \n",
       "..        ...       ...       ...       ...       ...       ...       ...  \n",
       "166 -0.003671  0.063213  0.028630 -0.004695  0.005213 -0.000952  0.009261  \n",
       "167 -0.007144  0.073126  0.033103 -0.006642  0.011877 -0.004534  0.007553  \n",
       "168  0.002799  0.124157  0.048266 -0.014723  0.015802  0.000939  0.028616  \n",
       "169 -0.002047  0.053788  0.019997 -0.000270  0.008228  0.005500  0.010125  \n",
       "170  0.005361  0.106541  0.045225 -0.007136  0.016134 -0.001864  0.025621  \n",
       "\n",
       "[171 rows x 128 columns]"
      ]
     },
     "execution_count": 56,
     "metadata": {},
     "output_type": "execute_result"
    }
   ],
   "source": [
    "model = Graph2Vec()\n",
    "model.fit(df['graph'])\n",
    "df_graph2vec = model.get_embedding()\n",
    "df_graph2vec = pd.DataFrame(df_graph2vec)\n",
    "df_graph2vec"
   ]
  },
  {
   "cell_type": "code",
   "execution_count": 57,
   "metadata": {},
   "outputs": [],
   "source": [
    "from sklearn.decomposition import PCA\n",
    "from sklearn.cluster import KMeans\n",
    "\n",
    "from sklearn.preprocessing import StandardScaler\n",
    "from sklearn.preprocessing import MinMaxScaler\n",
    "from sklearn.preprocessing import LabelEncoder\n",
    "\n",
    "from sklearn.metrics import rand_score"
   ]
  },
  {
   "cell_type": "code",
   "execution_count": 58,
   "metadata": {},
   "outputs": [
    {
     "name": "stdout",
     "output_type": "stream",
     "text": [
      "0.033041863549925665\n"
     ]
    },
    {
     "name": "stderr",
     "output_type": "stream",
     "text": [
      "c:\\Users\\Public\\anaconda3\\envs\\kclub\\lib\\site-packages\\seaborn\\_decorators.py:43: FutureWarning: Pass the following variables as keyword args: x, y. From version 0.12, the only valid positional argument will be `data`, and passing other arguments without an explicit keyword will result in an error or misinterpretation.\n",
      "  FutureWarning\n"
     ]
    },
    {
     "data": {
      "text/plain": [
       "<AxesSubplot:>"
      ]
     },
     "execution_count": 58,
     "metadata": {},
     "output_type": "execute_result"
    },
    {
     "data": {
      "image/png": "[encoded data removed]",
      "text/plain": [
       "<Figure size 432x288 with 1 Axes>"
      ]
     },
     "metadata": {
      "needs_background": "light"
     },
     "output_type": "display_data"
    }
   ],
   "source": [
    "# scaler = StandardScaler()\n",
    "# df_graph2vec_scaled = scaler.fit_transform(df_graph2vec)\n",
    "\n",
    "df_graph2vec_scaled = df_graph2vec\n",
    "\n",
    "pca = PCA().fit(df_graph2vec_scaled)\n",
    "pc = pca.transform(df_graph2vec_scaled)\n",
    "\n",
    "var = pca.explained_variance_[:10] / sum(pca.explained_variance_)\n",
    "labels = ['PC'+ str(i) for i in range(1,11)]\n",
    "\n",
    "print(sum(pca.explained_variance_))\n",
    "sns.barplot(labels, var)"
   ]
  },
  {
   "cell_type": "code",
   "execution_count": 59,
   "metadata": {},
   "outputs": [
    {
     "data": {
      "image/png": "[encoded data removed]",
      "text/plain": [
       "<Figure size 432x288 with 1 Axes>"
      ]
     },
     "metadata": {
      "needs_background": "light"
     },
     "output_type": "display_data"
    }
   ],
   "source": [
    "pca_num_components = 2\n",
    "\n",
    "reduced_data = PCA(n_components=pca_num_components).fit_transform(df_graph2vec_scaled)\n",
    "results = pd.DataFrame(reduced_data, columns=['pca1','pca2'])\n",
    "\n",
    "sns.scatterplot(x=\"pca1\", y=\"pca2\", hue=df['action_gen'], data=results)\n",
    "plt.title('Clusters on PCA with actual values')\n",
    "plt.show()"
   ]
  },
  {
   "cell_type": "code",
   "execution_count": 60,
   "metadata": {},
   "outputs": [
    {
     "data": {
      "text/plain": [
       "0      1\n",
       "1      1\n",
       "2      0\n",
       "3      1\n",
       "4      1\n",
       "      ..\n",
       "166    1\n",
       "167    1\n",
       "168    0\n",
       "169    1\n",
       "170    0\n",
       "Name: clusters, Length: 171, dtype: int32"
      ]
     },
     "execution_count": 60,
     "metadata": {},
     "output_type": "execute_result"
    }
   ],
   "source": [
    "clustering_kmeans = KMeans(n_clusters=3)\n",
    "results['clusters'] = clustering_kmeans.fit_predict(results)\n",
    "results['clusters']"
   ]
  },
  {
   "cell_type": "code",
   "execution_count": 61,
   "metadata": {},
   "outputs": [
    {
     "data": {
      "image/png": "[encoded data removed]",
      "text/plain": [
       "<Figure size 432x288 with 1 Axes>"
      ]
     },
     "metadata": {
      "needs_background": "light"
     },
     "output_type": "display_data"
    }
   ],
   "source": [
    "sns.scatterplot(x=\"pca1\", y=\"pca2\", hue=results['clusters'], data=results)\n",
    "plt.title('Clusters on PCA with clusters labels')\n",
    "plt.show()"
   ]
  },
  {
   "cell_type": "code",
   "execution_count": 62,
   "metadata": {},
   "outputs": [
    {
     "name": "stdout",
     "output_type": "stream",
     "text": [
      "1    78\n",
      "0    77\n",
      "2    16\n",
      "Name: clusters, dtype: int64\n",
      "rand_score:  0.48813209494324045\n",
      "Accuracy 0.4678362573099415\n"
     ]
    }
   ],
   "source": [
    "print(results['clusters'].value_counts())\n",
    "cluster_dict = dict(results['clusters'].value_counts())\n",
    "cluster_dict = dict(sorted(cluster_dict.items(), key=lambda item: item[1], reverse=True)).keys()\n",
    "cluster_dict = list(cluster_dict)\n",
    "\n",
    "results['action_gen'] = df['action_gen']\n",
    "results['action_gen_cluster'] = results['clusters'].map({cluster_dict[0]: 'AGONIST', cluster_dict[1]: 'ANTAGONIST', cluster_dict[2]: 'OTHER'})\n",
    "\n",
    "print('rand_score: ', rand_score(results.action_gen, results.clusters))\n",
    "print('Accuracy', results[results.action_gen == results.action_gen_cluster].shape[0] / results.shape[0])"
   ]
  },
  {
   "cell_type": "markdown",
   "metadata": {},
   "source": [
    "## Cluster directly"
   ]
  },
  {
   "cell_type": "code",
   "execution_count": 63,
   "metadata": {},
   "outputs": [
    {
     "data": {
      "text/plain": [
       "0      1\n",
       "1      1\n",
       "2      0\n",
       "3      1\n",
       "4      1\n",
       "      ..\n",
       "166    1\n",
       "167    1\n",
       "168    0\n",
       "169    1\n",
       "170    0\n",
       "Name: clusters, Length: 171, dtype: int32"
      ]
     },
     "execution_count": 63,
     "metadata": {},
     "output_type": "execute_result"
    }
   ],
   "source": [
    "clustering_kmeans = KMeans(n_clusters=3)\n",
    "df_graph2vec['clusters'] = clustering_kmeans.fit_predict(df_graph2vec_scaled)\n",
    "df_graph2vec['clusters']"
   ]
  },
  {
   "cell_type": "code",
   "execution_count": 64,
   "metadata": {},
   "outputs": [
    {
     "name": "stdout",
     "output_type": "stream",
     "text": [
      "1    78\n",
      "0    77\n",
      "2    16\n",
      "Name: clusters, dtype: int64\n",
      "rand_score:  0.48813209494324045\n",
      "Accuracy 0.4678362573099415\n"
     ]
    }
   ],
   "source": [
    "# sort keys based on number of values in each clusters\n",
    "print(df_graph2vec['clusters'].value_counts())\n",
    "cluster_dict = dict(df_graph2vec['clusters'].value_counts())\n",
    "cluster_dict = dict(sorted(cluster_dict.items(), key=lambda item: item[1], reverse=True)).keys()\n",
    "cluster_dict = list(cluster_dict)\n",
    "\n",
    "df_graph2vec['action_gen'] = df['action_gen']\n",
    "df_graph2vec['action_gen_cluster'] = df_graph2vec['clusters'].map({cluster_dict[0]: 'AGONIST', cluster_dict[1]: 'ANTAGONIST', cluster_dict[2]: 'OTHER'})\n",
    "\n",
    "print('rand_score: ', rand_score(df_graph2vec.action_gen, df_graph2vec.action_gen_cluster))\n",
    "print('Accuracy', df_graph2vec[df_graph2vec.action_gen == df_graph2vec.action_gen_cluster].shape[0] / df_graph2vec.shape[0])"
   ]
  }
 ],
 "metadata": {
  "interpreter": {
   "hash": "a3bd2151d7a300933a6c1111f4cc7e1ec84004bb2c4b451e2933cc10743a2a2c"
  },
  "kernelspec": {
   "display_name": "Python 3.7.13 ('kclub')",
   "language": "python",
   "name": "python3"
  },
  "language_info": {
   "codemirror_mode": {
    "name": "ipython",
    "version": 3
   },
   "file_extension": ".py",
   "mimetype": "text/x-python",
   "name": "python",
   "nbconvert_exporter": "python",
   "pygments_lexer": "ipython3",
   "version": "3.7.13"
  },
  "orig_nbformat": 4
 },
 "nbformat": 4,
 "nbformat_minor": 2
}
