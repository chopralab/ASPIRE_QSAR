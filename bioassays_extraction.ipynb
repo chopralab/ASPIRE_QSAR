{
 "cells": [
  {
   "cell_type": "code",
   "execution_count": 177,
   "metadata": {},
   "outputs": [],
   "source": [
    "import pandas as pd\n",
    "import numpy as np\n",
    "import seaborn as sns\n",
    "import matplotlib.pyplot as plt\n",
    "from rdkit import Chem\n",
    "import re\n",
    "import os"
   ]
  },
  {
   "cell_type": "code",
   "execution_count": 178,
   "metadata": {},
   "outputs": [
    {
     "data": {
      "text/plain": [
       "Index(['aid', 'aidtype', 'aidname', 'aiddesc', 'aidsrcid', 'aidsrcname',\n",
       "       'aidextid', 'aidmdate', 'cids', 'sids', 'geneids', 'aidcategories',\n",
       "       'protacxns', 'depcatg', 'pmids', 'rnai', 'ecs', 'repacxns', 'taxids',\n",
       "       'cellids', 'targettaxid', 'annotation'],\n",
       "      dtype='object')"
      ]
     },
     "execution_count": 178,
     "metadata": {},
     "output_type": "execute_result"
    }
   ],
   "source": [
    "# df = pd.read_csv('data/raw/bioassays/PROTACXN_P35372_bioassay.csv')\n",
    "# receptor_type = \"mu\"\n",
    "# df = pd.read_csv('data/raw/bioassays/PROTACXN_P41143_bioassay.csv')\n",
    "# receptor_type = \"delta\"\n",
    "# df = pd.read_csv('data/raw/bioassays/PROTACXN_P41145_bioassay.csv')\n",
    "# receptor_type = \"kappa\"\n",
    "# df = pd.read_csv('data/raw/bioassays/PROTACXN_P41146_bioassay.csv')\n",
    "# receptor_type = \"nociception\"\n",
    "# df = pd.read_csv('data/raw/bioassays/PROTACXN_P14416_bioassay.csv')\n",
    "# receptor_type = \"D2LDR\"\n",
    "# df = pd.read_csv('data/raw/bioassays/PROTACXN_P35462_bioassay.csv')\n",
    "# receptor_type = \"D3DR\"\n",
    "# df = pd.read_csv('data/raw/bioassays/PROTACXN_Q8TCU5_bioassay.csv')\n",
    "# receptor_type = \"NMDAR\"\n",
    "df = pd.read_csv('data/raw/bioassays/PROTACXN_P42261_bioassay.csv')\n",
    "receptor_type = \"AMPAR\"\n",
    "df.columns"
   ]
  },
  {
   "cell_type": "code",
   "execution_count": 179,
   "metadata": {},
   "outputs": [],
   "source": [
    "outdir = \"bioassays/\" + receptor_type + \"/\"\n",
    "if not os.path.exists(outdir):\n",
    "    os.mkdir(outdir)"
   ]
  },
  {
   "cell_type": "code",
   "execution_count": 180,
   "metadata": {},
   "outputs": [],
   "source": [
    "def filter(x):\n",
    "    x = x.lower()\n",
    "    if \"partial agonist\" in x or \"partial-agonist\" in x:\n",
    "        return 1\n",
    "    if \"partial agonists\" in x or \"partial-agonists\" in x:\n",
    "        return 1\n",
    "    if \"partial agonism\" in x or \"partial-agonism\" in x:\n",
    "        return 1\n",
    "    else:\n",
    "        return 0\n",
    "    \n",
    "df['partial_agonist_desc']= df.aiddesc.apply(filter)\n",
    "df['partial_agonist_aidname']= df.aidname.apply(filter)"
   ]
  },
  {
   "cell_type": "code",
   "execution_count": 181,
   "metadata": {},
   "outputs": [],
   "source": [
    "def filter(x):\n",
    "    x = x.lower()\n",
    "    if \"agonist\" in x:\n",
    "        return 1\n",
    "    if \"agonists\" in x:\n",
    "        return 1\n",
    "    if \"agonism\" in x:\n",
    "        return 1\n",
    "    else:\n",
    "        return 0\n",
    "    \n",
    "df['agonist_desc']= df.aiddesc.apply(filter)\n",
    "df['agonist_aidname']= df.aidname.apply(filter)"
   ]
  },
  {
   "cell_type": "code",
   "execution_count": 182,
   "metadata": {},
   "outputs": [],
   "source": [
    "def filter(x):\n",
    "    x = x.lower()\n",
    "    if \"antagonist\" in x:\n",
    "        return 1\n",
    "    if \"antagonists\" in x:\n",
    "        return 1\n",
    "    if \"antagonism\" in x:\n",
    "        return 1\n",
    "    else:\n",
    "        return 0\n",
    "    \n",
    "df['antagonist_desc']= df.aiddesc.apply(filter)\n",
    "df['antagonist_aidname']= df.aidname.apply(filter)"
   ]
  },
  {
   "cell_type": "code",
   "execution_count": 183,
   "metadata": {},
   "outputs": [],
   "source": [
    "compile_index = set([x for x in df.index])"
   ]
  },
  {
   "cell_type": "code",
   "execution_count": 184,
   "metadata": {},
   "outputs": [],
   "source": [
    "df_test = df.loc[((df['partial_agonist_desc'] == 1) | (df['partial_agonist_aidname'] == 1)) & \n",
    "                    ((df['agonist_desc'] == 0) | (df['agonist_aidname'] == 0)) & \n",
    "                    ((df['antagonist_desc'] == 0) | (df['antagonist_aidname'] == 0))]\n",
    "\n",
    "compile_index = compile_index - set(df_test.index)\n",
    "df_test.set_index('aid', inplace=True)\n",
    "df_test.to_csv(os.path.join(outdir, receptor_type + '_partial_agonist.csv'))"
   ]
  },
  {
   "cell_type": "code",
   "execution_count": 185,
   "metadata": {},
   "outputs": [],
   "source": [
    "df_test = df.loc[((df['partial_agonist_desc'] == 0) | (df['partial_agonist_aidname'] == 0)) &\n",
    "                ((df['agonist_desc'] == 1) | (df['agonist_aidname'] == 1)) &\n",
    "                ((df['antagonist_desc'] == 0) | (df['antagonist_aidname'] == 0))]\n",
    "\n",
    "compile_index = compile_index - set(df_test.index)\n",
    "df_test.set_index('aid', inplace=True)\n",
    "df_test.to_csv(os.path.join(outdir, receptor_type + '_agonist.csv'))"
   ]
  },
  {
   "cell_type": "code",
   "execution_count": 186,
   "metadata": {},
   "outputs": [],
   "source": [
    "df_test = df.loc[((df['partial_agonist_desc'] == 0) | (df['partial_agonist_aidname'] == 0)) &\n",
    "                ((df['agonist_desc'] == 0) | (df['agonist_aidname'] == 0)) &\n",
    "                ((df['antagonist_desc'] == 1) | (df['antagonist_aidname'] == 1))]\n",
    "\n",
    "compile_index = compile_index - set(df_test.index)\n",
    "df_test.set_index('aid', inplace=True)\n",
    "df_test.to_csv(os.path.join(outdir, receptor_type + '_antagonist.csv'))"
   ]
  },
  {
   "cell_type": "code",
   "execution_count": 187,
   "metadata": {},
   "outputs": [],
   "source": [
    "compile_index = list(compile_index)\n",
    "compile_index.sort()\n",
    "\n",
    "df_test = df.iloc[compile_index]\n",
    "df_test.to_csv(os.path.join(outdir, receptor_type + '_other.csv'))"
   ]
  }
 ],
 "metadata": {
  "interpreter": {
   "hash": "a7b1bf7cda555139a90bb8f30917beea45d65add00b5946fe39a8fc1c4accc0c"
  },
  "kernelspec": {
   "display_name": "Python 3.7.13 ('m2vec')",
   "language": "python",
   "name": "python3"
  },
  "language_info": {
   "codemirror_mode": {
    "name": "ipython",
    "version": 3
   },
   "file_extension": ".py",
   "mimetype": "text/x-python",
   "name": "python",
   "nbconvert_exporter": "python",
   "pygments_lexer": "ipython3",
   "version": "3.7.13"
  },
  "orig_nbformat": 4
 },
 "nbformat": 4,
 "nbformat_minor": 2
}
