{
 "cells": [
  {
   "cell_type": "code",
   "execution_count": 21,
   "metadata": {},
   "outputs": [],
   "source": [
    "import pandas as pd"
   ]
  },
  {
   "cell_type": "code",
   "execution_count": 22,
   "metadata": {},
   "outputs": [
    {
     "data": {
      "text/plain": [
       "45"
      ]
     },
     "execution_count": 22,
     "metadata": {},
     "output_type": "execute_result"
    }
   ],
   "source": [
    "mu_partial_agonist = pd.read_csv(\"mu_partial_agonist.csv\")\n",
    "titles = mu_partial_agonist.aiddesc.drop_duplicates().values.tolist()\n",
    "# for title in titles:\n",
    "#     print(title[:70])\n",
    "len(titles)"
   ]
  },
  {
   "cell_type": "code",
   "execution_count": 23,
   "metadata": {},
   "outputs": [
    {
     "data": {
      "text/plain": [
       "0      https://pubchem.ncbi.nlm.nih.gov/rest/pug/assa...\n",
       "1      https://pubchem.ncbi.nlm.nih.gov/rest/pug/assa...\n",
       "2      https://pubchem.ncbi.nlm.nih.gov/rest/pug/assa...\n",
       "3      https://pubchem.ncbi.nlm.nih.gov/rest/pug/assa...\n",
       "4      https://pubchem.ncbi.nlm.nih.gov/rest/pug/assa...\n",
       "                             ...                        \n",
       "140    https://pubchem.ncbi.nlm.nih.gov/rest/pug/assa...\n",
       "141    https://pubchem.ncbi.nlm.nih.gov/rest/pug/assa...\n",
       "142    https://pubchem.ncbi.nlm.nih.gov/rest/pug/assa...\n",
       "143    https://pubchem.ncbi.nlm.nih.gov/rest/pug/assa...\n",
       "144    https://pubchem.ncbi.nlm.nih.gov/rest/pug/assa...\n",
       "Name: links, Length: 145, dtype: object"
      ]
     },
     "execution_count": 23,
     "metadata": {},
     "output_type": "execute_result"
    }
   ],
   "source": [
    "mu_partial_agonist[\"links\"] = mu_partial_agonist.aid.apply(lambda x : \"https://pubchem.ncbi.nlm.nih.gov/rest/pug/assay/aid/{}/CSV\".format(x))\n",
    "mu_partial_agonist[\"links\"]"
   ]
  },
  {
   "cell_type": "code",
   "execution_count": 24,
   "metadata": {},
   "outputs": [
    {
     "data": {
      "text/plain": [
       "\"Title: Redefining the structure-activity relationships of 2,6-methano-3-benzazocines. Part 8. High affinity ligands for opioid receptors in the picomolar Ki range: oxygenated N-(2-[1,1'-biphenyl]-4-ylethyl) analogues of 8-CAC._||_Abstract: N-[2-(4'-methoxy[1,1'-biphenyl]-4-yl)ethyl]-8-CAC (1) is a high affinity (K(i)=0.084 nM) ligand for the μ opioid receptor and served as the lead compound for this study. Analogues of 1 were made in hopes of identifying an SAR within a series of oxygenated (distal) phenyl derivatives. A number of new analogues were made having single-digit pM affinity for the μ receptor. The most potent was the 3',4'-methylenedioxy analogue 18 (K(i)=1.6 pM).\""
      ]
     },
     "execution_count": 24,
     "metadata": {},
     "output_type": "execute_result"
    }
   ],
   "source": [
    "idx = 18\n",
    "current_title = titles[idx]\n",
    "current_title"
   ]
  },
  {
   "cell_type": "code",
   "execution_count": 25,
   "metadata": {},
   "outputs": [
    {
     "data": {
      "text/plain": [
       "['https://pubchem.ncbi.nlm.nih.gov/rest/pug/assay/aid/719297/CSV',\n",
       " 'https://pubchem.ncbi.nlm.nih.gov/rest/pug/assay/aid/719298/CSV']"
      ]
     },
     "execution_count": 25,
     "metadata": {},
     "output_type": "execute_result"
    }
   ],
   "source": [
    "aid_df = mu_partial_agonist[mu_partial_agonist.aiddesc == current_title]\n",
    "aid_links = aid_df.links.to_list()\n",
    "aid_links"
   ]
  },
  {
   "cell_type": "code",
   "execution_count": 26,
   "metadata": {},
   "outputs": [],
   "source": [
    "bioassays_df = []\n",
    "for i, link in enumerate(aid_links):\n",
    "    df = pd.read_csv(link)\n",
    "    filtered_df = df[df.PUBCHEM_RESULT_TAG.str.isnumeric()]\n",
    "    # filtered_df = filtered_df[  ['PUBCHEM_CID', 'Standard Type', 'Standard Relation', 'Standard Value', 'Standard Units'] ]\n",
    "    try:\n",
    "        filtered_df = filtered_df[  ['PUBCHEM_CID', 'Standard Type','Standard Value', 'Standard Units'] ]\n",
    "        filtered_df.PUBCHEM_CID = filtered_df.PUBCHEM_CID.astype('int')\n",
    "        # filtered_df.set_index('PUBCHEM_CID', inplace=True)\n",
    "        filtered_df.reset_index(drop=True, inplace=True)\n",
    "        filtered_df.rename(columns = {'Standard Type':'Standard_Type_' + str(i), \n",
    "                                    'Standard Value':'Standard_Value_' + str(i), \n",
    "                                    'Standard Units': 'Standard_Units_' + str(i)}, inplace = True)\n",
    "        bioassays_df.append(filtered_df)\n",
    "    except:\n",
    "        print(\"idx \",i , \" not working\")\n",
    "        pass\n",
    "\n",
    "# bioassays_df"
   ]
  },
  {
   "cell_type": "code",
   "execution_count": 27,
   "metadata": {},
   "outputs": [
    {
     "data": {
      "text/html": [
       "<div>\n",
       "<style scoped>\n",
       "    .dataframe tbody tr th:only-of-type {\n",
       "        vertical-align: middle;\n",
       "    }\n",
       "\n",
       "    .dataframe tbody tr th {\n",
       "        vertical-align: top;\n",
       "    }\n",
       "\n",
       "    .dataframe thead th {\n",
       "        text-align: right;\n",
       "    }\n",
       "</style>\n",
       "<table border=\"1\" class=\"dataframe\">\n",
       "  <thead>\n",
       "    <tr style=\"text-align: right;\">\n",
       "      <th></th>\n",
       "      <th>PUBCHEM_CID</th>\n",
       "      <th>Standard_Type_0</th>\n",
       "      <th>Standard_Value_0</th>\n",
       "      <th>Standard_Units_0</th>\n",
       "      <th>Standard_Type_1</th>\n",
       "      <th>Standard_Value_1</th>\n",
       "      <th>Standard_Units_1</th>\n",
       "    </tr>\n",
       "  </thead>\n",
       "  <tbody>\n",
       "    <tr>\n",
       "      <th>0</th>\n",
       "      <td>58443217</td>\n",
       "      <td>Emax</td>\n",
       "      <td>21</td>\n",
       "      <td>%</td>\n",
       "      <td>EC50</td>\n",
       "      <td>0.6</td>\n",
       "      <td>nM</td>\n",
       "    </tr>\n",
       "    <tr>\n",
       "      <th>1</th>\n",
       "      <td>71454361</td>\n",
       "      <td>Emax</td>\n",
       "      <td>31</td>\n",
       "      <td>%</td>\n",
       "      <td>EC50</td>\n",
       "      <td>0.5</td>\n",
       "      <td>nM</td>\n",
       "    </tr>\n",
       "    <tr>\n",
       "      <th>2</th>\n",
       "      <td>71454362</td>\n",
       "      <td>Emax</td>\n",
       "      <td>32</td>\n",
       "      <td>%</td>\n",
       "      <td>EC50</td>\n",
       "      <td>1.6</td>\n",
       "      <td>nM</td>\n",
       "    </tr>\n",
       "    <tr>\n",
       "      <th>3</th>\n",
       "      <td>71456106</td>\n",
       "      <td>Emax</td>\n",
       "      <td>48</td>\n",
       "      <td>%</td>\n",
       "      <td>EC50</td>\n",
       "      <td>1.5</td>\n",
       "      <td>nM</td>\n",
       "    </tr>\n",
       "    <tr>\n",
       "      <th>4</th>\n",
       "      <td>24873473</td>\n",
       "      <td>Emax</td>\n",
       "      <td>25</td>\n",
       "      <td>%</td>\n",
       "      <td>EC50</td>\n",
       "      <td>0.22</td>\n",
       "      <td>nM</td>\n",
       "    </tr>\n",
       "    <tr>\n",
       "      <th>5</th>\n",
       "      <td>58443234</td>\n",
       "      <td>Emax</td>\n",
       "      <td>29</td>\n",
       "      <td>%</td>\n",
       "      <td>EC50</td>\n",
       "      <td>0.15</td>\n",
       "      <td>nM</td>\n",
       "    </tr>\n",
       "    <tr>\n",
       "      <th>6</th>\n",
       "      <td>58443192</td>\n",
       "      <td>Emax</td>\n",
       "      <td>35</td>\n",
       "      <td>%</td>\n",
       "      <td>EC50</td>\n",
       "      <td>2.3</td>\n",
       "      <td>nM</td>\n",
       "    </tr>\n",
       "  </tbody>\n",
       "</table>\n",
       "</div>"
      ],
      "text/plain": [
       "   PUBCHEM_CID Standard_Type_0 Standard_Value_0 Standard_Units_0  \\\n",
       "0     58443217            Emax               21                %   \n",
       "1     71454361            Emax               31                %   \n",
       "2     71454362            Emax               32                %   \n",
       "3     71456106            Emax               48                %   \n",
       "4     24873473            Emax               25                %   \n",
       "5     58443234            Emax               29                %   \n",
       "6     58443192            Emax               35                %   \n",
       "\n",
       "  Standard_Type_1 Standard_Value_1 Standard_Units_1  \n",
       "0            EC50              0.6               nM  \n",
       "1            EC50              0.5               nM  \n",
       "2            EC50              1.6               nM  \n",
       "3            EC50              1.5               nM  \n",
       "4            EC50             0.22               nM  \n",
       "5            EC50             0.15               nM  \n",
       "6            EC50              2.3               nM  "
      ]
     },
     "execution_count": 27,
     "metadata": {},
     "output_type": "execute_result"
    }
   ],
   "source": [
    "df = bioassays_df[0]\n",
    "for mined_df in bioassays_df[1:]:\n",
    "    df = df.merge(mined_df, on='PUBCHEM_CID', how='outer')\n",
    "df"
   ]
  },
  {
   "cell_type": "code",
   "execution_count": 28,
   "metadata": {},
   "outputs": [
    {
     "name": "stdout",
     "output_type": "stream",
     "text": [
      "Title: Redefining the structure-activity relationships of 2,6-methano-3-benzazocines. Part 8. High affinity ligands for opioid receptors in the picomolar Ki range: oxygenated N-(2-[1,1'-biphenyl]-4-ylethyl) analogues of 8-CAC._||_Abstract: N-[2-(4'-methoxy[1,1'-biphenyl]-4-yl)ethyl]-8-CAC (1) is a high affinity (K(i)=0.084 nM) ligand for the μ opioid receptor and served as the lead compound for this study. Analogues of 1 were made in hopes of identifying an SAR within a series of oxygenated (distal) phenyl derivatives. A number of new analogues were made having single-digit pM affinity for the μ receptor. The most potent was the 3',4'-methylenedioxy analogue 18 (K(i)=1.6 pM).\n"
     ]
    }
   ],
   "source": [
    "csv_name = current_title\n",
    "print(csv_name)\n",
    "df.to_csv(\"{}_{}.csv\".format(csv_name[6:30], idx))"
   ]
  },
  {
   "cell_type": "code",
   "execution_count": 29,
   "metadata": {},
   "outputs": [],
   "source": [
    "# df = pd.read_csv(\"https://pubchem.ncbi.nlm.nih.gov/bioassay/395302#section=Data-Table\")\n",
    "# df = pd.read_csv(\"https://pubchem.ncbi.nlm.nih.gov/rest/pug/assay/aid/395302/CSV\")\n",
    "# df"
   ]
  },
  {
   "cell_type": "code",
   "execution_count": 30,
   "metadata": {},
   "outputs": [],
   "source": [
    "# filtered_df = df[df.PUBCHEM_RESULT_TAG.str.isnumeric()]\n",
    "# filtered_df = filtered_df[  ['PUBCHEM_CID', 'Standard Type', 'Standard Relation' ,'Standard Value', 'Standard Units'] ]\n",
    "# filtered_df.PUBCHEM_CID = filtered_df.PUBCHEM_CID.astype('int')\n",
    "# filtered_df.set_index('PUBCHEM_CID', inplace=True)\n",
    "# filtered_df"
   ]
  }
 ],
 "metadata": {
  "kernelspec": {
   "display_name": "Python 3.9.12 ('base')",
   "language": "python",
   "name": "python3"
  },
  "language_info": {
   "codemirror_mode": {
    "name": "ipython",
    "version": 3
   },
   "file_extension": ".py",
   "mimetype": "text/x-python",
   "name": "python",
   "nbconvert_exporter": "python",
   "pygments_lexer": "ipython3",
   "version": "3.9.12"
  },
  "orig_nbformat": 4,
  "vscode": {
   "interpreter": {
    "hash": "0e96493a51bd56564920b25f6e7d9a6b42fec1e71eafd371ac8b473cdfeffd90"
   }
  }
 },
 "nbformat": 4,
 "nbformat_minor": 2
}
