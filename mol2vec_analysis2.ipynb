{
 "cells": [
  {
   "cell_type": "code",
   "execution_count": 92,
   "metadata": {},
   "outputs": [],
   "source": [
    "import pandas as pd\n",
    "import numpy as np\n",
    "import seaborn as sns\n",
    "import matplotlib.pyplot as plt\n",
    "from rdkit import Chem\n",
    "from mol2vec.features import mol2alt_sentence, MolSentence, DfVec, sentences2vec\n",
    "from gensim.models import word2vec\n",
    "\n",
    "%matplotlib inline"
   ]
  },
  {
   "cell_type": "code",
   "execution_count": 93,
   "metadata": {},
   "outputs": [],
   "source": [
    "# !pip install gensim==3.0.0"
   ]
  },
  {
   "cell_type": "code",
   "execution_count": 94,
   "metadata": {},
   "outputs": [],
   "source": [
    "# !pip install scipy==1.0.0"
   ]
  },
  {
   "cell_type": "code",
   "execution_count": 95,
   "metadata": {},
   "outputs": [
    {
     "data": {
      "text/plain": [
       "Index(['Unnamed: 0', 'cid', 'smiles', 'action'], dtype='object')"
      ]
     },
     "execution_count": 95,
     "metadata": {},
     "output_type": "execute_result"
    }
   ],
   "source": [
    "df = pd.read_csv(\"data/processed/test.csv\")\n",
    "df.head()\n",
    "df.columns"
   ]
  },
  {
   "cell_type": "code",
   "execution_count": 96,
   "metadata": {},
   "outputs": [
    {
     "data": {
      "text/plain": [
       "'3.0.0'"
      ]
     },
     "execution_count": 96,
     "metadata": {},
     "output_type": "execute_result"
    }
   ],
   "source": [
    "import gensim\n",
    "gensim.__version__"
   ]
  },
  {
   "cell_type": "code",
   "execution_count": 97,
   "metadata": {},
   "outputs": [],
   "source": [
    "# remove null values\n",
    "df = df[~df[\"action\"].isnull()]"
   ]
  },
  {
   "cell_type": "code",
   "execution_count": 98,
   "metadata": {},
   "outputs": [
    {
     "data": {
      "text/plain": [
       "AGONIST            108\n",
       "ANTAGONIST          57\n",
       "FULL AGONIST        19\n",
       "PARTIAL AGONIST     14\n",
       "POSITIVE             4\n",
       "BINDER               2\n",
       "NEUTRAL              2\n",
       "BIASED AGONIST       2\n",
       "OTHER/UNKNOWN        1\n",
       "LIGAND               1\n",
       "Name: action, dtype: int64"
      ]
     },
     "execution_count": 98,
     "metadata": {},
     "output_type": "execute_result"
    }
   ],
   "source": [
    "df['action'].value_counts()"
   ]
  },
  {
   "cell_type": "code",
   "execution_count": 99,
   "metadata": {},
   "outputs": [
    {
     "data": {
      "text/plain": [
       "AGONIST            127\n",
       "ANTAGONIST          57\n",
       "PARTIAL AGONIST     14\n",
       "POSITIVE             4\n",
       "BINDER               2\n",
       "NEUTRAL              2\n",
       "BIASED AGONIST       2\n",
       "OTHER/UNKNOWN        1\n",
       "LIGAND               1\n",
       "Name: action_gen, dtype: int64"
      ]
     },
     "execution_count": 99,
     "metadata": {},
     "output_type": "execute_result"
    }
   ],
   "source": [
    "def parse(x):\n",
    "    x = str(x)\n",
    "    if x.startswith(\"FULL \"):\n",
    "        return \"AGONIST\"\n",
    "    else:\n",
    "        return x\n",
    "        \n",
    "df[\"action_gen\"] = df[\"action\"].apply(parse)\n",
    "df[\"action_gen\"].value_counts()"
   ]
  },
  {
   "cell_type": "code",
   "execution_count": 100,
   "metadata": {},
   "outputs": [
    {
     "data": {
      "text/plain": [
       "AGONIST            127\n",
       "ANTAGONIST          57\n",
       "PARTIAL AGONIST     14\n",
       "OTHER               12\n",
       "Name: action_gen, dtype: int64"
      ]
     },
     "execution_count": 100,
     "metadata": {},
     "output_type": "execute_result"
    }
   ],
   "source": [
    "condition = (df.action_gen != \"AGONIST\") & (df.action_gen != \"ANTAGONIST\") & (df.action_gen != \"PARTIAL AGONIST\")\n",
    "df[\"action_gen\"] = np.where(condition, \"OTHER\", df.action_gen)\n",
    "df[\"action_gen\"].value_counts()"
   ]
  },
  {
   "cell_type": "code",
   "execution_count": 101,
   "metadata": {},
   "outputs": [],
   "source": [
    "df = df.drop_duplicates(subset=['cid'])\n",
    "df = df[['cid', 'smiles', 'action', 'action_gen']]\n",
    "df.set_index('cid', inplace=True)\n",
    "df.to_csv('data/processed/basic_data.csv')"
   ]
  },
  {
   "cell_type": "code",
   "execution_count": 102,
   "metadata": {},
   "outputs": [
    {
     "data": {
      "text/plain": [
       "(171, 3)"
      ]
     },
     "execution_count": 102,
     "metadata": {},
     "output_type": "execute_result"
    }
   ],
   "source": [
    "df.shape"
   ]
  },
  {
   "cell_type": "code",
   "execution_count": 103,
   "metadata": {},
   "outputs": [
    {
     "name": "stdout",
     "output_type": "stream",
     "text": [
      ">>> create mol from smiles ... \n",
      ">>> create sentence from mol ... \n",
      ">>> load the word2vec model ... \n",
      ">>> create embedding from sentence ... \n",
      ">>> data columns =  Index(['smiles', 'action', 'action_gen', 'mol', 'sentence', 'embedding'], dtype='object') \n",
      "\n"
     ]
    }
   ],
   "source": [
    "print(\">>> create mol from smiles ... \")\n",
    "df['mol'] = df['smiles'].apply(lambda x: Chem.MolFromSmiles(x)) \n",
    "\n",
    "print(\">>> create sentence from mol ... \")\n",
    "df['sentence'] = df.apply(lambda x: MolSentence(mol2alt_sentence(x['mol'], radius=1)), axis=1)\n",
    "\n",
    "print(\">>> load the word2vec model ... \")\n",
    "from gensim.models import word2vec\n",
    "w2v_model = word2vec.Word2Vec.load('model\\\\model_300dim.pkl')\n",
    "# w2v_model = word2vec.Word2Vec.load('model_300dim.pkl')\n",
    "\n",
    "print(\">>> create embedding from sentence ... \")\n",
    "df['embedding'] = [DfVec(x) for x in sentences2vec(df['sentence'], w2v_model)]\n",
    "\n",
    "print(\">>> data columns = \", df.columns, \"\\n\")\n",
    "\n",
    "df_mol2vec = np.array([x.vec for x in df['embedding']])\n",
    "df_mol2vec = pd.DataFrame(df_mol2vec)\n"
   ]
  },
  {
   "cell_type": "code",
   "execution_count": 104,
   "metadata": {},
   "outputs": [
    {
     "data": {
      "text/html": [
       "<div>\n",
       "<style scoped>\n",
       "    .dataframe tbody tr th:only-of-type {\n",
       "        vertical-align: middle;\n",
       "    }\n",
       "\n",
       "    .dataframe tbody tr th {\n",
       "        vertical-align: top;\n",
       "    }\n",
       "\n",
       "    .dataframe thead th {\n",
       "        text-align: right;\n",
       "    }\n",
       "</style>\n",
       "<table border=\"1\" class=\"dataframe\">\n",
       "  <thead>\n",
       "    <tr style=\"text-align: right;\">\n",
       "      <th></th>\n",
       "      <th>0</th>\n",
       "      <th>1</th>\n",
       "      <th>2</th>\n",
       "      <th>3</th>\n",
       "      <th>4</th>\n",
       "      <th>5</th>\n",
       "      <th>6</th>\n",
       "      <th>7</th>\n",
       "      <th>8</th>\n",
       "      <th>9</th>\n",
       "      <th>...</th>\n",
       "      <th>290</th>\n",
       "      <th>291</th>\n",
       "      <th>292</th>\n",
       "      <th>293</th>\n",
       "      <th>294</th>\n",
       "      <th>295</th>\n",
       "      <th>296</th>\n",
       "      <th>297</th>\n",
       "      <th>298</th>\n",
       "      <th>299</th>\n",
       "    </tr>\n",
       "  </thead>\n",
       "  <tbody>\n",
       "    <tr>\n",
       "      <th>0</th>\n",
       "      <td>1.760172</td>\n",
       "      <td>-4.149978</td>\n",
       "      <td>-3.370153</td>\n",
       "      <td>2.645751</td>\n",
       "      <td>1.110236</td>\n",
       "      <td>-0.118626</td>\n",
       "      <td>-11.081466</td>\n",
       "      <td>-0.428177</td>\n",
       "      <td>5.755222</td>\n",
       "      <td>2.341738</td>\n",
       "      <td>...</td>\n",
       "      <td>2.786106</td>\n",
       "      <td>11.721737</td>\n",
       "      <td>8.545668</td>\n",
       "      <td>-1.289715</td>\n",
       "      <td>-9.153688</td>\n",
       "      <td>-3.488175</td>\n",
       "      <td>-7.180833</td>\n",
       "      <td>-3.843996</td>\n",
       "      <td>-12.202745</td>\n",
       "      <td>-3.068497</td>\n",
       "    </tr>\n",
       "    <tr>\n",
       "      <th>1</th>\n",
       "      <td>2.212945</td>\n",
       "      <td>-1.538977</td>\n",
       "      <td>-2.224593</td>\n",
       "      <td>4.679339</td>\n",
       "      <td>1.052032</td>\n",
       "      <td>0.276928</td>\n",
       "      <td>-8.678493</td>\n",
       "      <td>2.908898</td>\n",
       "      <td>4.829803</td>\n",
       "      <td>2.057426</td>\n",
       "      <td>...</td>\n",
       "      <td>-1.862839</td>\n",
       "      <td>9.285961</td>\n",
       "      <td>7.572005</td>\n",
       "      <td>1.240420</td>\n",
       "      <td>-8.727465</td>\n",
       "      <td>-2.931877</td>\n",
       "      <td>-4.774791</td>\n",
       "      <td>-3.370778</td>\n",
       "      <td>-7.536181</td>\n",
       "      <td>-1.402127</td>\n",
       "    </tr>\n",
       "    <tr>\n",
       "      <th>2</th>\n",
       "      <td>-1.224218</td>\n",
       "      <td>-1.380079</td>\n",
       "      <td>-1.484625</td>\n",
       "      <td>2.016409</td>\n",
       "      <td>2.085845</td>\n",
       "      <td>-0.418231</td>\n",
       "      <td>-10.214646</td>\n",
       "      <td>0.171975</td>\n",
       "      <td>5.722785</td>\n",
       "      <td>-0.639067</td>\n",
       "      <td>...</td>\n",
       "      <td>0.040365</td>\n",
       "      <td>9.228453</td>\n",
       "      <td>8.112383</td>\n",
       "      <td>0.192953</td>\n",
       "      <td>-8.544584</td>\n",
       "      <td>-4.927303</td>\n",
       "      <td>-3.219604</td>\n",
       "      <td>-6.842189</td>\n",
       "      <td>-7.540254</td>\n",
       "      <td>-4.475022</td>\n",
       "    </tr>\n",
       "    <tr>\n",
       "      <th>3</th>\n",
       "      <td>1.051206</td>\n",
       "      <td>-4.003702</td>\n",
       "      <td>-2.004881</td>\n",
       "      <td>6.037580</td>\n",
       "      <td>1.132930</td>\n",
       "      <td>-0.998191</td>\n",
       "      <td>-10.552450</td>\n",
       "      <td>0.181484</td>\n",
       "      <td>8.399479</td>\n",
       "      <td>1.503116</td>\n",
       "      <td>...</td>\n",
       "      <td>-1.705281</td>\n",
       "      <td>12.330570</td>\n",
       "      <td>9.170075</td>\n",
       "      <td>1.122113</td>\n",
       "      <td>-7.963986</td>\n",
       "      <td>-2.675577</td>\n",
       "      <td>-4.884267</td>\n",
       "      <td>-4.236066</td>\n",
       "      <td>-10.162477</td>\n",
       "      <td>-1.244159</td>\n",
       "    </tr>\n",
       "    <tr>\n",
       "      <th>4</th>\n",
       "      <td>0.159625</td>\n",
       "      <td>-1.877022</td>\n",
       "      <td>-0.894390</td>\n",
       "      <td>4.311310</td>\n",
       "      <td>-2.904269</td>\n",
       "      <td>-0.823098</td>\n",
       "      <td>-5.099559</td>\n",
       "      <td>1.956799</td>\n",
       "      <td>5.010140</td>\n",
       "      <td>3.007601</td>\n",
       "      <td>...</td>\n",
       "      <td>0.054925</td>\n",
       "      <td>8.062354</td>\n",
       "      <td>4.741454</td>\n",
       "      <td>-0.126390</td>\n",
       "      <td>-7.416485</td>\n",
       "      <td>-2.226036</td>\n",
       "      <td>-3.864702</td>\n",
       "      <td>-2.264680</td>\n",
       "      <td>-3.720523</td>\n",
       "      <td>-1.077843</td>\n",
       "    </tr>\n",
       "    <tr>\n",
       "      <th>...</th>\n",
       "      <td>...</td>\n",
       "      <td>...</td>\n",
       "      <td>...</td>\n",
       "      <td>...</td>\n",
       "      <td>...</td>\n",
       "      <td>...</td>\n",
       "      <td>...</td>\n",
       "      <td>...</td>\n",
       "      <td>...</td>\n",
       "      <td>...</td>\n",
       "      <td>...</td>\n",
       "      <td>...</td>\n",
       "      <td>...</td>\n",
       "      <td>...</td>\n",
       "      <td>...</td>\n",
       "      <td>...</td>\n",
       "      <td>...</td>\n",
       "      <td>...</td>\n",
       "      <td>...</td>\n",
       "      <td>...</td>\n",
       "      <td>...</td>\n",
       "    </tr>\n",
       "    <tr>\n",
       "      <th>166</th>\n",
       "      <td>2.558320</td>\n",
       "      <td>-7.041398</td>\n",
       "      <td>-1.867085</td>\n",
       "      <td>8.540926</td>\n",
       "      <td>-1.992054</td>\n",
       "      <td>-1.297663</td>\n",
       "      <td>-11.814894</td>\n",
       "      <td>1.890232</td>\n",
       "      <td>9.369178</td>\n",
       "      <td>4.298574</td>\n",
       "      <td>...</td>\n",
       "      <td>-0.418635</td>\n",
       "      <td>14.808561</td>\n",
       "      <td>6.444794</td>\n",
       "      <td>-1.048025</td>\n",
       "      <td>-10.536049</td>\n",
       "      <td>-2.944379</td>\n",
       "      <td>-6.397175</td>\n",
       "      <td>-4.665662</td>\n",
       "      <td>-9.163932</td>\n",
       "      <td>-0.410053</td>\n",
       "    </tr>\n",
       "    <tr>\n",
       "      <th>167</th>\n",
       "      <td>2.268912</td>\n",
       "      <td>-6.673174</td>\n",
       "      <td>-1.812337</td>\n",
       "      <td>8.857821</td>\n",
       "      <td>-2.151901</td>\n",
       "      <td>-1.198620</td>\n",
       "      <td>-11.679358</td>\n",
       "      <td>2.329433</td>\n",
       "      <td>9.370055</td>\n",
       "      <td>4.481280</td>\n",
       "      <td>...</td>\n",
       "      <td>-0.245198</td>\n",
       "      <td>14.701890</td>\n",
       "      <td>6.460775</td>\n",
       "      <td>-1.099652</td>\n",
       "      <td>-10.371346</td>\n",
       "      <td>-2.524029</td>\n",
       "      <td>-5.959694</td>\n",
       "      <td>-5.040211</td>\n",
       "      <td>-8.999833</td>\n",
       "      <td>-0.545627</td>\n",
       "    </tr>\n",
       "    <tr>\n",
       "      <th>168</th>\n",
       "      <td>0.619165</td>\n",
       "      <td>-3.699804</td>\n",
       "      <td>-3.688030</td>\n",
       "      <td>1.413995</td>\n",
       "      <td>1.368354</td>\n",
       "      <td>-6.651547</td>\n",
       "      <td>-13.590994</td>\n",
       "      <td>2.757429</td>\n",
       "      <td>3.370274</td>\n",
       "      <td>2.640249</td>\n",
       "      <td>...</td>\n",
       "      <td>-2.574120</td>\n",
       "      <td>15.301981</td>\n",
       "      <td>6.480038</td>\n",
       "      <td>1.606085</td>\n",
       "      <td>-12.458905</td>\n",
       "      <td>-10.682524</td>\n",
       "      <td>-8.736527</td>\n",
       "      <td>-5.380240</td>\n",
       "      <td>-16.338335</td>\n",
       "      <td>1.824793</td>\n",
       "    </tr>\n",
       "    <tr>\n",
       "      <th>169</th>\n",
       "      <td>6.181717</td>\n",
       "      <td>-8.531713</td>\n",
       "      <td>-4.172251</td>\n",
       "      <td>7.466651</td>\n",
       "      <td>-0.264419</td>\n",
       "      <td>1.975113</td>\n",
       "      <td>-12.068586</td>\n",
       "      <td>-1.140604</td>\n",
       "      <td>3.199877</td>\n",
       "      <td>1.405521</td>\n",
       "      <td>...</td>\n",
       "      <td>-0.677975</td>\n",
       "      <td>15.115541</td>\n",
       "      <td>8.754032</td>\n",
       "      <td>-5.851270</td>\n",
       "      <td>-11.648660</td>\n",
       "      <td>-6.113319</td>\n",
       "      <td>-11.374367</td>\n",
       "      <td>-5.213731</td>\n",
       "      <td>-13.194325</td>\n",
       "      <td>-3.314379</td>\n",
       "    </tr>\n",
       "    <tr>\n",
       "      <th>170</th>\n",
       "      <td>-1.486387</td>\n",
       "      <td>-7.026231</td>\n",
       "      <td>-2.485627</td>\n",
       "      <td>7.305481</td>\n",
       "      <td>5.791383</td>\n",
       "      <td>-0.039006</td>\n",
       "      <td>-16.877335</td>\n",
       "      <td>-0.272140</td>\n",
       "      <td>2.993347</td>\n",
       "      <td>-4.986114</td>\n",
       "      <td>...</td>\n",
       "      <td>-0.491547</td>\n",
       "      <td>19.641951</td>\n",
       "      <td>11.459949</td>\n",
       "      <td>-3.333838</td>\n",
       "      <td>-17.081400</td>\n",
       "      <td>-15.461178</td>\n",
       "      <td>-11.267882</td>\n",
       "      <td>-9.523782</td>\n",
       "      <td>-15.092532</td>\n",
       "      <td>-5.627906</td>\n",
       "    </tr>\n",
       "  </tbody>\n",
       "</table>\n",
       "<p>171 rows × 300 columns</p>\n",
       "</div>"
      ],
      "text/plain": [
       "          0         1         2         3         4         5          6    \\\n",
       "0    1.760172 -4.149978 -3.370153  2.645751  1.110236 -0.118626 -11.081466   \n",
       "1    2.212945 -1.538977 -2.224593  4.679339  1.052032  0.276928  -8.678493   \n",
       "2   -1.224218 -1.380079 -1.484625  2.016409  2.085845 -0.418231 -10.214646   \n",
       "3    1.051206 -4.003702 -2.004881  6.037580  1.132930 -0.998191 -10.552450   \n",
       "4    0.159625 -1.877022 -0.894390  4.311310 -2.904269 -0.823098  -5.099559   \n",
       "..        ...       ...       ...       ...       ...       ...        ...   \n",
       "166  2.558320 -7.041398 -1.867085  8.540926 -1.992054 -1.297663 -11.814894   \n",
       "167  2.268912 -6.673174 -1.812337  8.857821 -2.151901 -1.198620 -11.679358   \n",
       "168  0.619165 -3.699804 -3.688030  1.413995  1.368354 -6.651547 -13.590994   \n",
       "169  6.181717 -8.531713 -4.172251  7.466651 -0.264419  1.975113 -12.068586   \n",
       "170 -1.486387 -7.026231 -2.485627  7.305481  5.791383 -0.039006 -16.877335   \n",
       "\n",
       "          7         8         9    ...       290        291        292  \\\n",
       "0   -0.428177  5.755222  2.341738  ...  2.786106  11.721737   8.545668   \n",
       "1    2.908898  4.829803  2.057426  ... -1.862839   9.285961   7.572005   \n",
       "2    0.171975  5.722785 -0.639067  ...  0.040365   9.228453   8.112383   \n",
       "3    0.181484  8.399479  1.503116  ... -1.705281  12.330570   9.170075   \n",
       "4    1.956799  5.010140  3.007601  ...  0.054925   8.062354   4.741454   \n",
       "..        ...       ...       ...  ...       ...        ...        ...   \n",
       "166  1.890232  9.369178  4.298574  ... -0.418635  14.808561   6.444794   \n",
       "167  2.329433  9.370055  4.481280  ... -0.245198  14.701890   6.460775   \n",
       "168  2.757429  3.370274  2.640249  ... -2.574120  15.301981   6.480038   \n",
       "169 -1.140604  3.199877  1.405521  ... -0.677975  15.115541   8.754032   \n",
       "170 -0.272140  2.993347 -4.986114  ... -0.491547  19.641951  11.459949   \n",
       "\n",
       "          293        294        295        296       297        298       299  \n",
       "0   -1.289715  -9.153688  -3.488175  -7.180833 -3.843996 -12.202745 -3.068497  \n",
       "1    1.240420  -8.727465  -2.931877  -4.774791 -3.370778  -7.536181 -1.402127  \n",
       "2    0.192953  -8.544584  -4.927303  -3.219604 -6.842189  -7.540254 -4.475022  \n",
       "3    1.122113  -7.963986  -2.675577  -4.884267 -4.236066 -10.162477 -1.244159  \n",
       "4   -0.126390  -7.416485  -2.226036  -3.864702 -2.264680  -3.720523 -1.077843  \n",
       "..        ...        ...        ...        ...       ...        ...       ...  \n",
       "166 -1.048025 -10.536049  -2.944379  -6.397175 -4.665662  -9.163932 -0.410053  \n",
       "167 -1.099652 -10.371346  -2.524029  -5.959694 -5.040211  -8.999833 -0.545627  \n",
       "168  1.606085 -12.458905 -10.682524  -8.736527 -5.380240 -16.338335  1.824793  \n",
       "169 -5.851270 -11.648660  -6.113319 -11.374367 -5.213731 -13.194325 -3.314379  \n",
       "170 -3.333838 -17.081400 -15.461178 -11.267882 -9.523782 -15.092532 -5.627906  \n",
       "\n",
       "[171 rows x 300 columns]"
      ]
     },
     "execution_count": 104,
     "metadata": {},
     "output_type": "execute_result"
    }
   ],
   "source": [
    "df_mol2vec"
   ]
  },
  {
   "cell_type": "code",
   "execution_count": 105,
   "metadata": {},
   "outputs": [],
   "source": [
    "from sklearn.decomposition import PCA\n",
    "from sklearn.manifold import TSNE\n",
    "\n",
    "from sklearn.cluster import KMeans\n",
    "\n",
    "from sklearn.preprocessing import StandardScaler\n",
    "from sklearn.preprocessing import MinMaxScaler\n",
    "from sklearn.preprocessing import LabelEncoder\n"
   ]
  },
  {
   "cell_type": "code",
   "execution_count": 106,
   "metadata": {},
   "outputs": [
    {
     "data": {
      "text/html": [
       "<div>\n",
       "<style scoped>\n",
       "    .dataframe tbody tr th:only-of-type {\n",
       "        vertical-align: middle;\n",
       "    }\n",
       "\n",
       "    .dataframe tbody tr th {\n",
       "        vertical-align: top;\n",
       "    }\n",
       "\n",
       "    .dataframe thead th {\n",
       "        text-align: right;\n",
       "    }\n",
       "</style>\n",
       "<table border=\"1\" class=\"dataframe\">\n",
       "  <thead>\n",
       "    <tr style=\"text-align: right;\">\n",
       "      <th></th>\n",
       "      <th>cid</th>\n",
       "      <th>smiles</th>\n",
       "      <th>action</th>\n",
       "      <th>action_gen</th>\n",
       "      <th>mol</th>\n",
       "      <th>sentence</th>\n",
       "      <th>embedding</th>\n",
       "    </tr>\n",
       "  </thead>\n",
       "  <tbody>\n",
       "    <tr>\n",
       "      <th>0</th>\n",
       "      <td>2159</td>\n",
       "      <td>CCN1CCCC1CNC(=O)C2=CC(=C(C=C2OC)N)S(=O)(=O)CC</td>\n",
       "      <td>AGONIST</td>\n",
       "      <td>AGONIST</td>\n",
       "      <td>&lt;img data-content=\"rdkit/molecule\" src=\"data:i...</td>\n",
       "      <td>(2246728737, 3542456614, 2245384272, 225184566...</td>\n",
       "      <td>(300,) dimensional vector</td>\n",
       "    </tr>\n",
       "    <tr>\n",
       "      <th>1</th>\n",
       "      <td>2160</td>\n",
       "      <td>CN(C)CCC=C1C2=CC=CC=C2CCC3=CC=CC=C31</td>\n",
       "      <td>BINDER</td>\n",
       "      <td>OTHER</td>\n",
       "      <td>&lt;img data-content=\"rdkit/molecule\" src=\"data:i...</td>\n",
       "      <td>(2246728737, 3818546315, 848128881, 3121777292...</td>\n",
       "      <td>(300,) dimensional vector</td>\n",
       "    </tr>\n",
       "    <tr>\n",
       "      <th>2</th>\n",
       "      <td>2562</td>\n",
       "      <td>CCN(CC)CCOCCOC(=O)C1(CCCC1)C2=CC=CC=C2</td>\n",
       "      <td>ANTAGONIST</td>\n",
       "      <td>ANTAGONIST</td>\n",
       "      <td>&lt;img data-content=\"rdkit/molecule\" src=\"data:i...</td>\n",
       "      <td>(2246728737, 3542456614, 2245384272, 592593828...</td>\n",
       "      <td>(300,) dimensional vector</td>\n",
       "    </tr>\n",
       "    <tr>\n",
       "      <th>3</th>\n",
       "      <td>3345</td>\n",
       "      <td>CCC(=O)N(C1CCN(CC1)CCC2=CC=CC=C2)C3=CC=CC=C3</td>\n",
       "      <td>AGONIST</td>\n",
       "      <td>AGONIST</td>\n",
       "      <td>&lt;img data-content=\"rdkit/molecule\" src=\"data:i...</td>\n",
       "      <td>(2246728737, 3542456614, 2245384272, 206478835...</td>\n",
       "      <td>(300,) dimensional vector</td>\n",
       "    </tr>\n",
       "    <tr>\n",
       "      <th>4</th>\n",
       "      <td>3821</td>\n",
       "      <td>CNC1(CCCCC1=O)C2=CC=CC=C2Cl</td>\n",
       "      <td>BINDER</td>\n",
       "      <td>OTHER</td>\n",
       "      <td>&lt;img data-content=\"rdkit/molecule\" src=\"data:i...</td>\n",
       "      <td>(2246728737, 3824063894, 847961216, 1733418522...</td>\n",
       "      <td>(300,) dimensional vector</td>\n",
       "    </tr>\n",
       "    <tr>\n",
       "      <th>...</th>\n",
       "      <td>...</td>\n",
       "      <td>...</td>\n",
       "      <td>...</td>\n",
       "      <td>...</td>\n",
       "      <td>...</td>\n",
       "      <td>...</td>\n",
       "      <td>...</td>\n",
       "    </tr>\n",
       "    <tr>\n",
       "      <th>166</th>\n",
       "      <td>132990963</td>\n",
       "      <td>C1CCC(CC1)N2CCN(CC2)C(CC3=CC=CC=C3)C4=CC=C(C=C4)F</td>\n",
       "      <td>AGONIST</td>\n",
       "      <td>AGONIST</td>\n",
       "      <td>&lt;img data-content=\"rdkit/molecule\" src=\"data:i...</td>\n",
       "      <td>(2968968094, 2142032900, 2968968094, 214203290...</td>\n",
       "      <td>(300,) dimensional vector</td>\n",
       "    </tr>\n",
       "    <tr>\n",
       "      <th>167</th>\n",
       "      <td>132990975</td>\n",
       "      <td>C1CCC(CC1)N2CCN(CC2)C(CC3=CC=CC=C3)C4=CC=CC=C4F</td>\n",
       "      <td>AGONIST</td>\n",
       "      <td>AGONIST</td>\n",
       "      <td>&lt;img data-content=\"rdkit/molecule\" src=\"data:i...</td>\n",
       "      <td>(2968968094, 2142032900, 2968968094, 214203290...</td>\n",
       "      <td>(300,) dimensional vector</td>\n",
       "    </tr>\n",
       "    <tr>\n",
       "      <th>168</th>\n",
       "      <td>134156377</td>\n",
       "      <td>CN1CC[C@]23[C@@H]4[C@H]1CC5=C2C(=C(C=C5)OC)O[C...</td>\n",
       "      <td>AGONIST</td>\n",
       "      <td>AGONIST</td>\n",
       "      <td>&lt;img data-content=\"rdkit/molecule\" src=\"data:i...</td>\n",
       "      <td>(2246728737, 3657471097, 2092489639, 201425559...</td>\n",
       "      <td>(300,) dimensional vector</td>\n",
       "    </tr>\n",
       "    <tr>\n",
       "      <th>169</th>\n",
       "      <td>137434175</td>\n",
       "      <td>CCC1=CC2=C(C(=C(N=C2C(=C1)F)N3CCC(CC3)NC4CCOCC...</td>\n",
       "      <td>ANTAGONIST</td>\n",
       "      <td>ANTAGONIST</td>\n",
       "      <td>&lt;img data-content=\"rdkit/molecule\" src=\"data:i...</td>\n",
       "      <td>(2246728737, 3542456614, 2245384272, 618671879...</td>\n",
       "      <td>(300,) dimensional vector</td>\n",
       "    </tr>\n",
       "    <tr>\n",
       "      <th>170</th>\n",
       "      <td>145993966</td>\n",
       "      <td>CN1CC[C@]23[C@@H]4[C@H](CCC2([C@H]1CC5=C3C(=C(...</td>\n",
       "      <td>AGONIST</td>\n",
       "      <td>AGONIST</td>\n",
       "      <td>&lt;img data-content=\"rdkit/molecule\" src=\"data:i...</td>\n",
       "      <td>(2246728737, 3657471097, 2092489639, 201425559...</td>\n",
       "      <td>(300,) dimensional vector</td>\n",
       "    </tr>\n",
       "  </tbody>\n",
       "</table>\n",
       "<p>171 rows × 7 columns</p>\n",
       "</div>"
      ],
      "text/plain": [
       "           cid                                             smiles      action  \\\n",
       "0         2159      CCN1CCCC1CNC(=O)C2=CC(=C(C=C2OC)N)S(=O)(=O)CC     AGONIST   \n",
       "1         2160               CN(C)CCC=C1C2=CC=CC=C2CCC3=CC=CC=C31      BINDER   \n",
       "2         2562             CCN(CC)CCOCCOC(=O)C1(CCCC1)C2=CC=CC=C2  ANTAGONIST   \n",
       "3         3345       CCC(=O)N(C1CCN(CC1)CCC2=CC=CC=C2)C3=CC=CC=C3     AGONIST   \n",
       "4         3821                        CNC1(CCCCC1=O)C2=CC=CC=C2Cl      BINDER   \n",
       "..         ...                                                ...         ...   \n",
       "166  132990963  C1CCC(CC1)N2CCN(CC2)C(CC3=CC=CC=C3)C4=CC=C(C=C4)F     AGONIST   \n",
       "167  132990975    C1CCC(CC1)N2CCN(CC2)C(CC3=CC=CC=C3)C4=CC=CC=C4F     AGONIST   \n",
       "168  134156377  CN1CC[C@]23[C@@H]4[C@H]1CC5=C2C(=C(C=C5)OC)O[C...     AGONIST   \n",
       "169  137434175  CCC1=CC2=C(C(=C(N=C2C(=C1)F)N3CCC(CC3)NC4CCOCC...  ANTAGONIST   \n",
       "170  145993966  CN1CC[C@]23[C@@H]4[C@H](CCC2([C@H]1CC5=C3C(=C(...     AGONIST   \n",
       "\n",
       "     action_gen                                                mol  \\\n",
       "0       AGONIST  <img data-content=\"rdkit/molecule\" src=\"data:i...   \n",
       "1         OTHER  <img data-content=\"rdkit/molecule\" src=\"data:i...   \n",
       "2    ANTAGONIST  <img data-content=\"rdkit/molecule\" src=\"data:i...   \n",
       "3       AGONIST  <img data-content=\"rdkit/molecule\" src=\"data:i...   \n",
       "4         OTHER  <img data-content=\"rdkit/molecule\" src=\"data:i...   \n",
       "..          ...                                                ...   \n",
       "166     AGONIST  <img data-content=\"rdkit/molecule\" src=\"data:i...   \n",
       "167     AGONIST  <img data-content=\"rdkit/molecule\" src=\"data:i...   \n",
       "168     AGONIST  <img data-content=\"rdkit/molecule\" src=\"data:i...   \n",
       "169  ANTAGONIST  <img data-content=\"rdkit/molecule\" src=\"data:i...   \n",
       "170     AGONIST  <img data-content=\"rdkit/molecule\" src=\"data:i...   \n",
       "\n",
       "                                              sentence  \\\n",
       "0    (2246728737, 3542456614, 2245384272, 225184566...   \n",
       "1    (2246728737, 3818546315, 848128881, 3121777292...   \n",
       "2    (2246728737, 3542456614, 2245384272, 592593828...   \n",
       "3    (2246728737, 3542456614, 2245384272, 206478835...   \n",
       "4    (2246728737, 3824063894, 847961216, 1733418522...   \n",
       "..                                                 ...   \n",
       "166  (2968968094, 2142032900, 2968968094, 214203290...   \n",
       "167  (2968968094, 2142032900, 2968968094, 214203290...   \n",
       "168  (2246728737, 3657471097, 2092489639, 201425559...   \n",
       "169  (2246728737, 3542456614, 2245384272, 618671879...   \n",
       "170  (2246728737, 3657471097, 2092489639, 201425559...   \n",
       "\n",
       "                     embedding  \n",
       "0    (300,) dimensional vector  \n",
       "1    (300,) dimensional vector  \n",
       "2    (300,) dimensional vector  \n",
       "3    (300,) dimensional vector  \n",
       "4    (300,) dimensional vector  \n",
       "..                         ...  \n",
       "166  (300,) dimensional vector  \n",
       "167  (300,) dimensional vector  \n",
       "168  (300,) dimensional vector  \n",
       "169  (300,) dimensional vector  \n",
       "170  (300,) dimensional vector  \n",
       "\n",
       "[171 rows x 7 columns]"
      ]
     },
     "execution_count": 106,
     "metadata": {},
     "output_type": "execute_result"
    }
   ],
   "source": [
    "# add indexes to dictionary\n",
    "df.reset_index(inplace=True)\n",
    "# encoding\n",
    "# from sklearn.preprocessing import LabelEncoder\n",
    "# labelencoder = LabelEncoder()\n",
    "# df['encoded_label'] = labelencoder.fit_transform(df['action_gen'])\n",
    "df"
   ]
  },
  {
   "cell_type": "code",
   "execution_count": 107,
   "metadata": {},
   "outputs": [],
   "source": [
    "from sklearn.metrics import classification_report\n",
    "from sklearn.metrics import f1_score\n",
    "from sklearn.metrics import accuracy_score\n",
    "from sklearn.metrics import rand_score"
   ]
  },
  {
   "cell_type": "code",
   "execution_count": 108,
   "metadata": {},
   "outputs": [],
   "source": [
    "# scaler = StandardScaler()\n",
    "# df_mol2vec = scaler.fit_transform(df_mol2vec)\n",
    "\n",
    "# scaler = MinMaxScaler()\n",
    "# df_mol2vec = scaler.fit_transform(df_mol2vec)\n"
   ]
  },
  {
   "cell_type": "code",
   "execution_count": 109,
   "metadata": {},
   "outputs": [
    {
     "name": "stdout",
     "output_type": "stream",
     "text": [
      "1.0000000100614177\n"
     ]
    },
    {
     "name": "stderr",
     "output_type": "stream",
     "text": [
      "c:\\Users\\fongm\\Anaconda3\\envs\\m2vec\\lib\\site-packages\\seaborn\\_decorators.py:43: FutureWarning: Pass the following variables as keyword args: x, y. From version 0.12, the only valid positional argument will be `data`, and passing other arguments without an explicit keyword will result in an error or misinterpretation.\n",
      "  FutureWarning\n"
     ]
    },
    {
     "data": {
      "image/png": "[encoded data removed]",
      "text/plain": [
       "<Figure size 432x288 with 1 Axes>"
      ]
     },
     "metadata": {
      "needs_background": "light"
     },
     "output_type": "display_data"
    }
   ],
   "source": [
    "scaler = StandardScaler()\n",
    "df_mol2vec_scaled = scaler.fit_transform(df_mol2vec)\n",
    "\n",
    "pca = PCA().fit(df_mol2vec_scaled)\n",
    "pc = pca.transform(df_mol2vec_scaled)\n",
    "\n",
    "var = pca.explained_variance_ratio_[:10]\n",
    "cum_sum = np.cumsum(pca.explained_variance_ratio_)\n",
    "labels = ['PC'+ str(i) for i in range(1,11)]\n",
    "\n",
    "print(sum(pca.explained_variance_ratio_))\n",
    "# sns.barplot(labels, var)\n",
    "sns.lineplot([x for x in range(len(cum_sum))], cum_sum)\n",
    "plt.grid()\n",
    "plt.show()"
   ]
  },
  {
   "cell_type": "markdown",
   "metadata": {},
   "source": [
    "## TSNE 2 dim"
   ]
  },
  {
   "cell_type": "code",
   "execution_count": 110,
   "metadata": {},
   "outputs": [
    {
     "name": "stderr",
     "output_type": "stream",
     "text": [
      "c:\\Users\\fongm\\Anaconda3\\envs\\m2vec\\lib\\site-packages\\sklearn\\manifold\\_t_sne.py:783: FutureWarning: The default initialization in TSNE will change from 'random' to 'pca' in 1.2.\n",
      "  FutureWarning,\n",
      "c:\\Users\\fongm\\Anaconda3\\envs\\m2vec\\lib\\site-packages\\sklearn\\manifold\\_t_sne.py:793: FutureWarning: The default learning rate in TSNE will change from 200.0 to 'auto' in 1.2.\n",
      "  FutureWarning,\n"
     ]
    },
    {
     "data": {
      "image/png": "[encoded data removed]",
      "text/plain": [
       "<Figure size 432x288 with 1 Axes>"
      ]
     },
     "metadata": {
      "needs_background": "light"
     },
     "output_type": "display_data"
    }
   ],
   "source": [
    "np.random.seed(42)\n",
    "\n",
    "scaler = StandardScaler()\n",
    "df_mol2vec_scaled = scaler.fit_transform(df_mol2vec)\n",
    "pca_num_components = 5\n",
    "\n",
    "# reduced_data = PCA(n_components=pca_num_components).fit_transform(df_mol2vec_scaled)\n",
    "# results = pd.DataFrame(reduced_data,columns=['pc' + str(x) for x in range(1, pca_num_components + 1)])\n",
    "\n",
    "tsne = TSNE(n_components=2, perplexity=40, n_iter=300)\n",
    "tsne_results = tsne.fit_transform(df_mol2vec)\n",
    "\n",
    "tsne_results = pd.DataFrame(tsne_results, columns=['ts1', 'ts2'])\n",
    "sns.scatterplot(x='ts1', y=\"ts2\", hue=df['action_gen'], data=tsne_results)\n",
    "plt.title('Clusters on PCA with actual values')\n",
    "plt.show()"
   ]
  },
  {
   "cell_type": "code",
   "execution_count": 111,
   "metadata": {},
   "outputs": [
    {
     "data": {
      "image/png": "[encoded data removed]",
      "text/plain": [
       "<Figure size 432x288 with 1 Axes>"
      ]
     },
     "metadata": {
      "needs_background": "light"
     },
     "output_type": "display_data"
    }
   ],
   "source": [
    "clustering_kmeans = KMeans(n_clusters=4)\n",
    "tsne_results['clusters'] = clustering_kmeans.fit_predict(tsne_results)\n",
    "tsne_results['clusters']\n",
    "\n",
    "sns.scatterplot(x='ts1', y=\"ts2\", hue=tsne_results['clusters'], data=tsne_results)\n",
    "plt.title('Clusters on PCA with actual values')\n",
    "plt.show()"
   ]
  },
  {
   "cell_type": "code",
   "execution_count": 112,
   "metadata": {},
   "outputs": [
    {
     "name": "stdout",
     "output_type": "stream",
     "text": [
      "0    56\n",
      "1    47\n",
      "2    35\n",
      "3    33\n",
      "Name: clusters, dtype: int64\n",
      "pairing_score:  0.5076023391812865\n",
      "Accuracy 0.4093567251461988\n"
     ]
    }
   ],
   "source": [
    "print(tsne_results['clusters'].value_counts())\n",
    "cluster_dict = dict(tsne_results['clusters'].value_counts())\n",
    "cluster_dict = dict(sorted(cluster_dict.items(), key=lambda item: item[1], reverse=True)).keys()\n",
    "cluster_dict = list(cluster_dict)\n",
    "\n",
    "tsne_results['action_gen'] = df['action_gen']\n",
    "tsne_results['action_gen_cluster'] = tsne_results['clusters'].map({cluster_dict[0]: 'AGONIST', cluster_dict[1]: 'ANTAGONIST', cluster_dict[2]: 'ANTAGONIST', cluster_dict[3]: 'OTHER'})\n",
    "\n",
    "print('pairing_score: ', rand_score(tsne_results.action_gen, tsne_results.action_gen_cluster))\n",
    "tsne_results[tsne_results.action_gen == tsne_results.action_gen_cluster].shape[0] / tsne_results.shape[0]\n",
    "print('Accuracy', tsne_results[tsne_results.action_gen == tsne_results.action_gen_cluster].shape[0] / tsne_results.shape[0])"
   ]
  },
  {
   "cell_type": "markdown",
   "metadata": {},
   "source": [
    "## LDA"
   ]
  },
  {
   "cell_type": "code",
   "execution_count": 162,
   "metadata": {},
   "outputs": [
    {
     "data": {
      "image/png": "[encoded data removed]",
      "text/plain": [
       "<Figure size 432x288 with 1 Axes>"
      ]
     },
     "metadata": {
      "needs_background": "light"
     },
     "output_type": "display_data"
    }
   ],
   "source": [
    "from sklearn.discriminant_analysis import LinearDiscriminantAnalysis as LDA\n",
    "from sklearn.model_selection import train_test_split\n",
    "\n",
    "np.random.seed(42)\n",
    "df_mol2vec_scaled = df_mol2vec\n",
    "scaler = StandardScaler()\n",
    "df_mol2vec_scaled = pd.DataFrame(scaler.fit_transform(df_mol2vec))\n",
    "df_mol2vec_scaled['action_gen'] = df['action_gen']\n",
    "\n",
    "\n",
    "# normal LDA \n",
    "n_comp = 2\n",
    "# lda = LDA(n_components=n_comp).fit(df_mol2vec_scaled.iloc[:, :-1], df_mol2vec_scaled.iloc[:, -1])\n",
    "\n",
    "# normal LDA with partial training set to prevent overfitting\n",
    "# df_sample = df_mol2vec_scaled.sample(n=130)\n",
    "# lda = LDA(n_components=n_comp).fit(df_sample.iloc[:, :-1], df_sample.iloc[:, -1])\n",
    "X_train, X_test, y_train, y_test = train_test_split(df_mol2vec_scaled.iloc[:, :-1], df_mol2vec_scaled.iloc[:, -1], \n",
    "                                                train_size=0.85, random_state=42)\n",
    "lda = LDA(n_components=n_comp).fit(X_train, y_train)\n",
    "\n",
    "# solve generalized eigenvalue problem\n",
    "# X_train, X_test, y_train, y_test = train_test_split(df_mol2vec_scaled.iloc[:, :-1], df_mol2vec_scaled.iloc[:, -1], \n",
    "#                                                 train_size=0.6, random_state=42)\n",
    "# lda = LDA(n_components=n_comp, solver='eigen', shrinkage=0.2).fit(X_train, y_train)\n",
    "\n",
    "df_mol2vec_scaled.drop(\"action_gen\", axis=1, inplace=True)\n",
    "lda_results = lda.transform(df_mol2vec_scaled)\n",
    "# lda_results = lda.transform(X_test)\n",
    "\n",
    "lda_results = pd.DataFrame(lda_results, columns=['lda' + str(i) for i in range(1, n_comp+1)])\n",
    "# sns.scatterplot(x='lda1', y=\"lda2\", hue=y_test, data=lda_results)\n",
    "sns.scatterplot(x='lda1', y=\"lda2\", hue=df['action_gen'], data=lda_results)\n",
    "plt.title('Clusters on PCA with actual values')\n",
    "plt.show()"
   ]
  },
  {
   "cell_type": "code",
   "execution_count": 163,
   "metadata": {},
   "outputs": [
    {
     "name": "stdout",
     "output_type": "stream",
     "text": [
      "pairing_score:  0.6123076923076923\n",
      "                 precision    recall  f1-score   support\n",
      "\n",
      "        AGONIST       0.80      0.71      0.75        17\n",
      "     ANTAGONIST       0.25      0.40      0.31         5\n",
      "          OTHER       0.00      0.00      0.00         2\n",
      "PARTIAL AGONIST       0.00      0.00      0.00         2\n",
      "\n",
      "       accuracy                           0.54        26\n",
      "      macro avg       0.26      0.28      0.26        26\n",
      "   weighted avg       0.57      0.54      0.55        26\n",
      "\n"
     ]
    },
    {
     "name": "stderr",
     "output_type": "stream",
     "text": [
      "c:\\Users\\fongm\\Anaconda3\\envs\\m2vec\\lib\\site-packages\\sklearn\\metrics\\_classification.py:1318: UndefinedMetricWarning: Precision and F-score are ill-defined and being set to 0.0 in labels with no predicted samples. Use `zero_division` parameter to control this behavior.\n",
      "  _warn_prf(average, modifier, msg_start, len(result))\n",
      "c:\\Users\\fongm\\Anaconda3\\envs\\m2vec\\lib\\site-packages\\sklearn\\metrics\\_classification.py:1318: UndefinedMetricWarning: Precision and F-score are ill-defined and being set to 0.0 in labels with no predicted samples. Use `zero_division` parameter to control this behavior.\n",
      "  _warn_prf(average, modifier, msg_start, len(result))\n",
      "c:\\Users\\fongm\\Anaconda3\\envs\\m2vec\\lib\\site-packages\\sklearn\\metrics\\_classification.py:1318: UndefinedMetricWarning: Precision and F-score are ill-defined and being set to 0.0 in labels with no predicted samples. Use `zero_division` parameter to control this behavior.\n",
      "  _warn_prf(average, modifier, msg_start, len(result))\n"
     ]
    }
   ],
   "source": [
    "print('pairing_score: ', rand_score(y_test, lda.predict(X_test)))\n",
    "print(classification_report(y_test, lda.predict(X_test)))"
   ]
  },
  {
   "cell_type": "code",
   "execution_count": 117,
   "metadata": {},
   "outputs": [
    {
     "data": {
      "text/plain": [
       "array([[12.70073285,  2.68483366]])"
      ]
     },
     "execution_count": 117,
     "metadata": {},
     "output_type": "execute_result"
    }
   ],
   "source": [
    "lda.transform(df_mol2vec.iloc[50:51, :])"
   ]
  },
  {
   "cell_type": "code",
   "execution_count": 164,
   "metadata": {},
   "outputs": [],
   "source": [
    "clustering_kmeans = KMeans(n_clusters=4)\n",
    "lda_results['clusters'] = clustering_kmeans.fit_predict(lda_results)\n",
    "# lda_results['clusters'].value_counts()"
   ]
  },
  {
   "cell_type": "code",
   "execution_count": 165,
   "metadata": {},
   "outputs": [
    {
     "data": {
      "image/png": "[encoded data removed]",
      "text/plain": [
       "<Figure size 432x288 with 1 Axes>"
      ]
     },
     "metadata": {
      "needs_background": "light"
     },
     "output_type": "display_data"
    }
   ],
   "source": [
    "sns.scatterplot(x=\"lda1\", y=\"lda2\", hue=lda_results['clusters'], data=lda_results)\n",
    "plt.title('Clusters on PCA with clusters labels')\n",
    "plt.show()"
   ]
  },
  {
   "cell_type": "code",
   "execution_count": 167,
   "metadata": {},
   "outputs": [
    {
     "name": "stdout",
     "output_type": "stream",
     "text": [
      "0    112\n",
      "1     49\n",
      "2      8\n",
      "3      2\n",
      "Name: clusters, dtype: int64\n",
      "pairing_score:  0.8481596147230822\n",
      "                 precision    recall  f1-score   support\n",
      "\n",
      "        AGONIST       0.91      0.94      0.93       108\n",
      "     ANTAGONIST       0.82      0.93      0.87        43\n",
      "          OTHER       0.00      0.00      0.00         9\n",
      "PARTIAL AGONIST       0.00      0.00      0.00        11\n",
      "\n",
      "       accuracy                           0.83       171\n",
      "      macro avg       0.43      0.47      0.45       171\n",
      "   weighted avg       0.78      0.83      0.80       171\n",
      "\n"
     ]
    }
   ],
   "source": [
    "print(lda_results['clusters'].value_counts())\n",
    "# sort keys based on number of values in each clusters\n",
    "cluster_dict = dict(lda_results['clusters'].value_counts())\n",
    "cluster_dict = dict(sorted(cluster_dict.items(), key=lambda item: item[1], reverse=True)).keys()\n",
    "cluster_dict = list(cluster_dict)\n",
    "\n",
    "lda_results['action_gen'] = df['action_gen']\n",
    "lda_results['action_gen_cluster'] = lda_results['clusters'].map({cluster_dict[0]: 'AGONIST', cluster_dict[1]: 'ANTAGONIST', cluster_dict[2]: 'PARTIAL AGONIST', cluster_dict[3]: 'OTHER'})\n",
    "\n",
    "print('pairing_score: ', rand_score(lda_results.action_gen, lda_results.action_gen_cluster))\n",
    "lda_results[lda_results.action_gen == lda_results.action_gen_cluster].shape[0] / lda_results.shape[0]\n",
    "# print('Accuracy', accuracy_score(lda_results.action_gen, lda_results.action_gen_cluster))\n",
    "print(classification_report(lda_results.action_gen, lda_results.action_gen_cluster))\n"
   ]
  },
  {
   "cell_type": "code",
   "execution_count": 121,
   "metadata": {},
   "outputs": [],
   "source": [
    "c_rpt = classification_report(lda_results.action_gen, lda_results.action_gen_cluster, output_dict=True)\n",
    "total_score = sum([c_rpt[key]['precision'] for key in list(c_rpt.keys())[:4]])"
   ]
  },
  {
   "cell_type": "code",
   "execution_count": 122,
   "metadata": {},
   "outputs": [
    {
     "data": {
      "text/plain": [
       "AGONIST            0.631579\n",
       "ANTAGONIST         0.251462\n",
       "PARTIAL AGONIST    0.064327\n",
       "OTHER              0.052632\n",
       "Name: action_gen, dtype: float64"
      ]
     },
     "execution_count": 122,
     "metadata": {},
     "output_type": "execute_result"
    }
   ],
   "source": [
    "df.action_gen.value_counts()/df.shape[0]"
   ]
  }
 ],
 "metadata": {
  "interpreter": {
   "hash": "8f586d29ed66b04345fe5e490c331713fbaab51ba1e3e0631cbea37b530e2714"
  },
  "kernelspec": {
   "display_name": "Python 3.7.13 ('m2vec')",
   "language": "python",
   "name": "python3"
  },
  "language_info": {
   "codemirror_mode": {
    "name": "ipython",
    "version": 3
   },
   "file_extension": ".py",
   "mimetype": "text/x-python",
   "name": "python",
   "nbconvert_exporter": "python",
   "pygments_lexer": "ipython3",
   "version": "3.7.13"
  }
 },
 "nbformat": 4,
 "nbformat_minor": 2
}
