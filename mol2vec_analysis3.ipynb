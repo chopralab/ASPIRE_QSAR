{
 "cells": [
  {
   "cell_type": "code",
   "execution_count": 566,
   "metadata": {},
   "outputs": [],
   "source": [
    "import pandas as pd\n",
    "import numpy as np\n",
    "import seaborn as sns\n",
    "import matplotlib.pyplot as plt\n",
    "from rdkit import Chem\n",
    "from mol2vec.features import mol2alt_sentence, MolSentence, DfVec, sentences2vec\n",
    "from gensim.models import word2vec\n",
    "\n",
    "%matplotlib inline"
   ]
  },
  {
   "cell_type": "code",
   "execution_count": 567,
   "metadata": {},
   "outputs": [
    {
     "data": {
      "text/plain": [
       "Index(['cid', 'action', 'smiles'], dtype='object')"
      ]
     },
     "execution_count": 567,
     "metadata": {},
     "output_type": "execute_result"
    }
   ],
   "source": [
    "df = pd.read_csv(\"data/processed/final.csv\")\n",
    "df.head()\n",
    "df.columns"
   ]
  },
  {
   "cell_type": "code",
   "execution_count": 568,
   "metadata": {},
   "outputs": [
    {
     "data": {
      "text/plain": [
       "PARTIAL AGONIST    127\n",
       "AGONIST             94\n",
       "ANTAGONIST          45\n",
       "FULL AGONIST        19\n",
       "BINDER               2\n",
       "POSITIVE             2\n",
       "NEUTRAL              2\n",
       "OTHER/UNKNOWN        1\n",
       "LIGAND               1\n",
       "BIASED AGONIST       1\n",
       "Name: action, dtype: int64"
      ]
     },
     "execution_count": 568,
     "metadata": {},
     "output_type": "execute_result"
    }
   ],
   "source": [
    "df['action'].value_counts()"
   ]
  },
  {
   "cell_type": "code",
   "execution_count": 569,
   "metadata": {},
   "outputs": [
    {
     "data": {
      "text/plain": [
       "PARTIAL AGONIST    127\n",
       "AGONIST            113\n",
       "ANTAGONIST          45\n",
       "BINDER               2\n",
       "nan                  2\n",
       "POSITIVE             2\n",
       "NEUTRAL              2\n",
       "OTHER/UNKNOWN        1\n",
       "LIGAND               1\n",
       "BIASED AGONIST       1\n",
       "Name: action_gen, dtype: int64"
      ]
     },
     "execution_count": 569,
     "metadata": {},
     "output_type": "execute_result"
    }
   ],
   "source": [
    "def parse(x):\n",
    "    x = str(x)\n",
    "    if x.startswith(\"FULL \"):\n",
    "        return \"AGONIST\"\n",
    "    else:\n",
    "        return x\n",
    "        \n",
    "df[\"action_gen\"] = df[\"action\"].apply(parse)\n",
    "df[\"action_gen\"].value_counts()"
   ]
  },
  {
   "cell_type": "code",
   "execution_count": 570,
   "metadata": {},
   "outputs": [
    {
     "data": {
      "text/plain": [
       "PARTIAL AGONIST    127\n",
       "AGONIST            113\n",
       "ANTAGONIST          45\n",
       "OTHER               11\n",
       "Name: action_gen, dtype: int64"
      ]
     },
     "execution_count": 570,
     "metadata": {},
     "output_type": "execute_result"
    }
   ],
   "source": [
    "condition = (df.action_gen != \"AGONIST\") & (df.action_gen != \"ANTAGONIST\") & (df.action_gen != \"PARTIAL AGONIST\")\n",
    "df[\"action_gen\"] = np.where(condition, \"OTHER\", df.action_gen)\n",
    "df[\"action_gen\"].value_counts()"
   ]
  },
  {
   "cell_type": "code",
   "execution_count": 571,
   "metadata": {},
   "outputs": [],
   "source": [
    "df = df.drop_duplicates(subset=['cid'])\n",
    "df = df[['cid', 'smiles', 'action', 'action_gen']]\n",
    "df.set_index('cid', inplace=True)\n",
    "df.to_csv('data/processed/final_4_category.csv')"
   ]
  },
  {
   "cell_type": "code",
   "execution_count": 572,
   "metadata": {},
   "outputs": [],
   "source": [
    "df_parse = df[df[\"action_gen\"] != \"OTHER\"]\n",
    "df_parse.reset_index(inplace=True)"
   ]
  },
  {
   "cell_type": "code",
   "execution_count": 573,
   "metadata": {},
   "outputs": [],
   "source": [
    "X = df_parse[[\"cid\", \"smiles\"]]\n",
    "y = df_parse[[\"action_gen\"]]"
   ]
  },
  {
   "cell_type": "markdown",
   "metadata": {},
   "source": [
    "## Undersampling & Oversampling"
   ]
  },
  {
   "cell_type": "code",
   "execution_count": 574,
   "metadata": {},
   "outputs": [],
   "source": [
    "from imblearn.under_sampling import RandomUnderSampler\n",
    "from imblearn.over_sampling import RandomOverSampler"
   ]
  },
  {
   "cell_type": "code",
   "execution_count": 575,
   "metadata": {},
   "outputs": [],
   "source": [
    "SIZE = 60\n",
    "over = RandomOverSampler(sampling_strategy={'ANTAGONIST': SIZE})\n",
    "# fit and apply the transform\n",
    "X, y = over.fit_resample(X, y)\n",
    "# define undersampling strategy\n",
    "under = RandomUnderSampler(sampling_strategy={'PARTIAL AGONIST': SIZE + 20, 'AGONIST': SIZE + 10})\n",
    "# fit and apply the transform\n",
    "X, y = under.fit_resample(X, y)"
   ]
  },
  {
   "cell_type": "code",
   "execution_count": 576,
   "metadata": {},
   "outputs": [],
   "source": [
    "df = pd.concat([X, y], axis=1)"
   ]
  },
  {
   "cell_type": "code",
   "execution_count": 577,
   "metadata": {},
   "outputs": [
    {
     "name": "stdout",
     "output_type": "stream",
     "text": [
      ">>> create mol from smiles ... \n",
      ">>> create sentence from mol ... \n",
      ">>> load the word2vec model ... \n",
      ">>> create embedding from sentence ... \n",
      ">>> data columns =  Index(['cid', 'smiles', 'action_gen', 'mol', 'sentence', 'embedding'], dtype='object') \n",
      "\n"
     ]
    },
    {
     "data": {
      "text/html": [
       "<div>\n",
       "<style scoped>\n",
       "    .dataframe tbody tr th:only-of-type {\n",
       "        vertical-align: middle;\n",
       "    }\n",
       "\n",
       "    .dataframe tbody tr th {\n",
       "        vertical-align: top;\n",
       "    }\n",
       "\n",
       "    .dataframe thead th {\n",
       "        text-align: right;\n",
       "    }\n",
       "</style>\n",
       "<table border=\"1\" class=\"dataframe\">\n",
       "  <thead>\n",
       "    <tr style=\"text-align: right;\">\n",
       "      <th></th>\n",
       "      <th>0</th>\n",
       "      <th>1</th>\n",
       "      <th>2</th>\n",
       "      <th>3</th>\n",
       "      <th>4</th>\n",
       "      <th>5</th>\n",
       "      <th>6</th>\n",
       "      <th>7</th>\n",
       "      <th>8</th>\n",
       "      <th>9</th>\n",
       "      <th>...</th>\n",
       "      <th>290</th>\n",
       "      <th>291</th>\n",
       "      <th>292</th>\n",
       "      <th>293</th>\n",
       "      <th>294</th>\n",
       "      <th>295</th>\n",
       "      <th>296</th>\n",
       "      <th>297</th>\n",
       "      <th>298</th>\n",
       "      <th>299</th>\n",
       "    </tr>\n",
       "  </thead>\n",
       "  <tbody>\n",
       "    <tr>\n",
       "      <th>0</th>\n",
       "      <td>0.808758</td>\n",
       "      <td>-3.756391</td>\n",
       "      <td>-1.144994</td>\n",
       "      <td>5.116853</td>\n",
       "      <td>1.805863</td>\n",
       "      <td>-1.599156</td>\n",
       "      <td>-11.152855</td>\n",
       "      <td>0.409651</td>\n",
       "      <td>6.866855</td>\n",
       "      <td>-0.748342</td>\n",
       "      <td>...</td>\n",
       "      <td>-1.958525</td>\n",
       "      <td>12.554415</td>\n",
       "      <td>10.737741</td>\n",
       "      <td>-0.083683</td>\n",
       "      <td>-9.564690</td>\n",
       "      <td>-2.951824</td>\n",
       "      <td>-3.560027</td>\n",
       "      <td>-6.441918</td>\n",
       "      <td>-11.949931</td>\n",
       "      <td>-3.966004</td>\n",
       "    </tr>\n",
       "    <tr>\n",
       "      <th>1</th>\n",
       "      <td>0.619165</td>\n",
       "      <td>-3.699804</td>\n",
       "      <td>-3.688030</td>\n",
       "      <td>1.413995</td>\n",
       "      <td>1.368354</td>\n",
       "      <td>-6.651547</td>\n",
       "      <td>-13.590994</td>\n",
       "      <td>2.757429</td>\n",
       "      <td>3.370274</td>\n",
       "      <td>2.640249</td>\n",
       "      <td>...</td>\n",
       "      <td>-2.574120</td>\n",
       "      <td>15.301981</td>\n",
       "      <td>6.480038</td>\n",
       "      <td>1.606085</td>\n",
       "      <td>-12.458905</td>\n",
       "      <td>-10.682524</td>\n",
       "      <td>-8.736527</td>\n",
       "      <td>-5.380240</td>\n",
       "      <td>-16.338335</td>\n",
       "      <td>1.824793</td>\n",
       "    </tr>\n",
       "    <tr>\n",
       "      <th>2</th>\n",
       "      <td>1.310050</td>\n",
       "      <td>0.504837</td>\n",
       "      <td>-3.955574</td>\n",
       "      <td>3.383390</td>\n",
       "      <td>0.083023</td>\n",
       "      <td>-2.071843</td>\n",
       "      <td>-12.156094</td>\n",
       "      <td>1.097509</td>\n",
       "      <td>7.664642</td>\n",
       "      <td>2.045137</td>\n",
       "      <td>...</td>\n",
       "      <td>-2.611433</td>\n",
       "      <td>11.828957</td>\n",
       "      <td>9.120181</td>\n",
       "      <td>-0.114614</td>\n",
       "      <td>-11.011421</td>\n",
       "      <td>-6.701509</td>\n",
       "      <td>-7.150333</td>\n",
       "      <td>-5.664007</td>\n",
       "      <td>-10.578299</td>\n",
       "      <td>-1.443004</td>\n",
       "    </tr>\n",
       "    <tr>\n",
       "      <th>3</th>\n",
       "      <td>2.616493</td>\n",
       "      <td>-1.805237</td>\n",
       "      <td>-1.552049</td>\n",
       "      <td>4.284655</td>\n",
       "      <td>-1.366528</td>\n",
       "      <td>-3.916826</td>\n",
       "      <td>-8.756064</td>\n",
       "      <td>4.684719</td>\n",
       "      <td>-1.132669</td>\n",
       "      <td>2.197711</td>\n",
       "      <td>...</td>\n",
       "      <td>-1.492761</td>\n",
       "      <td>13.124360</td>\n",
       "      <td>3.519817</td>\n",
       "      <td>-0.463862</td>\n",
       "      <td>-11.457003</td>\n",
       "      <td>-7.321039</td>\n",
       "      <td>-9.967497</td>\n",
       "      <td>0.218193</td>\n",
       "      <td>-7.686374</td>\n",
       "      <td>1.708560</td>\n",
       "    </tr>\n",
       "    <tr>\n",
       "      <th>4</th>\n",
       "      <td>0.470723</td>\n",
       "      <td>-2.132651</td>\n",
       "      <td>-1.004214</td>\n",
       "      <td>3.989480</td>\n",
       "      <td>-0.290720</td>\n",
       "      <td>-7.012212</td>\n",
       "      <td>-14.124387</td>\n",
       "      <td>4.198347</td>\n",
       "      <td>1.262004</td>\n",
       "      <td>0.614888</td>\n",
       "      <td>...</td>\n",
       "      <td>-4.208807</td>\n",
       "      <td>15.056268</td>\n",
       "      <td>6.524079</td>\n",
       "      <td>-2.986403</td>\n",
       "      <td>-15.526501</td>\n",
       "      <td>-12.189074</td>\n",
       "      <td>-9.324614</td>\n",
       "      <td>-3.716681</td>\n",
       "      <td>-9.397925</td>\n",
       "      <td>1.024810</td>\n",
       "    </tr>\n",
       "    <tr>\n",
       "      <th>...</th>\n",
       "      <td>...</td>\n",
       "      <td>...</td>\n",
       "      <td>...</td>\n",
       "      <td>...</td>\n",
       "      <td>...</td>\n",
       "      <td>...</td>\n",
       "      <td>...</td>\n",
       "      <td>...</td>\n",
       "      <td>...</td>\n",
       "      <td>...</td>\n",
       "      <td>...</td>\n",
       "      <td>...</td>\n",
       "      <td>...</td>\n",
       "      <td>...</td>\n",
       "      <td>...</td>\n",
       "      <td>...</td>\n",
       "      <td>...</td>\n",
       "      <td>...</td>\n",
       "      <td>...</td>\n",
       "      <td>...</td>\n",
       "      <td>...</td>\n",
       "    </tr>\n",
       "    <tr>\n",
       "      <th>205</th>\n",
       "      <td>-10.463787</td>\n",
       "      <td>-10.161967</td>\n",
       "      <td>-1.861415</td>\n",
       "      <td>-2.378057</td>\n",
       "      <td>20.675098</td>\n",
       "      <td>-10.116720</td>\n",
       "      <td>-50.522667</td>\n",
       "      <td>-11.981977</td>\n",
       "      <td>49.108356</td>\n",
       "      <td>0.378932</td>\n",
       "      <td>...</td>\n",
       "      <td>6.146253</td>\n",
       "      <td>37.547058</td>\n",
       "      <td>45.017548</td>\n",
       "      <td>25.573624</td>\n",
       "      <td>-34.595623</td>\n",
       "      <td>-5.993409</td>\n",
       "      <td>-4.127573</td>\n",
       "      <td>-41.574436</td>\n",
       "      <td>-50.190807</td>\n",
       "      <td>-8.451612</td>\n",
       "    </tr>\n",
       "    <tr>\n",
       "      <th>206</th>\n",
       "      <td>1.238312</td>\n",
       "      <td>-5.304539</td>\n",
       "      <td>-2.136388</td>\n",
       "      <td>7.568429</td>\n",
       "      <td>-2.111284</td>\n",
       "      <td>-2.232839</td>\n",
       "      <td>-17.637012</td>\n",
       "      <td>0.490300</td>\n",
       "      <td>7.695356</td>\n",
       "      <td>2.943468</td>\n",
       "      <td>...</td>\n",
       "      <td>-1.198793</td>\n",
       "      <td>20.002918</td>\n",
       "      <td>11.489108</td>\n",
       "      <td>0.695822</td>\n",
       "      <td>-13.073326</td>\n",
       "      <td>-7.375031</td>\n",
       "      <td>-10.396597</td>\n",
       "      <td>-4.624929</td>\n",
       "      <td>-16.982567</td>\n",
       "      <td>0.950502</td>\n",
       "    </tr>\n",
       "    <tr>\n",
       "      <th>207</th>\n",
       "      <td>-0.087833</td>\n",
       "      <td>-5.175261</td>\n",
       "      <td>-0.872487</td>\n",
       "      <td>6.155688</td>\n",
       "      <td>-2.814585</td>\n",
       "      <td>-1.842228</td>\n",
       "      <td>-13.217561</td>\n",
       "      <td>0.979104</td>\n",
       "      <td>9.047121</td>\n",
       "      <td>1.131404</td>\n",
       "      <td>...</td>\n",
       "      <td>-1.869926</td>\n",
       "      <td>14.941614</td>\n",
       "      <td>9.852917</td>\n",
       "      <td>1.051333</td>\n",
       "      <td>-10.357376</td>\n",
       "      <td>-3.547397</td>\n",
       "      <td>-8.912207</td>\n",
       "      <td>-3.753923</td>\n",
       "      <td>-11.112837</td>\n",
       "      <td>-0.850803</td>\n",
       "    </tr>\n",
       "    <tr>\n",
       "      <th>208</th>\n",
       "      <td>5.997138</td>\n",
       "      <td>-6.954918</td>\n",
       "      <td>-0.887076</td>\n",
       "      <td>5.344829</td>\n",
       "      <td>-2.958733</td>\n",
       "      <td>-3.815748</td>\n",
       "      <td>-13.253129</td>\n",
       "      <td>5.932392</td>\n",
       "      <td>-1.211188</td>\n",
       "      <td>4.391876</td>\n",
       "      <td>...</td>\n",
       "      <td>-0.462063</td>\n",
       "      <td>20.250456</td>\n",
       "      <td>3.825267</td>\n",
       "      <td>-3.874045</td>\n",
       "      <td>-16.655293</td>\n",
       "      <td>-9.944824</td>\n",
       "      <td>-15.146537</td>\n",
       "      <td>-3.631362</td>\n",
       "      <td>-12.900338</td>\n",
       "      <td>0.722468</td>\n",
       "    </tr>\n",
       "    <tr>\n",
       "      <th>209</th>\n",
       "      <td>2.580001</td>\n",
       "      <td>-3.397660</td>\n",
       "      <td>-0.474477</td>\n",
       "      <td>7.085941</td>\n",
       "      <td>-2.454777</td>\n",
       "      <td>-3.361544</td>\n",
       "      <td>-12.423684</td>\n",
       "      <td>3.075268</td>\n",
       "      <td>2.355472</td>\n",
       "      <td>2.925626</td>\n",
       "      <td>...</td>\n",
       "      <td>-2.494027</td>\n",
       "      <td>14.330917</td>\n",
       "      <td>8.367843</td>\n",
       "      <td>-1.812596</td>\n",
       "      <td>-11.925773</td>\n",
       "      <td>-7.253327</td>\n",
       "      <td>-10.189756</td>\n",
       "      <td>-2.528492</td>\n",
       "      <td>-10.371673</td>\n",
       "      <td>1.301132</td>\n",
       "    </tr>\n",
       "  </tbody>\n",
       "</table>\n",
       "<p>210 rows × 300 columns</p>\n",
       "</div>"
      ],
      "text/plain": [
       "           0          1         2         3          4          5    \\\n",
       "0     0.808758  -3.756391 -1.144994  5.116853   1.805863  -1.599156   \n",
       "1     0.619165  -3.699804 -3.688030  1.413995   1.368354  -6.651547   \n",
       "2     1.310050   0.504837 -3.955574  3.383390   0.083023  -2.071843   \n",
       "3     2.616493  -1.805237 -1.552049  4.284655  -1.366528  -3.916826   \n",
       "4     0.470723  -2.132651 -1.004214  3.989480  -0.290720  -7.012212   \n",
       "..         ...        ...       ...       ...        ...        ...   \n",
       "205 -10.463787 -10.161967 -1.861415 -2.378057  20.675098 -10.116720   \n",
       "206   1.238312  -5.304539 -2.136388  7.568429  -2.111284  -2.232839   \n",
       "207  -0.087833  -5.175261 -0.872487  6.155688  -2.814585  -1.842228   \n",
       "208   5.997138  -6.954918 -0.887076  5.344829  -2.958733  -3.815748   \n",
       "209   2.580001  -3.397660 -0.474477  7.085941  -2.454777  -3.361544   \n",
       "\n",
       "           6          7          8         9    ...       290        291  \\\n",
       "0   -11.152855   0.409651   6.866855 -0.748342  ... -1.958525  12.554415   \n",
       "1   -13.590994   2.757429   3.370274  2.640249  ... -2.574120  15.301981   \n",
       "2   -12.156094   1.097509   7.664642  2.045137  ... -2.611433  11.828957   \n",
       "3    -8.756064   4.684719  -1.132669  2.197711  ... -1.492761  13.124360   \n",
       "4   -14.124387   4.198347   1.262004  0.614888  ... -4.208807  15.056268   \n",
       "..         ...        ...        ...       ...  ...       ...        ...   \n",
       "205 -50.522667 -11.981977  49.108356  0.378932  ...  6.146253  37.547058   \n",
       "206 -17.637012   0.490300   7.695356  2.943468  ... -1.198793  20.002918   \n",
       "207 -13.217561   0.979104   9.047121  1.131404  ... -1.869926  14.941614   \n",
       "208 -13.253129   5.932392  -1.211188  4.391876  ... -0.462063  20.250456   \n",
       "209 -12.423684   3.075268   2.355472  2.925626  ... -2.494027  14.330917   \n",
       "\n",
       "           292        293        294        295        296        297  \\\n",
       "0    10.737741  -0.083683  -9.564690  -2.951824  -3.560027  -6.441918   \n",
       "1     6.480038   1.606085 -12.458905 -10.682524  -8.736527  -5.380240   \n",
       "2     9.120181  -0.114614 -11.011421  -6.701509  -7.150333  -5.664007   \n",
       "3     3.519817  -0.463862 -11.457003  -7.321039  -9.967497   0.218193   \n",
       "4     6.524079  -2.986403 -15.526501 -12.189074  -9.324614  -3.716681   \n",
       "..         ...        ...        ...        ...        ...        ...   \n",
       "205  45.017548  25.573624 -34.595623  -5.993409  -4.127573 -41.574436   \n",
       "206  11.489108   0.695822 -13.073326  -7.375031 -10.396597  -4.624929   \n",
       "207   9.852917   1.051333 -10.357376  -3.547397  -8.912207  -3.753923   \n",
       "208   3.825267  -3.874045 -16.655293  -9.944824 -15.146537  -3.631362   \n",
       "209   8.367843  -1.812596 -11.925773  -7.253327 -10.189756  -2.528492   \n",
       "\n",
       "           298       299  \n",
       "0   -11.949931 -3.966004  \n",
       "1   -16.338335  1.824793  \n",
       "2   -10.578299 -1.443004  \n",
       "3    -7.686374  1.708560  \n",
       "4    -9.397925  1.024810  \n",
       "..         ...       ...  \n",
       "205 -50.190807 -8.451612  \n",
       "206 -16.982567  0.950502  \n",
       "207 -11.112837 -0.850803  \n",
       "208 -12.900338  0.722468  \n",
       "209 -10.371673  1.301132  \n",
       "\n",
       "[210 rows x 300 columns]"
      ]
     },
     "execution_count": 577,
     "metadata": {},
     "output_type": "execute_result"
    }
   ],
   "source": [
    "print(\">>> create mol from smiles ... \")\n",
    "df['mol'] = df['smiles'].apply(lambda x: Chem.MolFromSmiles(x)) \n",
    "\n",
    "print(\">>> create sentence from mol ... \")\n",
    "df['sentence'] = df.apply(lambda x: MolSentence(mol2alt_sentence(x['mol'], radius=1)), axis=1)\n",
    "\n",
    "print(\">>> load the word2vec model ... \")\n",
    "from gensim.models import word2vec\n",
    "w2v_model = word2vec.Word2Vec.load('model\\\\model_300dim.pkl')\n",
    "# w2v_model = word2vec.Word2Vec.load('model_300dim.pkl')\n",
    "\n",
    "print(\">>> create embedding from sentence ... \")\n",
    "df['embedding'] = [DfVec(x) for x in sentences2vec(df['sentence'], w2v_model)]\n",
    "\n",
    "print(\">>> data columns = \", df.columns, \"\\n\")\n",
    "\n",
    "df_mol2vec = np.array([x.vec for x in df['embedding']])\n",
    "df_mol2vec = pd.DataFrame(df_mol2vec)\n",
    "df_mol2vec"
   ]
  },
  {
   "cell_type": "markdown",
   "metadata": {},
   "source": [
    "### PCA then TSNE"
   ]
  },
  {
   "cell_type": "code",
   "execution_count": 578,
   "metadata": {},
   "outputs": [],
   "source": [
    "np.random.seed(42)"
   ]
  },
  {
   "cell_type": "code",
   "execution_count": 579,
   "metadata": {},
   "outputs": [],
   "source": [
    "X_raw = df_mol2vec"
   ]
  },
  {
   "cell_type": "code",
   "execution_count": 580,
   "metadata": {},
   "outputs": [
    {
     "name": "stderr",
     "output_type": "stream",
     "text": [
      "c:\\Users\\Public\\anaconda3\\envs\\m2vec\\lib\\site-packages\\sklearn\\manifold\\_t_sne.py:783: FutureWarning: The default initialization in TSNE will change from 'random' to 'pca' in 1.2.\n",
      "  FutureWarning,\n",
      "c:\\Users\\Public\\anaconda3\\envs\\m2vec\\lib\\site-packages\\sklearn\\manifold\\_t_sne.py:793: FutureWarning: The default learning rate in TSNE will change from 200.0 to 'auto' in 1.2.\n",
      "  FutureWarning,\n"
     ]
    },
    {
     "data": {
      "text/plain": [
       "(210, 2)"
      ]
     },
     "execution_count": 580,
     "metadata": {},
     "output_type": "execute_result"
    }
   ],
   "source": [
    "from sklearn.pipeline import Pipeline\n",
    "from sklearn.preprocessing import StandardScaler\n",
    "from sklearn.decomposition import PCA\n",
    "from sklearn.manifold import TSNE\n",
    "\n",
    "sc = StandardScaler()\n",
    "pca = PCA(random_state=42)\n",
    "tsne = TSNE(random_state=42)\n",
    "\n",
    "tsne_after_pca = Pipeline([\n",
    "    ('std_scaler', sc),\n",
    "    ('pca', pca),\n",
    "    ('tsne', tsne)\n",
    "])\n",
    "\n",
    "X_tsne_pca = tsne_after_pca.fit_transform(df_mol2vec)\n",
    "X_tsne_pca.shape"
   ]
  },
  {
   "cell_type": "markdown",
   "metadata": {},
   "source": [
    "### Kernel PCA then TSNE"
   ]
  },
  {
   "cell_type": "code",
   "execution_count": 581,
   "metadata": {},
   "outputs": [
    {
     "name": "stderr",
     "output_type": "stream",
     "text": [
      "c:\\Users\\Public\\anaconda3\\envs\\m2vec\\lib\\site-packages\\sklearn\\manifold\\_t_sne.py:783: FutureWarning: The default initialization in TSNE will change from 'random' to 'pca' in 1.2.\n",
      "  FutureWarning,\n",
      "c:\\Users\\Public\\anaconda3\\envs\\m2vec\\lib\\site-packages\\sklearn\\manifold\\_t_sne.py:793: FutureWarning: The default learning rate in TSNE will change from 200.0 to 'auto' in 1.2.\n",
      "  FutureWarning,\n"
     ]
    },
    {
     "data": {
      "text/plain": [
       "(210, 2)"
      ]
     },
     "execution_count": 581,
     "metadata": {},
     "output_type": "execute_result"
    }
   ],
   "source": [
    "from sklearn.decomposition import KernelPCA\n",
    "from sklearn.manifold import MDS\n",
    "from sklearn.manifold import Isomap\n",
    "\n",
    "\n",
    "sc = StandardScaler()\n",
    "kpca = KernelPCA(n_components=10, kernel='rbf', \n",
    "                 gamma=0.01, random_state=42)\n",
    "# kpca = KernelPCA(kernel='rbf', random_state=42)\n",
    "tsne = TSNE(n_components=2)\n",
    "mds = MDS(n_components=2, metric=True, random_state=42)\n",
    "isomap = Isomap(n_neighbors=5, n_components=42, \n",
    "                eigen_solver='auto')\n",
    "\n",
    "\n",
    "scaled_kpca = Pipeline([\n",
    "    ('std_scaler', sc),\n",
    "    ('pca', kpca),\n",
    "    ('tsne', tsne),\n",
    "    # ('mds', mds),\n",
    "    # ('isomap', isomap),\n",
    "])\n",
    "\n",
    "X_tsne_kernel_pca = scaled_kpca.fit_transform(df_mol2vec)\n",
    "X_tsne_kernel_pca.shape"
   ]
  },
  {
   "cell_type": "code",
   "execution_count": 582,
   "metadata": {},
   "outputs": [],
   "source": [
    "# from sklearn.model_selection import GridSearchCV\n",
    "# from sklearn.tree import DecisionTreeClassifier\n",
    "# from sklearn.ensemble import RandomForestClassifier\n",
    "# from sklearn.pipeline import Pipeline\n",
    "\n",
    "# clf = Pipeline([\n",
    "#     (\"kpca\", KernelPCA(gamma=0.01, random_state=42)),\n",
    "#     (\"log_reg\", RandomForestClassifier())\n",
    "#  ])\n",
    "# param_grid = [{\n",
    "#  \"kpca__n_components\": [None] + [i for i in range(10)],\n",
    "#  \"kpca__gamma\": np.arange(0.01, 10, 0.01),\n",
    "#  \"kpca__kernel\": [\"rbf\", \"sigmoid\"]\n",
    "#  }]\n",
    "# grid_search = GridSearchCV(clf, param_grid, cv=3)\n",
    "# grid_search.fit(df_mol2vec, y[\"action_gen\"].to_list())"
   ]
  },
  {
   "cell_type": "code",
   "execution_count": 583,
   "metadata": {},
   "outputs": [],
   "source": [
    "# print(grid_search.best_params_)"
   ]
  },
  {
   "cell_type": "markdown",
   "metadata": {},
   "source": [
    "### LDA"
   ]
  },
  {
   "cell_type": "code",
   "execution_count": 594,
   "metadata": {},
   "outputs": [
    {
     "data": {
      "image/png": "[encoded data removed]",
      "text/plain": [
       "<Figure size 432x288 with 1 Axes>"
      ]
     },
     "metadata": {
      "needs_background": "light"
     },
     "output_type": "display_data"
    }
   ],
   "source": [
    "from sklearn.discriminant_analysis import LinearDiscriminantAnalysis as LDA\n",
    "from sklearn.model_selection import train_test_split\n",
    "\n",
    "np.random.seed(42)\n",
    "df_mol2vec_scaled = df_mol2vec\n",
    "scaler = StandardScaler()\n",
    "df_mol2vec_scaled = pd.DataFrame(scaler.fit_transform(df_mol2vec))\n",
    "df_mol2vec_scaled['action_gen'] = df['action_gen']\n",
    "\n",
    "\n",
    "# normal LDA \n",
    "n_comp = 2\n",
    "# lda = LDA(n_components=n_comp).fit(df_mol2vec_scaled.iloc[:, :-1], df_mol2vec_scaled.iloc[:, -1])\n",
    "\n",
    "# normal LDA with partial training set to prevent overfitting\n",
    "# df_sample = df_mol2vec_scaled.sample(n=130)\n",
    "# lda = LDA(n_components=n_comp).fit(df_sample.iloc[:, :-1], df_sample.iloc[:, -1])\n",
    "# X_train, X_test, y_train, y_test = train_test_split(df_mol2vec_scaled.iloc[:, :-1], df_mol2vec_scaled.iloc[:, -1], \n",
    "#                                                 train_size=0.70, random_state=42)\n",
    "# lda = LDA(n_components=n_comp).fit(X_train, y_train)\n",
    "\n",
    "# solve generalized eigenvalue problem\n",
    "X_train, X_test, y_train, y_test = train_test_split(df_mol2vec_scaled.iloc[:, :-1], df_mol2vec_scaled.iloc[:, -1], \n",
    "                                                train_size=0.6, random_state=42)\n",
    "lda = LDA(n_components=n_comp, solver='eigen', shrinkage=0.025).fit(X_train, y_train)\n",
    "\n",
    "df_mol2vec_scaled.drop(\"action_gen\", axis=1, inplace=True)\n",
    "lda_results = lda.transform(df_mol2vec_scaled)\n",
    "# lda_results = lda.transform(X_test)\n",
    "\n",
    "lda_results = pd.DataFrame(lda_results, columns=['lda' + str(i) for i in range(1, n_comp+1)])\n",
    "# sns.scatterplot(x='lda1', y=\"lda2\", hue=y_test, data=lda_results)\n",
    "sns.scatterplot(x='lda1', y=\"lda2\", hue=df['action_gen'], data=lda_results)\n",
    "plt.title('Clusters on LDA with actual values')\n",
    "plt.show()"
   ]
  },
  {
   "cell_type": "code",
   "execution_count": 584,
   "metadata": {},
   "outputs": [
    {
     "data": {
      "text/plain": [
       "GridSearchCV(cv=10,\n",
       "             estimator=Pipeline(steps=[('lda',\n",
       "                                        LinearDiscriminantAnalysis(n_components=2))]),\n",
       "             param_grid=[{'lda__shrinkage': array([0.001, 0.002, 0.003, 0.004, 0.005, 0.006, 0.007, 0.008, 0.009,\n",
       "       0.01 , 0.011, 0.012, 0.013, 0.014, 0.015, 0.016, 0.017, 0.018,\n",
       "       0.019, 0.02 , 0.021, 0.022, 0.023, 0.024, 0.025, 0.026, 0.027,\n",
       "       0.028, 0.029, 0.03 , 0.031, 0.032, 0.033, 0.034, 0.035, 0.036,\n",
       "       0....\n",
       "       0.442, 0.443, 0.444, 0.445, 0.446, 0.447, 0.448, 0.449, 0.45 ,\n",
       "       0.451, 0.452, 0.453, 0.454, 0.455, 0.456, 0.457, 0.458, 0.459,\n",
       "       0.46 , 0.461, 0.462, 0.463, 0.464, 0.465, 0.466, 0.467, 0.468,\n",
       "       0.469, 0.47 , 0.471, 0.472, 0.473, 0.474, 0.475, 0.476, 0.477,\n",
       "       0.478, 0.479, 0.48 , 0.481, 0.482, 0.483, 0.484, 0.485, 0.486,\n",
       "       0.487, 0.488, 0.489, 0.49 , 0.491, 0.492, 0.493, 0.494, 0.495,\n",
       "       0.496, 0.497, 0.498, 0.499]),\n",
       "                          'lda__solver': ['eigen']}])"
      ]
     },
     "execution_count": 584,
     "metadata": {},
     "output_type": "execute_result"
    }
   ],
   "source": [
    "from sklearn.model_selection import GridSearchCV\n",
    "from sklearn.pipeline import Pipeline\n",
    "\n",
    "clf = Pipeline([\n",
    "    (\"lda\", LDA(n_components=2))\n",
    " ])\n",
    "param_grid = [{\n",
    " \"lda__shrinkage\": np.arange(0.001, 0.5, 0.001),\n",
    " \"lda__solver\": [\"eigen\"]\n",
    " }]\n",
    "grid_search = GridSearchCV(clf, param_grid, cv=10)\n",
    "grid_search.fit(df_mol2vec, y[\"action_gen\"].to_list())"
   ]
  },
  {
   "cell_type": "code",
   "execution_count": 585,
   "metadata": {},
   "outputs": [
    {
     "name": "stdout",
     "output_type": "stream",
     "text": [
      "{'lda__shrinkage': 0.004, 'lda__solver': 'eigen'}\n",
      "0.8428571428571429\n"
     ]
    }
   ],
   "source": [
    "print(grid_search.best_params_)\n",
    "print(grid_search.best_score_)"
   ]
  },
  {
   "cell_type": "markdown",
   "metadata": {},
   "source": [
    "### SVD then TSNE\n"
   ]
  },
  {
   "cell_type": "code",
   "execution_count": null,
   "metadata": {},
   "outputs": [
    {
     "name": "stderr",
     "output_type": "stream",
     "text": [
      "c:\\Users\\Public\\anaconda3\\envs\\m2vec\\lib\\site-packages\\sklearn\\manifold\\_t_sne.py:783: FutureWarning: The default initialization in TSNE will change from 'random' to 'pca' in 1.2.\n",
      "  FutureWarning,\n",
      "c:\\Users\\Public\\anaconda3\\envs\\m2vec\\lib\\site-packages\\sklearn\\manifold\\_t_sne.py:793: FutureWarning: The default learning rate in TSNE will change from 200.0 to 'auto' in 1.2.\n",
      "  FutureWarning,\n"
     ]
    },
    {
     "data": {
      "text/plain": [
       "(210, 2)"
      ]
     },
     "execution_count": 532,
     "metadata": {},
     "output_type": "execute_result"
    }
   ],
   "source": [
    "from sklearn.decomposition import TruncatedSVD\n",
    "\n",
    "sc = StandardScaler()\n",
    "svd = TruncatedSVD(random_state=42)\n",
    "tsne = TSNE(random_state=42)\n",
    "\n",
    "tsne_after_svd = Pipeline([\n",
    "    ('std_scaler', sc),\n",
    "    ('svd', svd),\n",
    "    ('tsne', tsne)\n",
    "])\n",
    "\n",
    "X_tsne_svd = tsne_after_svd.fit_transform(df_mol2vec)\n",
    "X_tsne_svd.shape"
   ]
  },
  {
   "cell_type": "code",
   "execution_count": null,
   "metadata": {},
   "outputs": [],
   "source": [
    "# X = X_tsne_pca\n",
    "# X = X_tsne_svd\n",
    "# X = X_tsne_kernel_pca\n",
    "X = lda_results.values\n",
    "# X = X_raw"
   ]
  },
  {
   "cell_type": "code",
   "execution_count": null,
   "metadata": {},
   "outputs": [
    {
     "data": {
      "text/plain": [
       "<AxesSubplot:>"
      ]
     },
     "execution_count": 534,
     "metadata": {},
     "output_type": "execute_result"
    },
    {
     "data": {
      "image/png": "[encoded data removed]",
      "text/plain": [
       "<Figure size 432x288 with 1 Axes>"
      ]
     },
     "metadata": {
      "needs_background": "light"
     },
     "output_type": "display_data"
    }
   ],
   "source": [
    "X_plot = X\n",
    "# if X.shape[1] > 2:\n",
    "#     tsne = TSNE(n_components=2, random_state=42)\n",
    "#     X_plot = tsne.fit_transform(X)\n",
    "sns.scatterplot(x=X_plot[:, 0], y=X_plot[:, 1], hue=df[\"action_gen\"])"
   ]
  },
  {
   "cell_type": "markdown",
   "metadata": {},
   "source": [
    "## K-means"
   ]
  },
  {
   "cell_type": "code",
   "execution_count": null,
   "metadata": {},
   "outputs": [],
   "source": [
    "from sklearn.metrics import classification_report\n",
    "from sklearn.metrics import f1_score\n",
    "from sklearn.metrics import accuracy_score\n",
    "from sklearn.metrics import rand_score"
   ]
  },
  {
   "cell_type": "code",
   "execution_count": null,
   "metadata": {},
   "outputs": [],
   "source": [
    "from sklearn.cluster import KMeans # lowest is optimal\n",
    "clusterer = KMeans(n_clusters=3, random_state=42)\n",
    "kmeans_result = clusterer.fit_predict(X)\n",
    "result = pd.DataFrame(kmeans_result, columns=[\"clusters\"])"
   ]
  },
  {
   "cell_type": "code",
   "execution_count": null,
   "metadata": {},
   "outputs": [
    {
     "name": "stdout",
     "output_type": "stream",
     "text": [
      "1    75\n",
      "2    70\n",
      "0    65\n",
      "Name: clusters, dtype: int64\n",
      "pairing_score:  0.8601503759398497\n",
      "                 precision    recall  f1-score   support\n",
      "\n",
      "        AGONIST       0.86      0.86      0.86        70\n",
      "     ANTAGONIST       0.86      0.93      0.90        60\n",
      "PARTIAL AGONIST       0.93      0.88      0.90        80\n",
      "\n",
      "       accuracy                           0.89       210\n",
      "      macro avg       0.88      0.89      0.89       210\n",
      "   weighted avg       0.89      0.89      0.89       210\n",
      "\n"
     ]
    }
   ],
   "source": [
    "print(result['clusters'].value_counts())\n",
    "# sort keys based on number of values in each clusters\n",
    "cluster_dict = dict(result['clusters'].value_counts())\n",
    "cluster_dict = dict(sorted(cluster_dict.items(), key=lambda item: item[1])).keys()\n",
    "cluster_dict = list(cluster_dict)\n",
    "\n",
    "result['action_gen'] = df['action_gen']\n",
    "result['action_gen_cluster'] = result['clusters'].map({cluster_dict[1]: 'AGONIST', cluster_dict[0]: 'ANTAGONIST', cluster_dict[2]: 'PARTIAL AGONIST'})\n",
    "\n",
    "print('pairing_score: ', rand_score(result.action_gen, result.action_gen_cluster))\n",
    "result[result.action_gen == result.action_gen_cluster].shape[0] / result.shape[0]\n",
    "# print('Accuracy', accuracy_score(result.action_gen, result.action_gen_cluster))\n",
    "print(classification_report(result.action_gen, result.action_gen_cluster))\n"
   ]
  },
  {
   "cell_type": "markdown",
   "metadata": {},
   "source": [
    "## Hierarchical Clustering"
   ]
  },
  {
   "cell_type": "code",
   "execution_count": null,
   "metadata": {},
   "outputs": [],
   "source": [
    "from sklearn.cluster import AgglomerativeClustering\n",
    "\n",
    "hier_thresh = AgglomerativeClustering(n_clusters=3, linkage='complete')\n",
    "agglomerative_result = hier_thresh.fit_predict(X)\n",
    "result = pd.DataFrame(agglomerative_result, columns=[\"clusters\"])"
   ]
  },
  {
   "cell_type": "code",
   "execution_count": null,
   "metadata": {},
   "outputs": [
    {
     "name": "stdout",
     "output_type": "stream",
     "text": [
      "0    137\n",
      "2     64\n",
      "1      9\n",
      "Name: clusters, dtype: int64\n",
      "pairing_score:  0.674231032125769\n",
      "                 precision    recall  f1-score   support\n",
      "\n",
      "        AGONIST       0.91      0.83      0.87        70\n",
      "     ANTAGONIST       0.00      0.00      0.00        60\n",
      "PARTIAL AGONIST       0.51      0.88      0.65        80\n",
      "\n",
      "       accuracy                           0.61       210\n",
      "      macro avg       0.47      0.57      0.50       210\n",
      "   weighted avg       0.50      0.61      0.53       210\n",
      "\n"
     ]
    }
   ],
   "source": [
    "print(result['clusters'].value_counts())\n",
    "# sort keys based on number of values in each clusters\n",
    "cluster_dict = dict(result['clusters'].value_counts())\n",
    "cluster_dict = dict(sorted(cluster_dict.items(), key=lambda item: item[1])).keys()\n",
    "cluster_dict = list(cluster_dict)\n",
    "\n",
    "result['action_gen'] = df['action_gen']\n",
    "result['action_gen_cluster'] = result['clusters'].map({cluster_dict[1]: 'AGONIST', cluster_dict[0]: 'ANTAGONIST', cluster_dict[2]: 'PARTIAL AGONIST'})\n",
    "\n",
    "print('pairing_score: ', rand_score(result.action_gen, result.action_gen_cluster))\n",
    "result[result.action_gen == result.action_gen_cluster].shape[0] / result.shape[0]\n",
    "# print('Accuracy', accuracy_score(result.action_gen, result.action_gen_cluster))\n",
    "print(classification_report(result.action_gen, result.action_gen_cluster))\n"
   ]
  },
  {
   "cell_type": "markdown",
   "metadata": {},
   "source": [
    "## Spectral Clustering"
   ]
  },
  {
   "cell_type": "code",
   "execution_count": null,
   "metadata": {},
   "outputs": [],
   "source": [
    "from sklearn.cluster import SpectralClustering\n",
    "\n",
    "spectral_cluster = SpectralClustering(n_clusters=3)\n",
    "spectral_result = spectral_cluster.fit_predict(X)\n",
    "result = pd.DataFrame(spectral_result, columns=[\"clusters\"])"
   ]
  },
  {
   "cell_type": "code",
   "execution_count": null,
   "metadata": {},
   "outputs": [
    {
     "name": "stdout",
     "output_type": "stream",
     "text": [
      "0    203\n",
      "2      4\n",
      "1      3\n",
      "Name: clusters, dtype: int64\n",
      "pairing_score:  0.35552517657780813\n",
      "                 precision    recall  f1-score   support\n",
      "\n",
      "        AGONIST       0.75      0.04      0.08        70\n",
      "     ANTAGONIST       0.00      0.00      0.00        60\n",
      "PARTIAL AGONIST       0.38      0.97      0.55        80\n",
      "\n",
      "       accuracy                           0.39       210\n",
      "      macro avg       0.38      0.34      0.21       210\n",
      "   weighted avg       0.40      0.39      0.24       210\n",
      "\n"
     ]
    }
   ],
   "source": [
    "print(result['clusters'].value_counts())\n",
    "# sort keys based on number of values in each clusters\n",
    "cluster_dict = dict(result['clusters'].value_counts())\n",
    "cluster_dict = dict(sorted(cluster_dict.items(), key=lambda item: item[1])).keys()\n",
    "cluster_dict = list(cluster_dict)\n",
    "\n",
    "result['action_gen'] = df['action_gen']\n",
    "result['action_gen_cluster'] = result['clusters'].map({cluster_dict[1]: 'AGONIST', cluster_dict[0]: 'ANTAGONIST', cluster_dict[2]: 'PARTIAL AGONIST'})\n",
    "\n",
    "print('pairing_score: ', rand_score(result.action_gen, result.action_gen_cluster))\n",
    "result[result.action_gen == result.action_gen_cluster].shape[0] / result.shape[0]\n",
    "# print('Accuracy', accuracy_score(result.action_gen, result.action_gen_cluster))\n",
    "print(classification_report(result.action_gen, result.action_gen_cluster))\n"
   ]
  },
  {
   "cell_type": "markdown",
   "metadata": {},
   "source": [
    "## Birch Algorithm"
   ]
  },
  {
   "cell_type": "code",
   "execution_count": null,
   "metadata": {},
   "outputs": [],
   "source": [
    "from sklearn.cluster import Birch\n",
    "\n",
    "birch = Birch(n_clusters = 3)\n",
    "birch_result = birch.fit_predict(X)\n",
    "result = pd.DataFrame(birch_result, columns=[\"clusters\"])"
   ]
  },
  {
   "cell_type": "code",
   "execution_count": null,
   "metadata": {},
   "outputs": [
    {
     "name": "stdout",
     "output_type": "stream",
     "text": [
      "0    92\n",
      "1    64\n",
      "2    54\n",
      "Name: clusters, dtype: int64\n",
      "pairing_score:  0.8313966735019367\n",
      "                 precision    recall  f1-score   support\n",
      "\n",
      "        AGONIST       0.91      0.83      0.87        70\n",
      "     ANTAGONIST       0.89      0.80      0.84        60\n",
      "PARTIAL AGONIST       0.82      0.94      0.87        80\n",
      "\n",
      "       accuracy                           0.86       210\n",
      "      macro avg       0.87      0.86      0.86       210\n",
      "   weighted avg       0.87      0.86      0.86       210\n",
      "\n"
     ]
    }
   ],
   "source": [
    "print(result['clusters'].value_counts())\n",
    "# sort keys based on number of values in each clusters\n",
    "cluster_dict = dict(result['clusters'].value_counts())\n",
    "cluster_dict = dict(sorted(cluster_dict.items(), key=lambda item: item[1])).keys()\n",
    "cluster_dict = list(cluster_dict)\n",
    "\n",
    "result['action_gen'] = df['action_gen']\n",
    "result['action_gen_cluster'] = result['clusters'].map({cluster_dict[1]: 'AGONIST', cluster_dict[0]: 'ANTAGONIST', cluster_dict[2]: 'PARTIAL AGONIST'})\n",
    "\n",
    "print('pairing_score: ', rand_score(result.action_gen, result.action_gen_cluster))\n",
    "result[result.action_gen == result.action_gen_cluster].shape[0] / result.shape[0]\n",
    "# print('Accuracy', accuracy_score(result.action_gen, result.action_gen_cluster))\n",
    "print(classification_report(result.action_gen, result.action_gen_cluster))\n"
   ]
  },
  {
   "cell_type": "markdown",
   "metadata": {},
   "source": [
    "## Gaussian Mixture"
   ]
  },
  {
   "cell_type": "code",
   "execution_count": null,
   "metadata": {},
   "outputs": [],
   "source": [
    "from sklearn.mixture import GaussianMixture\n",
    "\n",
    "gauss = GaussianMixture(n_components=3, covariance_type='full', random_state=0)\n",
    "gauss_result = gauss.fit_predict(X)\n",
    "result = pd.DataFrame(gauss_result, columns=[\"clusters\"])"
   ]
  },
  {
   "cell_type": "code",
   "execution_count": null,
   "metadata": {},
   "outputs": [
    {
     "name": "stdout",
     "output_type": "stream",
     "text": [
      "0    83\n",
      "1    65\n",
      "2    62\n",
      "Name: clusters, dtype: int64\n",
      "pairing_score:  0.8590567327409433\n",
      "                 precision    recall  f1-score   support\n",
      "\n",
      "        AGONIST       0.08      0.07      0.07        70\n",
      "     ANTAGONIST       0.03      0.03      0.03        60\n",
      "PARTIAL AGONIST       0.88      0.91      0.90        80\n",
      "\n",
      "       accuracy                           0.38       210\n",
      "      macro avg       0.33      0.34      0.33       210\n",
      "   weighted avg       0.37      0.38      0.38       210\n",
      "\n"
     ]
    }
   ],
   "source": [
    "print(result['clusters'].value_counts())\n",
    "# sort keys based on number of values in each clusters\n",
    "cluster_dict = dict(result['clusters'].value_counts())\n",
    "cluster_dict = dict(sorted(cluster_dict.items(), key=lambda item: item[1])).keys()\n",
    "cluster_dict = list(cluster_dict)\n",
    "\n",
    "result['action_gen'] = df['action_gen']\n",
    "result['action_gen_cluster'] = result['clusters'].map({cluster_dict[1]: 'AGONIST', cluster_dict[0]: 'ANTAGONIST', cluster_dict[2]: 'PARTIAL AGONIST'})\n",
    "\n",
    "print('pairing_score: ', rand_score(result.action_gen, result.action_gen_cluster))\n",
    "result[result.action_gen == result.action_gen_cluster].shape[0] / result.shape[0]\n",
    "# print('Accuracy', accuracy_score(result.action_gen, result.action_gen_cluster))\n",
    "print(classification_report(result.action_gen, result.action_gen_cluster))\n"
   ]
  },
  {
   "cell_type": "markdown",
   "metadata": {},
   "source": [
    "# Supervised + Grid_Search"
   ]
  },
  {
   "cell_type": "code",
   "execution_count": null,
   "metadata": {},
   "outputs": [],
   "source": [
    "\n",
    "from sklearn.model_selection import GridSearchCV\n",
    "from sklearn.pipeline import Pipeline\n",
    "from sklearn.svm import SVC\n",
    "from sklearn.ensemble import RandomForestClassifier\n",
    "from sklearn.ensemble import GradientBoostingClassifier\n",
    "from sklearn.tree import DecisionTreeClassifier\n",
    "from sklearn.naive_bayes import MultinomialNB\n",
    "from sklearn.neighbors import KNeighborsClassifier\n",
    "from sklearn.discriminant_analysis import LinearDiscriminantAnalysis as LDA\n",
    "\n",
    "from sklearn.model_selection import train_test_split\n",
    "\n",
    "\n",
    "clf1 = RandomForestClassifier(random_state=42)\n",
    "clf2 = SVC(probability=True, random_state=42)\n",
    "clf4 = DecisionTreeClassifier(random_state=42)\n",
    "clf5 = KNeighborsClassifier()\n",
    "clf6 = MultinomialNB()\n",
    "clf7 = GradientBoostingClassifier(random_state=42)\n",
    "clf8 = LDA(n_components=2)"
   ]
  },
  {
   "cell_type": "code",
   "execution_count": null,
   "metadata": {},
   "outputs": [],
   "source": [
    "param1 = {}\n",
    "param1['classifier__n_estimators'] = [10, 50, 100, 250]\n",
    "param1['classifier__max_depth'] = [5, 10, 20]\n",
    "param1['classifier__class_weight'] = [None, {0:1,1:5}, {0:1,1:10}, {0:1,1:25}]\n",
    "param1['classifier'] = [clf1]\n",
    "\n",
    "param2 = {}\n",
    "param2['classifier__C'] = [10**-2, 10**-1, 10**0, 10**1, 10**2]\n",
    "param2['classifier__class_weight'] = [None, {0:1,1:5}, {0:1,1:10}, {0:1,1:25}]\n",
    "param2['classifier'] = [clf2]\n",
    "\n",
    "param4 = {}\n",
    "param4['classifier__max_depth'] = [5,10,25,None]\n",
    "param4['classifier__min_samples_split'] = [2,5,10]\n",
    "param4['classifier__class_weight'] = [None, {0:1,1:5}, {0:1,1:10}, {0:1,1:25}]\n",
    "param4['classifier'] = [clf4]\n",
    "\n",
    "param5 = {}\n",
    "param5['classifier__n_neighbors'] = [2,5,10,25,50]\n",
    "param5['classifier'] = [clf5]\n",
    "\n",
    "param6 = {}\n",
    "param6['classifier__alpha'] = [10**0, 10**1, 10**2]\n",
    "param6['classifier'] = [clf6]\n",
    "\n",
    "param7 = {}\n",
    "param7['classifier__n_estimators'] = [10, 50, 100, 250]\n",
    "param7['classifier__max_depth'] = [5, 10, 20]\n",
    "param7['classifier'] = [clf7]\n",
    "\n",
    "param8 = {}\n",
    "param8[\"classifier__shrinkage\"] = np.arange(0.001, 0.5, 0.001)\n",
    "param8[\"classifier__solver\"] = [\"eigen\"]\n",
    "param8['classifier'] = [clf8]"
   ]
  },
  {
   "cell_type": "code",
   "execution_count": null,
   "metadata": {},
   "outputs": [],
   "source": [
    "X_train, X_test, y_train, y_test = train_test_split(df_mol2vec, y.values.ravel(), test_size=0.2, random_state=42, stratify=y)\n",
    "pipeline = Pipeline([('classifier', clf1)])\n",
    "params = [param1, param2, param4, param5, param6, param7, param8]\n",
    "gs = GridSearchCV(pipeline, params, cv=10, scoring='accuracy').fit(X_train, y_train)"
   ]
  },
  {
   "cell_type": "code",
   "execution_count": null,
   "metadata": {},
   "outputs": [],
   "source": [
    "print(gs.best_params_)\n",
    "print(gs.best_score_)\n"
   ]
  }
 ],
 "metadata": {
  "interpreter": {
   "hash": "a7b1bf7cda555139a90bb8f30917beea45d65add00b5946fe39a8fc1c4accc0c"
  },
  "kernelspec": {
   "display_name": "Python 3.7.13 ('m2vec')",
   "language": "python",
   "name": "python3"
  },
  "language_info": {
   "codemirror_mode": {
    "name": "ipython",
    "version": 3
   },
   "file_extension": ".py",
   "mimetype": "text/x-python",
   "name": "python",
   "nbconvert_exporter": "python",
   "pygments_lexer": "ipython3",
   "version": "3.7.13"
  },
  "orig_nbformat": 4
 },
 "nbformat": 4,
 "nbformat_minor": 2
}
