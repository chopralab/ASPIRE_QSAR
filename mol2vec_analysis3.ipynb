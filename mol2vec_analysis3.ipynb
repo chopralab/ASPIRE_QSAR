{
 "cells": [
  {
   "cell_type": "code",
   "execution_count": 10,
   "metadata": {},
   "outputs": [],
   "source": [
    "import pandas as pd\n",
    "import numpy as np\n",
    "import seaborn as sns\n",
    "import matplotlib.pyplot as plt\n",
    "from rdkit import Chem\n",
    "from mol2vec.features import mol2alt_sentence, MolSentence, DfVec, sentences2vec\n",
    "from gensim.models import word2vec\n",
    "\n",
    "%matplotlib inline"
   ]
  },
  {
   "cell_type": "code",
   "execution_count": 11,
   "metadata": {},
   "outputs": [
    {
     "data": {
      "text/plain": [
       "Index(['cid', 'action', 'smiles'], dtype='object')"
      ]
     },
     "execution_count": 11,
     "metadata": {},
     "output_type": "execute_result"
    }
   ],
   "source": [
    "df = pd.read_csv(\"data/processed/final.csv\")\n",
    "df.head()\n",
    "df.columns"
   ]
  },
  {
   "cell_type": "code",
   "execution_count": 12,
   "metadata": {},
   "outputs": [
    {
     "data": {
      "text/plain": [
       "PARTIAL AGONIST    127\n",
       "AGONIST             94\n",
       "ANTAGONIST          45\n",
       "FULL AGONIST        19\n",
       "BINDER               2\n",
       "POSITIVE             2\n",
       "NEUTRAL              2\n",
       "OTHER/UNKNOWN        1\n",
       "LIGAND               1\n",
       "BIASED AGONIST       1\n",
       "Name: action, dtype: int64"
      ]
     },
     "execution_count": 12,
     "metadata": {},
     "output_type": "execute_result"
    }
   ],
   "source": [
    "df['action'].value_counts()"
   ]
  },
  {
   "cell_type": "code",
   "execution_count": 13,
   "metadata": {},
   "outputs": [
    {
     "data": {
      "text/plain": [
       "PARTIAL AGONIST    127\n",
       "AGONIST            113\n",
       "ANTAGONIST          45\n",
       "BINDER               2\n",
       "nan                  2\n",
       "POSITIVE             2\n",
       "NEUTRAL              2\n",
       "OTHER/UNKNOWN        1\n",
       "LIGAND               1\n",
       "BIASED AGONIST       1\n",
       "Name: action_gen, dtype: int64"
      ]
     },
     "execution_count": 13,
     "metadata": {},
     "output_type": "execute_result"
    }
   ],
   "source": [
    "def parse(x):\n",
    "    x = str(x)\n",
    "    if x.startswith(\"FULL \"):\n",
    "        return \"AGONIST\"\n",
    "    else:\n",
    "        return x\n",
    "        \n",
    "df[\"action_gen\"] = df[\"action\"].apply(parse)\n",
    "df[\"action_gen\"].value_counts()"
   ]
  },
  {
   "cell_type": "code",
   "execution_count": 14,
   "metadata": {},
   "outputs": [
    {
     "data": {
      "text/plain": [
       "PARTIAL AGONIST    127\n",
       "AGONIST            113\n",
       "ANTAGONIST          45\n",
       "OTHER               11\n",
       "Name: action_gen, dtype: int64"
      ]
     },
     "execution_count": 14,
     "metadata": {},
     "output_type": "execute_result"
    }
   ],
   "source": [
    "condition = (df.action_gen != \"AGONIST\") & (df.action_gen != \"ANTAGONIST\") & (df.action_gen != \"PARTIAL AGONIST\")\n",
    "df[\"action_gen\"] = np.where(condition, \"OTHER\", df.action_gen)\n",
    "df[\"action_gen\"].value_counts()"
   ]
  },
  {
   "cell_type": "code",
   "execution_count": 15,
   "metadata": {},
   "outputs": [],
   "source": [
    "df = df.drop_duplicates(subset=['cid'])\n",
    "df = df[['cid', 'smiles', 'action', 'action_gen']]\n",
    "df.set_index('cid', inplace=True)\n",
    "df.to_csv('data/processed/final_4_category.csv')"
   ]
  },
  {
   "cell_type": "code",
   "execution_count": 16,
   "metadata": {},
   "outputs": [],
   "source": [
    "df_parse = df[df[\"action_gen\"] != \"OTHER\"]\n",
    "df_parse.reset_index(inplace=True)"
   ]
  },
  {
   "cell_type": "code",
   "execution_count": 17,
   "metadata": {},
   "outputs": [],
   "source": [
    "X = df_parse[[\"cid\", \"smiles\"]]\n",
    "y = df_parse[[\"action_gen\"]]"
   ]
  },
  {
   "cell_type": "markdown",
   "metadata": {},
   "source": [
    "## Undersampling & Oversampling"
   ]
  },
  {
   "cell_type": "code",
   "execution_count": 18,
   "metadata": {},
   "outputs": [],
   "source": [
    "from imblearn.under_sampling import RandomUnderSampler\n",
    "from imblearn.over_sampling import RandomOverSampler"
   ]
  },
  {
   "cell_type": "code",
   "execution_count": 19,
   "metadata": {},
   "outputs": [],
   "source": [
    "SIZE = 60\n",
    "over = RandomOverSampler(sampling_strategy={'ANTAGONIST': SIZE})\n",
    "# fit and apply the transform\n",
    "X, y = over.fit_resample(X, y)\n",
    "# define undersampling strategy\n",
    "under = RandomUnderSampler(sampling_strategy={'PARTIAL AGONIST': SIZE + 20, 'AGONIST': SIZE + 10})\n",
    "# fit and apply the transform\n",
    "X, y = under.fit_resample(X, y)"
   ]
  },
  {
   "cell_type": "code",
   "execution_count": 20,
   "metadata": {},
   "outputs": [],
   "source": [
    "df = pd.concat([X, y], axis=1)"
   ]
  },
  {
   "cell_type": "code",
   "execution_count": 21,
   "metadata": {},
   "outputs": [
    {
     "name": "stdout",
     "output_type": "stream",
     "text": [
      ">>> create mol from smiles ... \n",
      ">>> create sentence from mol ... \n",
      ">>> load the word2vec model ... \n",
      ">>> create embedding from sentence ... \n",
      ">>> data columns =  Index(['cid', 'smiles', 'action_gen', 'mol', 'sentence', 'embedding'], dtype='object') \n",
      "\n"
     ]
    },
    {
     "data": {
      "text/html": [
       "<div>\n",
       "<style scoped>\n",
       "    .dataframe tbody tr th:only-of-type {\n",
       "        vertical-align: middle;\n",
       "    }\n",
       "\n",
       "    .dataframe tbody tr th {\n",
       "        vertical-align: top;\n",
       "    }\n",
       "\n",
       "    .dataframe thead th {\n",
       "        text-align: right;\n",
       "    }\n",
       "</style>\n",
       "<table border=\"1\" class=\"dataframe\">\n",
       "  <thead>\n",
       "    <tr style=\"text-align: right;\">\n",
       "      <th></th>\n",
       "      <th>0</th>\n",
       "      <th>1</th>\n",
       "      <th>2</th>\n",
       "      <th>3</th>\n",
       "      <th>4</th>\n",
       "      <th>5</th>\n",
       "      <th>6</th>\n",
       "      <th>7</th>\n",
       "      <th>8</th>\n",
       "      <th>9</th>\n",
       "      <th>...</th>\n",
       "      <th>290</th>\n",
       "      <th>291</th>\n",
       "      <th>292</th>\n",
       "      <th>293</th>\n",
       "      <th>294</th>\n",
       "      <th>295</th>\n",
       "      <th>296</th>\n",
       "      <th>297</th>\n",
       "      <th>298</th>\n",
       "      <th>299</th>\n",
       "    </tr>\n",
       "  </thead>\n",
       "  <tbody>\n",
       "    <tr>\n",
       "      <th>0</th>\n",
       "      <td>0.470723</td>\n",
       "      <td>-2.132651</td>\n",
       "      <td>-1.004214</td>\n",
       "      <td>3.989480</td>\n",
       "      <td>-0.290720</td>\n",
       "      <td>-7.012212</td>\n",
       "      <td>-14.124387</td>\n",
       "      <td>4.198347</td>\n",
       "      <td>1.262004</td>\n",
       "      <td>0.614888</td>\n",
       "      <td>...</td>\n",
       "      <td>-4.208807</td>\n",
       "      <td>15.056268</td>\n",
       "      <td>6.524079</td>\n",
       "      <td>-2.986403</td>\n",
       "      <td>-15.526501</td>\n",
       "      <td>-12.189074</td>\n",
       "      <td>-9.324614</td>\n",
       "      <td>-3.716681</td>\n",
       "      <td>-9.397925</td>\n",
       "      <td>1.024810</td>\n",
       "    </tr>\n",
       "    <tr>\n",
       "      <th>1</th>\n",
       "      <td>-0.670602</td>\n",
       "      <td>0.125645</td>\n",
       "      <td>-3.319983</td>\n",
       "      <td>4.610751</td>\n",
       "      <td>2.704313</td>\n",
       "      <td>-0.560646</td>\n",
       "      <td>-10.745336</td>\n",
       "      <td>0.480651</td>\n",
       "      <td>10.974294</td>\n",
       "      <td>1.705249</td>\n",
       "      <td>...</td>\n",
       "      <td>-2.434896</td>\n",
       "      <td>8.255706</td>\n",
       "      <td>11.862612</td>\n",
       "      <td>2.296216</td>\n",
       "      <td>-7.340683</td>\n",
       "      <td>-2.495446</td>\n",
       "      <td>-1.916689</td>\n",
       "      <td>-4.341898</td>\n",
       "      <td>-10.896842</td>\n",
       "      <td>-2.818263</td>\n",
       "    </tr>\n",
       "    <tr>\n",
       "      <th>2</th>\n",
       "      <td>0.641164</td>\n",
       "      <td>-0.482885</td>\n",
       "      <td>-3.045732</td>\n",
       "      <td>3.373168</td>\n",
       "      <td>0.974218</td>\n",
       "      <td>-1.894271</td>\n",
       "      <td>-11.123743</td>\n",
       "      <td>-0.391686</td>\n",
       "      <td>8.101945</td>\n",
       "      <td>1.805781</td>\n",
       "      <td>...</td>\n",
       "      <td>0.663515</td>\n",
       "      <td>10.197467</td>\n",
       "      <td>9.930686</td>\n",
       "      <td>1.585075</td>\n",
       "      <td>-8.087085</td>\n",
       "      <td>-4.906672</td>\n",
       "      <td>-6.400856</td>\n",
       "      <td>-4.707758</td>\n",
       "      <td>-10.466093</td>\n",
       "      <td>-2.180647</td>\n",
       "    </tr>\n",
       "    <tr>\n",
       "      <th>3</th>\n",
       "      <td>-2.401486</td>\n",
       "      <td>-0.587953</td>\n",
       "      <td>-2.948557</td>\n",
       "      <td>4.215433</td>\n",
       "      <td>2.642294</td>\n",
       "      <td>-2.301001</td>\n",
       "      <td>-10.589356</td>\n",
       "      <td>0.776688</td>\n",
       "      <td>13.524985</td>\n",
       "      <td>-0.223643</td>\n",
       "      <td>...</td>\n",
       "      <td>-1.865104</td>\n",
       "      <td>8.943819</td>\n",
       "      <td>11.052999</td>\n",
       "      <td>1.414455</td>\n",
       "      <td>-7.818924</td>\n",
       "      <td>-1.647387</td>\n",
       "      <td>-0.868232</td>\n",
       "      <td>-5.855689</td>\n",
       "      <td>-11.727478</td>\n",
       "      <td>-2.963986</td>\n",
       "    </tr>\n",
       "    <tr>\n",
       "      <th>4</th>\n",
       "      <td>0.504604</td>\n",
       "      <td>-1.591351</td>\n",
       "      <td>-2.001469</td>\n",
       "      <td>10.342606</td>\n",
       "      <td>-2.076208</td>\n",
       "      <td>-2.773136</td>\n",
       "      <td>-18.031677</td>\n",
       "      <td>-0.882184</td>\n",
       "      <td>12.025846</td>\n",
       "      <td>5.342865</td>\n",
       "      <td>...</td>\n",
       "      <td>-3.990021</td>\n",
       "      <td>16.077293</td>\n",
       "      <td>12.703485</td>\n",
       "      <td>0.425280</td>\n",
       "      <td>-11.513647</td>\n",
       "      <td>-2.891536</td>\n",
       "      <td>-4.846458</td>\n",
       "      <td>-6.167052</td>\n",
       "      <td>-11.516929</td>\n",
       "      <td>-1.041137</td>\n",
       "    </tr>\n",
       "    <tr>\n",
       "      <th>...</th>\n",
       "      <td>...</td>\n",
       "      <td>...</td>\n",
       "      <td>...</td>\n",
       "      <td>...</td>\n",
       "      <td>...</td>\n",
       "      <td>...</td>\n",
       "      <td>...</td>\n",
       "      <td>...</td>\n",
       "      <td>...</td>\n",
       "      <td>...</td>\n",
       "      <td>...</td>\n",
       "      <td>...</td>\n",
       "      <td>...</td>\n",
       "      <td>...</td>\n",
       "      <td>...</td>\n",
       "      <td>...</td>\n",
       "      <td>...</td>\n",
       "      <td>...</td>\n",
       "      <td>...</td>\n",
       "      <td>...</td>\n",
       "      <td>...</td>\n",
       "    </tr>\n",
       "    <tr>\n",
       "      <th>205</th>\n",
       "      <td>1.639244</td>\n",
       "      <td>-6.538754</td>\n",
       "      <td>-1.717741</td>\n",
       "      <td>8.079629</td>\n",
       "      <td>-1.649899</td>\n",
       "      <td>-2.248520</td>\n",
       "      <td>-16.843828</td>\n",
       "      <td>-0.279065</td>\n",
       "      <td>7.877941</td>\n",
       "      <td>2.014350</td>\n",
       "      <td>...</td>\n",
       "      <td>-0.878041</td>\n",
       "      <td>19.683495</td>\n",
       "      <td>11.390602</td>\n",
       "      <td>-0.256625</td>\n",
       "      <td>-11.623731</td>\n",
       "      <td>-7.701341</td>\n",
       "      <td>-9.092382</td>\n",
       "      <td>-4.600928</td>\n",
       "      <td>-16.887114</td>\n",
       "      <td>0.270294</td>\n",
       "    </tr>\n",
       "    <tr>\n",
       "      <th>206</th>\n",
       "      <td>2.536467</td>\n",
       "      <td>-5.158959</td>\n",
       "      <td>-0.973644</td>\n",
       "      <td>4.031539</td>\n",
       "      <td>-2.513348</td>\n",
       "      <td>-9.969164</td>\n",
       "      <td>-16.801861</td>\n",
       "      <td>5.300940</td>\n",
       "      <td>-0.284809</td>\n",
       "      <td>1.673204</td>\n",
       "      <td>...</td>\n",
       "      <td>-3.142421</td>\n",
       "      <td>24.962196</td>\n",
       "      <td>4.692419</td>\n",
       "      <td>-2.393894</td>\n",
       "      <td>-20.530743</td>\n",
       "      <td>-16.441837</td>\n",
       "      <td>-15.208492</td>\n",
       "      <td>-4.665611</td>\n",
       "      <td>-15.052996</td>\n",
       "      <td>3.424121</td>\n",
       "    </tr>\n",
       "    <tr>\n",
       "      <th>207</th>\n",
       "      <td>-0.087833</td>\n",
       "      <td>-5.175261</td>\n",
       "      <td>-0.872487</td>\n",
       "      <td>6.155688</td>\n",
       "      <td>-2.814585</td>\n",
       "      <td>-1.842228</td>\n",
       "      <td>-13.217561</td>\n",
       "      <td>0.979104</td>\n",
       "      <td>9.047121</td>\n",
       "      <td>1.131404</td>\n",
       "      <td>...</td>\n",
       "      <td>-1.869926</td>\n",
       "      <td>14.941614</td>\n",
       "      <td>9.852917</td>\n",
       "      <td>1.051333</td>\n",
       "      <td>-10.357376</td>\n",
       "      <td>-3.547397</td>\n",
       "      <td>-8.912207</td>\n",
       "      <td>-3.753923</td>\n",
       "      <td>-11.112837</td>\n",
       "      <td>-0.850803</td>\n",
       "    </tr>\n",
       "    <tr>\n",
       "      <th>208</th>\n",
       "      <td>1.759221</td>\n",
       "      <td>-2.575536</td>\n",
       "      <td>-0.672788</td>\n",
       "      <td>6.509914</td>\n",
       "      <td>-2.727757</td>\n",
       "      <td>-2.972329</td>\n",
       "      <td>-12.193398</td>\n",
       "      <td>2.033542</td>\n",
       "      <td>4.229515</td>\n",
       "      <td>3.184652</td>\n",
       "      <td>...</td>\n",
       "      <td>-0.104320</td>\n",
       "      <td>15.520045</td>\n",
       "      <td>6.595802</td>\n",
       "      <td>-0.670154</td>\n",
       "      <td>-10.041049</td>\n",
       "      <td>-4.811343</td>\n",
       "      <td>-8.982206</td>\n",
       "      <td>-3.664117</td>\n",
       "      <td>-12.132768</td>\n",
       "      <td>-0.014263</td>\n",
       "    </tr>\n",
       "    <tr>\n",
       "      <th>209</th>\n",
       "      <td>1.272938</td>\n",
       "      <td>-7.057949</td>\n",
       "      <td>-2.766324</td>\n",
       "      <td>7.045501</td>\n",
       "      <td>-2.500217</td>\n",
       "      <td>-2.376353</td>\n",
       "      <td>-17.165680</td>\n",
       "      <td>-0.274269</td>\n",
       "      <td>6.986610</td>\n",
       "      <td>2.016340</td>\n",
       "      <td>...</td>\n",
       "      <td>-1.531171</td>\n",
       "      <td>21.578064</td>\n",
       "      <td>9.879932</td>\n",
       "      <td>-0.508194</td>\n",
       "      <td>-14.498827</td>\n",
       "      <td>-9.302428</td>\n",
       "      <td>-12.380275</td>\n",
       "      <td>-5.321178</td>\n",
       "      <td>-16.782053</td>\n",
       "      <td>1.389010</td>\n",
       "    </tr>\n",
       "  </tbody>\n",
       "</table>\n",
       "<p>210 rows × 300 columns</p>\n",
       "</div>"
      ],
      "text/plain": [
       "          0         1         2          3         4         5          6    \\\n",
       "0    0.470723 -2.132651 -1.004214   3.989480 -0.290720 -7.012212 -14.124387   \n",
       "1   -0.670602  0.125645 -3.319983   4.610751  2.704313 -0.560646 -10.745336   \n",
       "2    0.641164 -0.482885 -3.045732   3.373168  0.974218 -1.894271 -11.123743   \n",
       "3   -2.401486 -0.587953 -2.948557   4.215433  2.642294 -2.301001 -10.589356   \n",
       "4    0.504604 -1.591351 -2.001469  10.342606 -2.076208 -2.773136 -18.031677   \n",
       "..        ...       ...       ...        ...       ...       ...        ...   \n",
       "205  1.639244 -6.538754 -1.717741   8.079629 -1.649899 -2.248520 -16.843828   \n",
       "206  2.536467 -5.158959 -0.973644   4.031539 -2.513348 -9.969164 -16.801861   \n",
       "207 -0.087833 -5.175261 -0.872487   6.155688 -2.814585 -1.842228 -13.217561   \n",
       "208  1.759221 -2.575536 -0.672788   6.509914 -2.727757 -2.972329 -12.193398   \n",
       "209  1.272938 -7.057949 -2.766324   7.045501 -2.500217 -2.376353 -17.165680   \n",
       "\n",
       "          7          8         9    ...       290        291        292  \\\n",
       "0    4.198347   1.262004  0.614888  ... -4.208807  15.056268   6.524079   \n",
       "1    0.480651  10.974294  1.705249  ... -2.434896   8.255706  11.862612   \n",
       "2   -0.391686   8.101945  1.805781  ...  0.663515  10.197467   9.930686   \n",
       "3    0.776688  13.524985 -0.223643  ... -1.865104   8.943819  11.052999   \n",
       "4   -0.882184  12.025846  5.342865  ... -3.990021  16.077293  12.703485   \n",
       "..        ...        ...       ...  ...       ...        ...        ...   \n",
       "205 -0.279065   7.877941  2.014350  ... -0.878041  19.683495  11.390602   \n",
       "206  5.300940  -0.284809  1.673204  ... -3.142421  24.962196   4.692419   \n",
       "207  0.979104   9.047121  1.131404  ... -1.869926  14.941614   9.852917   \n",
       "208  2.033542   4.229515  3.184652  ... -0.104320  15.520045   6.595802   \n",
       "209 -0.274269   6.986610  2.016340  ... -1.531171  21.578064   9.879932   \n",
       "\n",
       "          293        294        295        296       297        298       299  \n",
       "0   -2.986403 -15.526501 -12.189074  -9.324614 -3.716681  -9.397925  1.024810  \n",
       "1    2.296216  -7.340683  -2.495446  -1.916689 -4.341898 -10.896842 -2.818263  \n",
       "2    1.585075  -8.087085  -4.906672  -6.400856 -4.707758 -10.466093 -2.180647  \n",
       "3    1.414455  -7.818924  -1.647387  -0.868232 -5.855689 -11.727478 -2.963986  \n",
       "4    0.425280 -11.513647  -2.891536  -4.846458 -6.167052 -11.516929 -1.041137  \n",
       "..        ...        ...        ...        ...       ...        ...       ...  \n",
       "205 -0.256625 -11.623731  -7.701341  -9.092382 -4.600928 -16.887114  0.270294  \n",
       "206 -2.393894 -20.530743 -16.441837 -15.208492 -4.665611 -15.052996  3.424121  \n",
       "207  1.051333 -10.357376  -3.547397  -8.912207 -3.753923 -11.112837 -0.850803  \n",
       "208 -0.670154 -10.041049  -4.811343  -8.982206 -3.664117 -12.132768 -0.014263  \n",
       "209 -0.508194 -14.498827  -9.302428 -12.380275 -5.321178 -16.782053  1.389010  \n",
       "\n",
       "[210 rows x 300 columns]"
      ]
     },
     "execution_count": 21,
     "metadata": {},
     "output_type": "execute_result"
    }
   ],
   "source": [
    "print(\">>> create mol from smiles ... \")\n",
    "df['mol'] = df['smiles'].apply(lambda x: Chem.MolFromSmiles(x)) \n",
    "\n",
    "print(\">>> create sentence from mol ... \")\n",
    "df['sentence'] = df.apply(lambda x: MolSentence(mol2alt_sentence(x['mol'], radius=1)), axis=1)\n",
    "\n",
    "print(\">>> load the word2vec model ... \")\n",
    "from gensim.models import word2vec\n",
    "w2v_model = word2vec.Word2Vec.load('model\\\\model_300dim.pkl')\n",
    "# w2v_model = word2vec.Word2Vec.load('model_300dim.pkl')\n",
    "\n",
    "print(\">>> create embedding from sentence ... \")\n",
    "df['embedding'] = [DfVec(x) for x in sentences2vec(df['sentence'], w2v_model)]\n",
    "\n",
    "print(\">>> data columns = \", df.columns, \"\\n\")\n",
    "\n",
    "df_mol2vec = np.array([x.vec for x in df['embedding']])\n",
    "df_mol2vec = pd.DataFrame(df_mol2vec)\n",
    "df_mol2vec"
   ]
  },
  {
   "cell_type": "markdown",
   "metadata": {},
   "source": [
    "### PCA then TSNE"
   ]
  },
  {
   "cell_type": "code",
   "execution_count": 22,
   "metadata": {},
   "outputs": [],
   "source": [
    "np.random.seed(42)"
   ]
  },
  {
   "cell_type": "code",
   "execution_count": 23,
   "metadata": {},
   "outputs": [],
   "source": [
    "X_raw = df_mol2vec"
   ]
  },
  {
   "cell_type": "code",
   "execution_count": 24,
   "metadata": {},
   "outputs": [
    {
     "name": "stderr",
     "output_type": "stream",
     "text": [
      "c:\\Users\\fongm\\Anaconda3\\envs\\m2vec\\lib\\site-packages\\sklearn\\manifold\\_t_sne.py:783: FutureWarning: The default initialization in TSNE will change from 'random' to 'pca' in 1.2.\n",
      "  FutureWarning,\n",
      "c:\\Users\\fongm\\Anaconda3\\envs\\m2vec\\lib\\site-packages\\sklearn\\manifold\\_t_sne.py:793: FutureWarning: The default learning rate in TSNE will change from 200.0 to 'auto' in 1.2.\n",
      "  FutureWarning,\n"
     ]
    },
    {
     "data": {
      "text/plain": [
       "(210, 2)"
      ]
     },
     "execution_count": 24,
     "metadata": {},
     "output_type": "execute_result"
    }
   ],
   "source": [
    "from sklearn.pipeline import Pipeline\n",
    "from sklearn.preprocessing import StandardScaler\n",
    "from sklearn.decomposition import PCA\n",
    "from sklearn.manifold import TSNE\n",
    "\n",
    "sc = StandardScaler()\n",
    "pca = PCA(random_state=42)\n",
    "tsne = TSNE(random_state=42)\n",
    "\n",
    "tsne_after_pca = Pipeline([\n",
    "    ('std_scaler', sc),\n",
    "    ('pca', pca),\n",
    "    ('tsne', tsne)\n",
    "])\n",
    "\n",
    "X_tsne_pca = tsne_after_pca.fit_transform(df_mol2vec)\n",
    "X_tsne_pca.shape"
   ]
  },
  {
   "cell_type": "markdown",
   "metadata": {},
   "source": [
    "### Kernel PCA then TSNE"
   ]
  },
  {
   "cell_type": "code",
   "execution_count": 25,
   "metadata": {},
   "outputs": [
    {
     "name": "stderr",
     "output_type": "stream",
     "text": [
      "c:\\Users\\fongm\\Anaconda3\\envs\\m2vec\\lib\\site-packages\\sklearn\\manifold\\_t_sne.py:783: FutureWarning: The default initialization in TSNE will change from 'random' to 'pca' in 1.2.\n",
      "  FutureWarning,\n",
      "c:\\Users\\fongm\\Anaconda3\\envs\\m2vec\\lib\\site-packages\\sklearn\\manifold\\_t_sne.py:793: FutureWarning: The default learning rate in TSNE will change from 200.0 to 'auto' in 1.2.\n",
      "  FutureWarning,\n"
     ]
    },
    {
     "data": {
      "text/plain": [
       "(210, 2)"
      ]
     },
     "execution_count": 25,
     "metadata": {},
     "output_type": "execute_result"
    }
   ],
   "source": [
    "from sklearn.decomposition import KernelPCA\n",
    "from sklearn.manifold import MDS\n",
    "from sklearn.manifold import Isomap\n",
    "\n",
    "\n",
    "sc = StandardScaler()\n",
    "kpca = KernelPCA(n_components=10, kernel='rbf', \n",
    "                 gamma=0.01, random_state=42)\n",
    "# kpca = KernelPCA(kernel='rbf', random_state=42)\n",
    "tsne = TSNE(n_components=2)\n",
    "mds = MDS(n_components=2, metric=True, random_state=42)\n",
    "isomap = Isomap(n_neighbors=5, n_components=42, \n",
    "                eigen_solver='auto')\n",
    "\n",
    "\n",
    "scaled_kpca = Pipeline([\n",
    "    ('std_scaler', sc),\n",
    "    ('pca', kpca),\n",
    "    ('tsne', tsne),\n",
    "    # ('mds', mds),\n",
    "    # ('isomap', isomap),\n",
    "])\n",
    "\n",
    "X_tsne_kernel_pca = scaled_kpca.fit_transform(df_mol2vec)\n",
    "X_tsne_kernel_pca.shape"
   ]
  },
  {
   "cell_type": "code",
   "execution_count": 26,
   "metadata": {},
   "outputs": [],
   "source": [
    "# from sklearn.model_selection import GridSearchCV\n",
    "# from sklearn.tree import DecisionTreeClassifier\n",
    "# from sklearn.ensemble import RandomForestClassifier\n",
    "# from sklearn.pipeline import Pipeline\n",
    "\n",
    "# clf = Pipeline([\n",
    "#     (\"kpca\", KernelPCA(gamma=0.01, random_state=42)),\n",
    "#     (\"log_reg\", RandomForestClassifier())\n",
    "#  ])\n",
    "# param_grid = [{\n",
    "#  \"kpca__n_components\": [None] + [i for i in range(10)],\n",
    "#  \"kpca__gamma\": np.arange(0.01, 10, 0.01),\n",
    "#  \"kpca__kernel\": [\"rbf\", \"sigmoid\"]\n",
    "#  }]\n",
    "# grid_search = GridSearchCV(clf, param_grid, cv=3)\n",
    "# grid_search.fit(df_mol2vec, y[\"action_gen\"].to_list())"
   ]
  },
  {
   "cell_type": "code",
   "execution_count": 27,
   "metadata": {},
   "outputs": [],
   "source": [
    "# print(grid_search.best_params_)"
   ]
  },
  {
   "cell_type": "markdown",
   "metadata": {},
   "source": [
    "### LDA"
   ]
  },
  {
   "cell_type": "code",
   "execution_count": 28,
   "metadata": {},
   "outputs": [
    {
     "data": {
      "image/png": "[encoded data removed]",
      "text/plain": [
       "<Figure size 432x288 with 1 Axes>"
      ]
     },
     "metadata": {
      "needs_background": "light"
     },
     "output_type": "display_data"
    }
   ],
   "source": [
    "from sklearn.discriminant_analysis import LinearDiscriminantAnalysis as LDA\n",
    "from sklearn.model_selection import train_test_split\n",
    "\n",
    "np.random.seed(42)\n",
    "df_mol2vec_scaled = df_mol2vec\n",
    "scaler = StandardScaler()\n",
    "df_mol2vec_scaled = pd.DataFrame(scaler.fit_transform(df_mol2vec))\n",
    "df_mol2vec_scaled['action_gen'] = df['action_gen']\n",
    "\n",
    "\n",
    "# normal LDA \n",
    "n_comp = 2\n",
    "# lda = LDA(n_components=n_comp).fit(df_mol2vec_scaled.iloc[:, :-1], df_mol2vec_scaled.iloc[:, -1])\n",
    "\n",
    "# normal LDA with partial training set to prevent overfitting\n",
    "# df_sample = df_mol2vec_scaled.sample(n=130)\n",
    "# lda = LDA(n_components=n_comp).fit(df_sample.iloc[:, :-1], df_sample.iloc[:, -1])\n",
    "# X_train, X_test, y_train, y_test = train_test_split(df_mol2vec_scaled.iloc[:, :-1], df_mol2vec_scaled.iloc[:, -1], \n",
    "#                                                 train_size=0.70, random_state=42)\n",
    "# lda = LDA(n_components=n_comp).fit(X_train, y_train)\n",
    "\n",
    "# solve generalized eigenvalue problem\n",
    "X_train, X_test, y_train, y_test = train_test_split(df_mol2vec_scaled.iloc[:, :-1], df_mol2vec_scaled.iloc[:, -1], \n",
    "                                                train_size=0.6, random_state=42)\n",
    "lda = LDA(n_components=n_comp, solver='eigen', shrinkage=0.025).fit(X_train, y_train)\n",
    "\n",
    "df_mol2vec_scaled.drop(\"action_gen\", axis=1, inplace=True)\n",
    "lda_results = lda.transform(df_mol2vec_scaled)\n",
    "# lda_results = lda.transform(X_test)\n",
    "\n",
    "lda_results = pd.DataFrame(lda_results, columns=['lda' + str(i) for i in range(1, n_comp+1)])\n",
    "# sns.scatterplot(x='lda1', y=\"lda2\", hue=y_test, data=lda_results)\n",
    "sns.scatterplot(x='lda1', y=\"lda2\", hue=df['action_gen'], data=lda_results)\n",
    "plt.title('Clusters on LDA with actual values')\n",
    "plt.show()"
   ]
  },
  {
   "cell_type": "code",
   "execution_count": 29,
   "metadata": {},
   "outputs": [
    {
     "data": {
      "text/plain": [
       "GridSearchCV(cv=10,\n",
       "             estimator=Pipeline(steps=[('lda',\n",
       "                                        LinearDiscriminantAnalysis(n_components=2))]),\n",
       "             param_grid=[{'lda__shrinkage': array([0.001, 0.002, 0.003, 0.004, 0.005, 0.006, 0.007, 0.008, 0.009,\n",
       "       0.01 , 0.011, 0.012, 0.013, 0.014, 0.015, 0.016, 0.017, 0.018,\n",
       "       0.019, 0.02 , 0.021, 0.022, 0.023, 0.024, 0.025, 0.026, 0.027,\n",
       "       0.028, 0.029, 0.03 , 0.031, 0.032, 0.033, 0.034, 0.035, 0.036,\n",
       "       0....\n",
       "       0.442, 0.443, 0.444, 0.445, 0.446, 0.447, 0.448, 0.449, 0.45 ,\n",
       "       0.451, 0.452, 0.453, 0.454, 0.455, 0.456, 0.457, 0.458, 0.459,\n",
       "       0.46 , 0.461, 0.462, 0.463, 0.464, 0.465, 0.466, 0.467, 0.468,\n",
       "       0.469, 0.47 , 0.471, 0.472, 0.473, 0.474, 0.475, 0.476, 0.477,\n",
       "       0.478, 0.479, 0.48 , 0.481, 0.482, 0.483, 0.484, 0.485, 0.486,\n",
       "       0.487, 0.488, 0.489, 0.49 , 0.491, 0.492, 0.493, 0.494, 0.495,\n",
       "       0.496, 0.497, 0.498, 0.499]),\n",
       "                          'lda__solver': ['eigen']}])"
      ]
     },
     "execution_count": 29,
     "metadata": {},
     "output_type": "execute_result"
    }
   ],
   "source": [
    "from sklearn.model_selection import GridSearchCV\n",
    "from sklearn.pipeline import Pipeline\n",
    "\n",
    "clf = Pipeline([\n",
    "    (\"lda\", LDA(n_components=2))\n",
    " ])\n",
    "param_grid = [{\n",
    " \"lda__shrinkage\": np.arange(0.001, 0.5, 0.001),\n",
    " \"lda__solver\": [\"eigen\"]\n",
    " }]\n",
    "grid_search = GridSearchCV(clf, param_grid, cv=10)\n",
    "grid_search.fit(df_mol2vec, y[\"action_gen\"].to_list())"
   ]
  },
  {
   "cell_type": "code",
   "execution_count": 30,
   "metadata": {},
   "outputs": [
    {
     "name": "stdout",
     "output_type": "stream",
     "text": [
      "{'lda__shrinkage': 0.069, 'lda__solver': 'eigen'}\n",
      "0.8333333333333334\n"
     ]
    }
   ],
   "source": [
    "print(grid_search.best_params_)\n",
    "print(grid_search.best_score_)"
   ]
  },
  {
   "cell_type": "markdown",
   "metadata": {},
   "source": [
    "### SVD then TSNE\n"
   ]
  },
  {
   "cell_type": "code",
   "execution_count": 31,
   "metadata": {},
   "outputs": [
    {
     "name": "stderr",
     "output_type": "stream",
     "text": [
      "c:\\Users\\fongm\\Anaconda3\\envs\\m2vec\\lib\\site-packages\\sklearn\\manifold\\_t_sne.py:783: FutureWarning: The default initialization in TSNE will change from 'random' to 'pca' in 1.2.\n",
      "  FutureWarning,\n",
      "c:\\Users\\fongm\\Anaconda3\\envs\\m2vec\\lib\\site-packages\\sklearn\\manifold\\_t_sne.py:793: FutureWarning: The default learning rate in TSNE will change from 200.0 to 'auto' in 1.2.\n",
      "  FutureWarning,\n"
     ]
    },
    {
     "data": {
      "text/plain": [
       "(210, 2)"
      ]
     },
     "execution_count": 31,
     "metadata": {},
     "output_type": "execute_result"
    }
   ],
   "source": [
    "from sklearn.decomposition import TruncatedSVD\n",
    "\n",
    "sc = StandardScaler()\n",
    "svd = TruncatedSVD(random_state=42)\n",
    "tsne = TSNE(random_state=42)\n",
    "\n",
    "tsne_after_svd = Pipeline([\n",
    "    ('std_scaler', sc),\n",
    "    ('svd', svd),\n",
    "    ('tsne', tsne)\n",
    "])\n",
    "\n",
    "X_tsne_svd = tsne_after_svd.fit_transform(df_mol2vec)\n",
    "X_tsne_svd.shape"
   ]
  },
  {
   "cell_type": "code",
   "execution_count": 32,
   "metadata": {},
   "outputs": [],
   "source": [
    "# X = X_tsne_pca\n",
    "# X = X_tsne_svd\n",
    "# X = X_tsne_kernel_pca\n",
    "X = lda_results.values\n",
    "# X = X_raw"
   ]
  },
  {
   "cell_type": "code",
   "execution_count": 33,
   "metadata": {},
   "outputs": [
    {
     "data": {
      "text/plain": [
       "<AxesSubplot:>"
      ]
     },
     "execution_count": 33,
     "metadata": {},
     "output_type": "execute_result"
    },
    {
     "data": {
      "image/png": "[encoded data removed]",
      "text/plain": [
       "<Figure size 432x288 with 1 Axes>"
      ]
     },
     "metadata": {
      "needs_background": "light"
     },
     "output_type": "display_data"
    }
   ],
   "source": [
    "X_plot = X\n",
    "# if X.shape[1] > 2:\n",
    "#     tsne = TSNE(n_components=2, random_state=42)\n",
    "#     X_plot = tsne.fit_transform(X)\n",
    "sns.scatterplot(x=X_plot[:, 0], y=X_plot[:, 1], hue=df[\"action_gen\"])"
   ]
  },
  {
   "cell_type": "markdown",
   "metadata": {},
   "source": [
    "## K-means"
   ]
  },
  {
   "cell_type": "code",
   "execution_count": 34,
   "metadata": {},
   "outputs": [],
   "source": [
    "from sklearn.metrics import classification_report\n",
    "from sklearn.metrics import f1_score\n",
    "from sklearn.metrics import accuracy_score\n",
    "from sklearn.metrics import rand_score"
   ]
  },
  {
   "cell_type": "code",
   "execution_count": 35,
   "metadata": {},
   "outputs": [],
   "source": [
    "from sklearn.cluster import KMeans # lowest is optimal\n",
    "clusterer = KMeans(n_clusters=3, random_state=42)\n",
    "kmeans_result = clusterer.fit_predict(X)\n",
    "result = pd.DataFrame(kmeans_result, columns=[\"clusters\"])"
   ]
  },
  {
   "cell_type": "code",
   "execution_count": 36,
   "metadata": {},
   "outputs": [
    {
     "name": "stdout",
     "output_type": "stream",
     "text": [
      "1    90\n",
      "2    65\n",
      "0    55\n",
      "Name: clusters, dtype: int64\n",
      "pairing_score:  0.8835725677830941\n",
      "                 precision    recall  f1-score   support\n",
      "\n",
      "        AGONIST       0.94      0.87      0.90        70\n",
      "     ANTAGONIST       0.96      0.88      0.92        60\n",
      "PARTIAL AGONIST       0.86      0.96      0.91        80\n",
      "\n",
      "       accuracy                           0.91       210\n",
      "      macro avg       0.92      0.91      0.91       210\n",
      "   weighted avg       0.91      0.91      0.91       210\n",
      "\n"
     ]
    }
   ],
   "source": [
    "print(result['clusters'].value_counts())\n",
    "# sort keys based on number of values in each clusters\n",
    "cluster_dict = dict(result['clusters'].value_counts())\n",
    "cluster_dict = dict(sorted(cluster_dict.items(), key=lambda item: item[1])).keys()\n",
    "cluster_dict = list(cluster_dict)\n",
    "\n",
    "result['action_gen'] = df['action_gen']\n",
    "result['action_gen_cluster'] = result['clusters'].map({cluster_dict[1]: 'AGONIST', cluster_dict[0]: 'ANTAGONIST', cluster_dict[2]: 'PARTIAL AGONIST'})\n",
    "\n",
    "print('pairing_score: ', rand_score(result.action_gen, result.action_gen_cluster))\n",
    "result[result.action_gen == result.action_gen_cluster].shape[0] / result.shape[0]\n",
    "# print('Accuracy', accuracy_score(result.action_gen, result.action_gen_cluster))\n",
    "print(classification_report(result.action_gen, result.action_gen_cluster))\n"
   ]
  },
  {
   "cell_type": "markdown",
   "metadata": {},
   "source": [
    "## Hierarchical Clustering"
   ]
  },
  {
   "cell_type": "code",
   "execution_count": 37,
   "metadata": {},
   "outputs": [],
   "source": [
    "from sklearn.cluster import AgglomerativeClustering\n",
    "\n",
    "hier_thresh = AgglomerativeClustering(n_clusters=3, linkage='complete')\n",
    "agglomerative_result = hier_thresh.fit_predict(X)\n",
    "result = pd.DataFrame(agglomerative_result, columns=[\"clusters\"])"
   ]
  },
  {
   "cell_type": "code",
   "execution_count": 38,
   "metadata": {},
   "outputs": [
    {
     "name": "stdout",
     "output_type": "stream",
     "text": [
      "1    80\n",
      "0    72\n",
      "2    58\n",
      "Name: clusters, dtype: int64\n",
      "pairing_score:  0.8647527910685805\n",
      "                 precision    recall  f1-score   support\n",
      "\n",
      "        AGONIST       0.89      0.91      0.90        70\n",
      "     ANTAGONIST       0.90      0.87      0.88        60\n",
      "PARTIAL AGONIST       0.89      0.89      0.89        80\n",
      "\n",
      "       accuracy                           0.89       210\n",
      "      macro avg       0.89      0.89      0.89       210\n",
      "   weighted avg       0.89      0.89      0.89       210\n",
      "\n"
     ]
    }
   ],
   "source": [
    "print(result['clusters'].value_counts())\n",
    "# sort keys based on number of values in each clusters\n",
    "cluster_dict = dict(result['clusters'].value_counts())\n",
    "cluster_dict = dict(sorted(cluster_dict.items(), key=lambda item: item[1])).keys()\n",
    "cluster_dict = list(cluster_dict)\n",
    "\n",
    "result['action_gen'] = df['action_gen']\n",
    "result['action_gen_cluster'] = result['clusters'].map({cluster_dict[1]: 'AGONIST', cluster_dict[0]: 'ANTAGONIST', cluster_dict[2]: 'PARTIAL AGONIST'})\n",
    "\n",
    "print('pairing_score: ', rand_score(result.action_gen, result.action_gen_cluster))\n",
    "result[result.action_gen == result.action_gen_cluster].shape[0] / result.shape[0]\n",
    "# print('Accuracy', accuracy_score(result.action_gen, result.action_gen_cluster))\n",
    "print(classification_report(result.action_gen, result.action_gen_cluster))\n"
   ]
  },
  {
   "cell_type": "markdown",
   "metadata": {},
   "source": [
    "## Spectral Clustering"
   ]
  },
  {
   "cell_type": "code",
   "execution_count": 39,
   "metadata": {},
   "outputs": [],
   "source": [
    "from sklearn.cluster import SpectralClustering\n",
    "\n",
    "spectral_cluster = SpectralClustering(n_clusters=3)\n",
    "spectral_result = spectral_cluster.fit_predict(X)\n",
    "result = pd.DataFrame(spectral_result, columns=[\"clusters\"])"
   ]
  },
  {
   "cell_type": "code",
   "execution_count": 40,
   "metadata": {},
   "outputs": [
    {
     "name": "stdout",
     "output_type": "stream",
     "text": [
      "1    93\n",
      "2    64\n",
      "0    53\n",
      "Name: clusters, dtype: int64\n",
      "pairing_score:  0.8768284347231715\n",
      "                 precision    recall  f1-score   support\n",
      "\n",
      "        AGONIST       0.94      0.86      0.90        70\n",
      "     ANTAGONIST       0.98      0.87      0.92        60\n",
      "PARTIAL AGONIST       0.84      0.97      0.90        80\n",
      "\n",
      "       accuracy                           0.90       210\n",
      "      macro avg       0.92      0.90      0.91       210\n",
      "   weighted avg       0.91      0.90      0.90       210\n",
      "\n"
     ]
    }
   ],
   "source": [
    "print(result['clusters'].value_counts())\n",
    "# sort keys based on number of values in each clusters\n",
    "cluster_dict = dict(result['clusters'].value_counts())\n",
    "cluster_dict = dict(sorted(cluster_dict.items(), key=lambda item: item[1])).keys()\n",
    "cluster_dict = list(cluster_dict)\n",
    "\n",
    "result['action_gen'] = df['action_gen']\n",
    "result['action_gen_cluster'] = result['clusters'].map({cluster_dict[1]: 'AGONIST', cluster_dict[0]: 'ANTAGONIST', cluster_dict[2]: 'PARTIAL AGONIST'})\n",
    "\n",
    "print('pairing_score: ', rand_score(result.action_gen, result.action_gen_cluster))\n",
    "result[result.action_gen == result.action_gen_cluster].shape[0] / result.shape[0]\n",
    "# print('Accuracy', accuracy_score(result.action_gen, result.action_gen_cluster))\n",
    "print(classification_report(result.action_gen, result.action_gen_cluster))\n"
   ]
  },
  {
   "cell_type": "markdown",
   "metadata": {},
   "source": [
    "## Birch Algorithm"
   ]
  },
  {
   "cell_type": "code",
   "execution_count": 41,
   "metadata": {},
   "outputs": [],
   "source": [
    "from sklearn.cluster import Birch\n",
    "\n",
    "birch = Birch(n_clusters = 3)\n",
    "birch_result = birch.fit_predict(X)\n",
    "result = pd.DataFrame(birch_result, columns=[\"clusters\"])"
   ]
  },
  {
   "cell_type": "code",
   "execution_count": 42,
   "metadata": {},
   "outputs": [
    {
     "name": "stdout",
     "output_type": "stream",
     "text": [
      "0    90\n",
      "2    61\n",
      "1    59\n",
      "Name: clusters, dtype: int64\n",
      "pairing_score:  0.8877648667122351\n",
      "                 precision    recall  f1-score   support\n",
      "\n",
      "        AGONIST       0.98      0.86      0.92        70\n",
      "     ANTAGONIST       0.95      0.93      0.94        60\n",
      "PARTIAL AGONIST       0.84      0.95      0.89        80\n",
      "\n",
      "       accuracy                           0.91       210\n",
      "      macro avg       0.93      0.91      0.92       210\n",
      "   weighted avg       0.92      0.91      0.91       210\n",
      "\n"
     ]
    }
   ],
   "source": [
    "print(result['clusters'].value_counts())\n",
    "# sort keys based on number of values in each clusters\n",
    "cluster_dict = dict(result['clusters'].value_counts())\n",
    "cluster_dict = dict(sorted(cluster_dict.items(), key=lambda item: item[1])).keys()\n",
    "cluster_dict = list(cluster_dict)\n",
    "\n",
    "result['action_gen'] = df['action_gen']\n",
    "result['action_gen_cluster'] = result['clusters'].map({cluster_dict[1]: 'AGONIST', cluster_dict[0]: 'ANTAGONIST', cluster_dict[2]: 'PARTIAL AGONIST'})\n",
    "\n",
    "print('pairing_score: ', rand_score(result.action_gen, result.action_gen_cluster))\n",
    "result[result.action_gen == result.action_gen_cluster].shape[0] / result.shape[0]\n",
    "# print('Accuracy', accuracy_score(result.action_gen, result.action_gen_cluster))\n",
    "print(classification_report(result.action_gen, result.action_gen_cluster))\n"
   ]
  },
  {
   "cell_type": "markdown",
   "metadata": {},
   "source": [
    "## Gaussian Mixture"
   ]
  },
  {
   "cell_type": "code",
   "execution_count": 43,
   "metadata": {},
   "outputs": [],
   "source": [
    "from sklearn.mixture import GaussianMixture\n",
    "\n",
    "gauss = GaussianMixture(n_components=3, covariance_type='full', random_state=0)\n",
    "gauss_result = gauss.fit_predict(X)\n",
    "result = pd.DataFrame(gauss_result, columns=[\"clusters\"])"
   ]
  },
  {
   "cell_type": "code",
   "execution_count": 44,
   "metadata": {},
   "outputs": [
    {
     "name": "stdout",
     "output_type": "stream",
     "text": [
      "0    101\n",
      "2     59\n",
      "1     50\n",
      "Name: clusters, dtype: int64\n",
      "pairing_score:  0.8545910230120757\n",
      "                 precision    recall  f1-score   support\n",
      "\n",
      "        AGONIST       0.98      0.83      0.90        70\n",
      "     ANTAGONIST       1.00      0.83      0.91        60\n",
      "PARTIAL AGONIST       0.78      0.99      0.87        80\n",
      "\n",
      "       accuracy                           0.89       210\n",
      "      macro avg       0.92      0.88      0.89       210\n",
      "   weighted avg       0.91      0.89      0.89       210\n",
      "\n"
     ]
    }
   ],
   "source": [
    "print(result['clusters'].value_counts())\n",
    "# sort keys based on number of values in each clusters\n",
    "cluster_dict = dict(result['clusters'].value_counts())\n",
    "cluster_dict = dict(sorted(cluster_dict.items(), key=lambda item: item[1])).keys()\n",
    "cluster_dict = list(cluster_dict)\n",
    "\n",
    "result['action_gen'] = df['action_gen']\n",
    "result['action_gen_cluster'] = result['clusters'].map({cluster_dict[1]: 'AGONIST', cluster_dict[0]: 'ANTAGONIST', cluster_dict[2]: 'PARTIAL AGONIST'})\n",
    "\n",
    "print('pairing_score: ', rand_score(result.action_gen, result.action_gen_cluster))\n",
    "result[result.action_gen == result.action_gen_cluster].shape[0] / result.shape[0]\n",
    "# print('Accuracy', accuracy_score(result.action_gen, result.action_gen_cluster))\n",
    "print(classification_report(result.action_gen, result.action_gen_cluster))\n"
   ]
  },
  {
   "cell_type": "markdown",
   "metadata": {},
   "source": [
    "# Supervised + Grid_Search"
   ]
  },
  {
   "cell_type": "code",
   "execution_count": 45,
   "metadata": {},
   "outputs": [],
   "source": [
    "\n",
    "from sklearn.model_selection import GridSearchCV\n",
    "from sklearn.pipeline import Pipeline\n",
    "from sklearn.svm import SVC\n",
    "from sklearn.ensemble import RandomForestClassifier\n",
    "from sklearn.ensemble import GradientBoostingClassifier\n",
    "from sklearn.tree import DecisionTreeClassifier\n",
    "from sklearn.naive_bayes import MultinomialNB\n",
    "from sklearn.neighbors import KNeighborsClassifier\n",
    "from sklearn.discriminant_analysis import LinearDiscriminantAnalysis as LDA\n",
    "\n",
    "from sklearn.model_selection import train_test_split\n",
    "\n",
    "\n",
    "clf1 = RandomForestClassifier(random_state=42)\n",
    "clf2 = SVC(probability=True, random_state=42)\n",
    "clf4 = DecisionTreeClassifier(random_state=42)\n",
    "clf5 = KNeighborsClassifier()\n",
    "clf6 = MultinomialNB()\n",
    "clf7 = GradientBoostingClassifier(random_state=42)\n",
    "clf8 = LDA(n_components=2)"
   ]
  },
  {
   "cell_type": "code",
   "execution_count": 46,
   "metadata": {},
   "outputs": [],
   "source": [
    "param1 = {}\n",
    "param1['classifier__n_estimators'] = [10, 50, 100, 250]\n",
    "param1['classifier__max_depth'] = [5, 10, 20]\n",
    "param1['classifier__class_weight'] = [None, {0:1,1:5}, {0:1,1:10}, {0:1,1:25}]\n",
    "param1['classifier'] = [clf1]\n",
    "\n",
    "param2 = {}\n",
    "param2['classifier__C'] = [10**-2, 10**-1, 10**0, 10**1, 10**2]\n",
    "param2['classifier__class_weight'] = [None, {0:1,1:5}, {0:1,1:10}, {0:1,1:25}]\n",
    "param2['classifier'] = [clf2]\n",
    "\n",
    "param4 = {}\n",
    "param4['classifier__max_depth'] = [5,10,25,None]\n",
    "param4['classifier__min_samples_split'] = [2,5,10]\n",
    "param4['classifier__class_weight'] = [None, {0:1,1:5}, {0:1,1:10}, {0:1,1:25}]\n",
    "param4['classifier'] = [clf4]\n",
    "\n",
    "param5 = {}\n",
    "param5['classifier__n_neighbors'] = [2,5,10,25,50]\n",
    "param5['classifier'] = [clf5]\n",
    "\n",
    "param6 = {}\n",
    "param6['classifier__alpha'] = [10**0, 10**1, 10**2]\n",
    "param6['classifier'] = [clf6]\n",
    "\n",
    "param7 = {}\n",
    "param7['classifier__n_estimators'] = [10, 50, 100, 250]\n",
    "param7['classifier__max_depth'] = [5, 10, 20]\n",
    "param7['classifier'] = [clf7]\n",
    "\n",
    "param8 = {}\n",
    "param8[\"classifier__shrinkage\"] = np.arange(0.001, 0.5, 0.001)\n",
    "param8[\"classifier__solver\"] = [\"eigen\"]\n",
    "param8['classifier'] = [clf8]"
   ]
  },
  {
   "cell_type": "code",
   "execution_count": 47,
   "metadata": {},
   "outputs": [
    {
     "name": "stderr",
     "output_type": "stream",
     "text": [
      "c:\\Users\\fongm\\Anaconda3\\envs\\m2vec\\lib\\site-packages\\sklearn\\model_selection\\_validation.py:372: FitFailedWarning: \n",
      "900 fits failed out of a total of 6350.\n",
      "The score on these train-test partitions for these parameters will be set to nan.\n",
      "If these failures are not expected, you can try to debug them by setting error_score='raise'.\n",
      "\n",
      "Below are more details about the failures:\n",
      "--------------------------------------------------------------------------------\n",
      "360 fits failed with the following error:\n",
      "Traceback (most recent call last):\n",
      "  File \"c:\\Users\\fongm\\Anaconda3\\envs\\m2vec\\lib\\site-packages\\numpy\\core\\fromnumeric.py\", line 57, in _wrapfunc\n",
      "    return bound(*args, **kwds)\n",
      "TypeError: '<' not supported between instances of 'str' and 'int'\n",
      "\n",
      "During handling of the above exception, another exception occurred:\n",
      "\n",
      "Traceback (most recent call last):\n",
      "  File \"c:\\Users\\fongm\\Anaconda3\\envs\\m2vec\\lib\\site-packages\\sklearn\\model_selection\\_validation.py\", line 680, in _fit_and_score\n",
      "    estimator.fit(X_train, y_train, **fit_params)\n",
      "  File \"c:\\Users\\fongm\\Anaconda3\\envs\\m2vec\\lib\\site-packages\\sklearn\\pipeline.py\", line 394, in fit\n",
      "    self._final_estimator.fit(Xt, y, **fit_params_last_step)\n",
      "  File \"c:\\Users\\fongm\\Anaconda3\\envs\\m2vec\\lib\\site-packages\\sklearn\\ensemble\\_forest.py\", line 367, in fit\n",
      "    y, expanded_class_weight = self._validate_y_class_weight(y)\n",
      "  File \"c:\\Users\\fongm\\Anaconda3\\envs\\m2vec\\lib\\site-packages\\sklearn\\ensemble\\_forest.py\", line 783, in _validate_y_class_weight\n",
      "    expanded_class_weight = compute_sample_weight(class_weight, y_original)\n",
      "  File \"c:\\Users\\fongm\\Anaconda3\\envs\\m2vec\\lib\\site-packages\\sklearn\\utils\\class_weight.py\", line 168, in compute_sample_weight\n",
      "    class_weight_k, classes=classes_full, y=y_full\n",
      "  File \"c:\\Users\\fongm\\Anaconda3\\envs\\m2vec\\lib\\site-packages\\sklearn\\utils\\class_weight.py\", line 62, in compute_class_weight\n",
      "    i = np.searchsorted(classes, c)\n",
      "  File \"<__array_function__ internals>\", line 6, in searchsorted\n",
      "  File \"c:\\Users\\fongm\\Anaconda3\\envs\\m2vec\\lib\\site-packages\\numpy\\core\\fromnumeric.py\", line 1350, in searchsorted\n",
      "    return _wrapfunc(a, 'searchsorted', v, side=side, sorter=sorter)\n",
      "  File \"c:\\Users\\fongm\\Anaconda3\\envs\\m2vec\\lib\\site-packages\\numpy\\core\\fromnumeric.py\", line 66, in _wrapfunc\n",
      "    return _wrapit(obj, method, *args, **kwds)\n",
      "  File \"c:\\Users\\fongm\\Anaconda3\\envs\\m2vec\\lib\\site-packages\\numpy\\core\\fromnumeric.py\", line 43, in _wrapit\n",
      "    result = getattr(asarray(obj), method)(*args, **kwds)\n",
      "TypeError: '<' not supported between instances of 'str' and 'int'\n",
      "\n",
      "--------------------------------------------------------------------------------\n",
      "150 fits failed with the following error:\n",
      "Traceback (most recent call last):\n",
      "  File \"c:\\Users\\fongm\\Anaconda3\\envs\\m2vec\\lib\\site-packages\\numpy\\core\\fromnumeric.py\", line 57, in _wrapfunc\n",
      "    return bound(*args, **kwds)\n",
      "TypeError: '<' not supported between instances of 'str' and 'int'\n",
      "\n",
      "During handling of the above exception, another exception occurred:\n",
      "\n",
      "Traceback (most recent call last):\n",
      "  File \"c:\\Users\\fongm\\Anaconda3\\envs\\m2vec\\lib\\site-packages\\sklearn\\model_selection\\_validation.py\", line 680, in _fit_and_score\n",
      "    estimator.fit(X_train, y_train, **fit_params)\n",
      "  File \"c:\\Users\\fongm\\Anaconda3\\envs\\m2vec\\lib\\site-packages\\sklearn\\pipeline.py\", line 394, in fit\n",
      "    self._final_estimator.fit(Xt, y, **fit_params_last_step)\n",
      "  File \"c:\\Users\\fongm\\Anaconda3\\envs\\m2vec\\lib\\site-packages\\sklearn\\svm\\_base.py\", line 199, in fit\n",
      "    y = self._validate_targets(y)\n",
      "  File \"c:\\Users\\fongm\\Anaconda3\\envs\\m2vec\\lib\\site-packages\\sklearn\\svm\\_base.py\", line 718, in _validate_targets\n",
      "    self.class_weight_ = compute_class_weight(self.class_weight, classes=cls, y=y_)\n",
      "  File \"c:\\Users\\fongm\\Anaconda3\\envs\\m2vec\\lib\\site-packages\\sklearn\\utils\\class_weight.py\", line 62, in compute_class_weight\n",
      "    i = np.searchsorted(classes, c)\n",
      "  File \"<__array_function__ internals>\", line 6, in searchsorted\n",
      "  File \"c:\\Users\\fongm\\Anaconda3\\envs\\m2vec\\lib\\site-packages\\numpy\\core\\fromnumeric.py\", line 1350, in searchsorted\n",
      "    return _wrapfunc(a, 'searchsorted', v, side=side, sorter=sorter)\n",
      "  File \"c:\\Users\\fongm\\Anaconda3\\envs\\m2vec\\lib\\site-packages\\numpy\\core\\fromnumeric.py\", line 66, in _wrapfunc\n",
      "    return _wrapit(obj, method, *args, **kwds)\n",
      "  File \"c:\\Users\\fongm\\Anaconda3\\envs\\m2vec\\lib\\site-packages\\numpy\\core\\fromnumeric.py\", line 43, in _wrapit\n",
      "    result = getattr(asarray(obj), method)(*args, **kwds)\n",
      "TypeError: '<' not supported between instances of 'str' and 'int'\n",
      "\n",
      "--------------------------------------------------------------------------------\n",
      "360 fits failed with the following error:\n",
      "Traceback (most recent call last):\n",
      "  File \"c:\\Users\\fongm\\Anaconda3\\envs\\m2vec\\lib\\site-packages\\numpy\\core\\fromnumeric.py\", line 57, in _wrapfunc\n",
      "    return bound(*args, **kwds)\n",
      "TypeError: '<' not supported between instances of 'str' and 'int'\n",
      "\n",
      "During handling of the above exception, another exception occurred:\n",
      "\n",
      "Traceback (most recent call last):\n",
      "  File \"c:\\Users\\fongm\\Anaconda3\\envs\\m2vec\\lib\\site-packages\\sklearn\\model_selection\\_validation.py\", line 680, in _fit_and_score\n",
      "    estimator.fit(X_train, y_train, **fit_params)\n",
      "  File \"c:\\Users\\fongm\\Anaconda3\\envs\\m2vec\\lib\\site-packages\\sklearn\\pipeline.py\", line 394, in fit\n",
      "    self._final_estimator.fit(Xt, y, **fit_params_last_step)\n",
      "  File \"c:\\Users\\fongm\\Anaconda3\\envs\\m2vec\\lib\\site-packages\\sklearn\\tree\\_classes.py\", line 942, in fit\n",
      "    X_idx_sorted=X_idx_sorted,\n",
      "  File \"c:\\Users\\fongm\\Anaconda3\\envs\\m2vec\\lib\\site-packages\\sklearn\\tree\\_classes.py\", line 221, in fit\n",
      "    self.class_weight, y_original\n",
      "  File \"c:\\Users\\fongm\\Anaconda3\\envs\\m2vec\\lib\\site-packages\\sklearn\\utils\\class_weight.py\", line 168, in compute_sample_weight\n",
      "    class_weight_k, classes=classes_full, y=y_full\n",
      "  File \"c:\\Users\\fongm\\Anaconda3\\envs\\m2vec\\lib\\site-packages\\sklearn\\utils\\class_weight.py\", line 62, in compute_class_weight\n",
      "    i = np.searchsorted(classes, c)\n",
      "  File \"<__array_function__ internals>\", line 6, in searchsorted\n",
      "  File \"c:\\Users\\fongm\\Anaconda3\\envs\\m2vec\\lib\\site-packages\\numpy\\core\\fromnumeric.py\", line 1350, in searchsorted\n",
      "    return _wrapfunc(a, 'searchsorted', v, side=side, sorter=sorter)\n",
      "  File \"c:\\Users\\fongm\\Anaconda3\\envs\\m2vec\\lib\\site-packages\\numpy\\core\\fromnumeric.py\", line 66, in _wrapfunc\n",
      "    return _wrapit(obj, method, *args, **kwds)\n",
      "  File \"c:\\Users\\fongm\\Anaconda3\\envs\\m2vec\\lib\\site-packages\\numpy\\core\\fromnumeric.py\", line 43, in _wrapit\n",
      "    result = getattr(asarray(obj), method)(*args, **kwds)\n",
      "TypeError: '<' not supported between instances of 'str' and 'int'\n",
      "\n",
      "--------------------------------------------------------------------------------\n",
      "30 fits failed with the following error:\n",
      "Traceback (most recent call last):\n",
      "  File \"c:\\Users\\fongm\\Anaconda3\\envs\\m2vec\\lib\\site-packages\\sklearn\\model_selection\\_validation.py\", line 680, in _fit_and_score\n",
      "    estimator.fit(X_train, y_train, **fit_params)\n",
      "  File \"c:\\Users\\fongm\\Anaconda3\\envs\\m2vec\\lib\\site-packages\\sklearn\\pipeline.py\", line 394, in fit\n",
      "    self._final_estimator.fit(Xt, y, **fit_params_last_step)\n",
      "  File \"c:\\Users\\fongm\\Anaconda3\\envs\\m2vec\\lib\\site-packages\\sklearn\\naive_bayes.py\", line 690, in fit\n",
      "    self._count(X, Y)\n",
      "  File \"c:\\Users\\fongm\\Anaconda3\\envs\\m2vec\\lib\\site-packages\\sklearn\\naive_bayes.py\", line 863, in _count\n",
      "    check_non_negative(X, \"MultinomialNB (input X)\")\n",
      "  File \"c:\\Users\\fongm\\Anaconda3\\envs\\m2vec\\lib\\site-packages\\sklearn\\utils\\validation.py\", line 1249, in check_non_negative\n",
      "    raise ValueError(\"Negative values in data passed to %s\" % whom)\n",
      "ValueError: Negative values in data passed to MultinomialNB (input X)\n",
      "\n",
      "  warnings.warn(some_fits_failed_message, FitFailedWarning)\n",
      "c:\\Users\\fongm\\Anaconda3\\envs\\m2vec\\lib\\site-packages\\sklearn\\model_selection\\_search.py:972: UserWarning: One or more of the test scores are non-finite: [0.72573529 0.74889706 0.73713235 0.75514706 0.73125    0.73713235\n",
      " 0.74889706 0.76066176 0.73125    0.73713235 0.74889706 0.76066176\n",
      "        nan        nan        nan        nan        nan        nan\n",
      "        nan        nan        nan        nan        nan        nan\n",
      "        nan        nan        nan        nan        nan        nan\n",
      "        nan        nan        nan        nan        nan        nan\n",
      "        nan        nan        nan        nan        nan        nan\n",
      "        nan        nan        nan        nan        nan        nan\n",
      " 0.38088235        nan        nan        nan 0.38088235        nan\n",
      "        nan        nan 0.60036765        nan        nan        nan\n",
      " 0.71911765        nan        nan        nan 0.79705882        nan\n",
      "        nan        nan 0.68970588 0.67169118 0.67794118 0.69485294\n",
      " 0.65955882 0.67205882 0.69485294 0.65955882 0.67205882 0.69485294\n",
      " 0.65955882 0.67205882        nan        nan        nan        nan\n",
      "        nan        nan        nan        nan        nan        nan\n",
      "        nan        nan        nan        nan        nan        nan\n",
      "        nan        nan        nan        nan        nan        nan\n",
      "        nan        nan        nan        nan        nan        nan\n",
      "        nan        nan        nan        nan        nan        nan\n",
      "        nan        nan 0.70698529 0.64816176 0.64852941 0.59448529\n",
      " 0.54705882        nan        nan        nan 0.71397059 0.71286765\n",
      " 0.71286765 0.70735294 0.65477941 0.70735294 0.70183824 0.72573529\n",
      " 0.65477941 0.68933824 0.67794118 0.70772059 0.74816176 0.77242647\n",
      " 0.78419118 0.78419118 0.79044118 0.79044118 0.78455882 0.78455882\n",
      " 0.78455882 0.79080882 0.79080882 0.79080882 0.79080882 0.79080882\n",
      " 0.79669118 0.79669118 0.79669118 0.79669118 0.79669118 0.79669118\n",
      " 0.79669118 0.79669118 0.79669118 0.79669118 0.80294118 0.80294118\n",
      " 0.80294118 0.80294118 0.79705882 0.79705882 0.79705882 0.79117647\n",
      " 0.79117647 0.79117647 0.79117647 0.79117647 0.79117647 0.79117647\n",
      " 0.79117647 0.78529412 0.78529412 0.78529412 0.78529412 0.78529412\n",
      " 0.78529412 0.78529412 0.78529412 0.78529412 0.77904412 0.77904412\n",
      " 0.77904412 0.77904412 0.78492647 0.78492647 0.78492647 0.79117647\n",
      " 0.79117647 0.79117647 0.79117647 0.79117647 0.79117647 0.79117647\n",
      " 0.79117647 0.79117647 0.79705882 0.79705882 0.79705882 0.80294118\n",
      " 0.80294118 0.80882353 0.80882353 0.80882353 0.80882353 0.81507353\n",
      " 0.81507353 0.81507353 0.81507353 0.81507353 0.81507353 0.81507353\n",
      " 0.81507353 0.81507353 0.81507353 0.81507353 0.81507353 0.81507353\n",
      " 0.81507353 0.81507353 0.80919118 0.80919118 0.80919118 0.80919118\n",
      " 0.80919118 0.79742647 0.79742647 0.79742647 0.79742647 0.79742647\n",
      " 0.79742647 0.79742647 0.79742647 0.79742647 0.79742647 0.79742647\n",
      " 0.79742647 0.79742647 0.79742647 0.79742647 0.79742647 0.79742647\n",
      " 0.79742647 0.79742647 0.79742647 0.79742647 0.79742647 0.79742647\n",
      " 0.79742647 0.79742647 0.79742647 0.79154412 0.79154412 0.79154412\n",
      " 0.79154412 0.79154412 0.79154412 0.79154412 0.79154412 0.79154412\n",
      " 0.79154412 0.79154412 0.79154412 0.79154412 0.79154412 0.79154412\n",
      " 0.79154412 0.79154412 0.79154412 0.79154412 0.79154412 0.79154412\n",
      " 0.79154412 0.79154412 0.79154412 0.79154412 0.79154412 0.79154412\n",
      " 0.79154412 0.79154412 0.79154412 0.79154412 0.79154412 0.79154412\n",
      " 0.79154412 0.79154412 0.79154412 0.79154412 0.79154412 0.79154412\n",
      " 0.79154412 0.79154412 0.79154412 0.79154412 0.79154412 0.79154412\n",
      " 0.79154412 0.79742647 0.79117647 0.79117647 0.79117647 0.79117647\n",
      " 0.79117647 0.79117647 0.79117647 0.79117647 0.79117647 0.79117647\n",
      " 0.79117647 0.79117647 0.79117647 0.79117647 0.79117647 0.79117647\n",
      " 0.79117647 0.79117647 0.79117647 0.79117647 0.79117647 0.79117647\n",
      " 0.79117647 0.79117647 0.79117647 0.79117647 0.79117647 0.79117647\n",
      " 0.79117647 0.79117647 0.79117647 0.79117647 0.79117647 0.79117647\n",
      " 0.79117647 0.79117647 0.79117647 0.79117647 0.79117647 0.79117647\n",
      " 0.79117647 0.79117647 0.79117647 0.79117647 0.79117647 0.79117647\n",
      " 0.79117647 0.79117647 0.79117647 0.79117647 0.79117647 0.79117647\n",
      " 0.79117647 0.79117647 0.79117647 0.79117647 0.79117647 0.79117647\n",
      " 0.79117647 0.78529412 0.78529412 0.78529412 0.78529412 0.78529412\n",
      " 0.78529412 0.78529412 0.78529412 0.77352941 0.77352941 0.77352941\n",
      " 0.77352941 0.77352941 0.77352941 0.77352941 0.77352941 0.77352941\n",
      " 0.77352941 0.77352941 0.77352941 0.77352941 0.77352941 0.77352941\n",
      " 0.77352941 0.77352941 0.77352941 0.77352941 0.77352941 0.77352941\n",
      " 0.77352941 0.77352941 0.77352941 0.77352941 0.77352941 0.77352941\n",
      " 0.77352941 0.76764706 0.76764706 0.76764706 0.76764706 0.76764706\n",
      " 0.76764706 0.76764706 0.76764706 0.76764706 0.76764706 0.76764706\n",
      " 0.76764706 0.76764706 0.76764706 0.76764706 0.76764706 0.76764706\n",
      " 0.76764706 0.76764706 0.76139706 0.76139706 0.76139706 0.76139706\n",
      " 0.76139706 0.76139706 0.76139706 0.76139706 0.76139706 0.76139706\n",
      " 0.76139706 0.76139706 0.76139706 0.76139706 0.76139706 0.76139706\n",
      " 0.76139706 0.76139706 0.76139706 0.76139706 0.76139706 0.76139706\n",
      " 0.76139706 0.75551471 0.75551471 0.75551471 0.75551471 0.74963235\n",
      " 0.74963235 0.74963235 0.74963235 0.74963235 0.74963235 0.74963235\n",
      " 0.74963235 0.74963235 0.74963235 0.74963235 0.74963235 0.74963235\n",
      " 0.74963235 0.74963235 0.74963235 0.74963235 0.74963235 0.74375\n",
      " 0.74375    0.74375    0.73786765 0.73786765 0.73786765 0.73786765\n",
      " 0.73786765 0.73198529 0.73198529 0.73198529 0.73198529 0.73198529\n",
      " 0.73198529 0.73198529 0.73198529 0.73198529 0.73198529 0.73198529\n",
      " 0.72573529 0.72573529 0.72573529 0.72573529 0.72573529 0.72573529\n",
      " 0.72573529 0.72573529 0.72573529 0.72573529 0.72573529 0.72573529\n",
      " 0.72573529 0.72573529 0.72573529 0.72573529 0.72573529 0.72573529\n",
      " 0.72573529 0.72573529 0.72573529 0.72573529 0.72573529 0.72573529\n",
      " 0.72573529 0.72573529 0.72573529 0.72573529 0.72573529 0.72573529\n",
      " 0.72573529 0.72573529 0.72573529 0.72573529 0.72573529 0.72573529\n",
      " 0.72573529 0.72573529 0.72573529 0.72573529 0.72573529 0.71985294\n",
      " 0.71985294 0.71985294 0.71397059 0.71397059 0.71397059 0.71397059\n",
      " 0.71397059 0.71397059 0.71397059 0.71397059 0.71397059 0.71397059\n",
      " 0.71397059 0.71397059 0.71397059 0.71397059 0.71397059 0.71397059\n",
      " 0.71397059 0.71397059 0.71397059 0.71397059 0.71397059 0.71397059\n",
      " 0.71397059 0.71397059 0.71397059 0.70808824 0.70808824 0.70808824\n",
      " 0.70808824 0.70808824 0.70808824 0.70808824 0.70808824 0.70808824\n",
      " 0.70808824 0.70808824 0.70808824 0.70808824 0.70808824 0.70808824\n",
      " 0.70808824 0.70220588 0.70220588 0.70220588 0.70220588 0.70220588\n",
      " 0.70220588 0.70220588 0.70220588 0.70220588 0.70220588 0.70220588\n",
      " 0.70220588 0.70220588 0.70220588 0.70220588 0.70220588 0.70220588\n",
      " 0.70220588 0.70220588 0.70220588 0.70220588 0.70220588 0.70220588\n",
      " 0.70220588 0.70220588 0.70220588 0.70220588 0.70220588 0.70220588\n",
      " 0.70220588 0.70220588 0.70220588 0.70220588 0.70220588 0.70220588\n",
      " 0.70220588 0.70220588 0.70220588 0.70220588 0.70220588 0.70220588\n",
      " 0.70220588 0.69632353 0.69632353 0.69632353 0.69632353 0.69632353\n",
      " 0.69632353 0.69632353 0.69632353 0.69632353 0.69632353 0.69632353\n",
      " 0.69632353 0.69632353 0.69632353 0.69632353 0.69632353 0.69632353\n",
      " 0.69632353 0.69632353 0.69632353 0.69632353 0.69632353 0.69632353\n",
      " 0.69632353 0.69632353 0.69632353 0.69632353 0.69632353]\n",
      "  category=UserWarning,\n"
     ]
    }
   ],
   "source": [
    "X_train, X_test, y_train, y_test = train_test_split(df_mol2vec, y.values.ravel(), test_size=0.2, random_state=42, stratify=y)\n",
    "pipeline = Pipeline([('classifier', clf1)])\n",
    "params = [param1, param2, param4, param5, param6, param7, param8]\n",
    "gs = GridSearchCV(pipeline, params, cv=10, scoring='accuracy').fit(X_train, y_train)"
   ]
  },
  {
   "cell_type": "code",
   "execution_count": 48,
   "metadata": {},
   "outputs": [
    {
     "name": "stdout",
     "output_type": "stream",
     "text": [
      "{'classifier': LinearDiscriminantAnalysis(n_components=2, shrinkage=0.074, solver='eigen'), 'classifier__shrinkage': 0.074, 'classifier__solver': 'eigen'}\n",
      "0.8150735294117647\n"
     ]
    }
   ],
   "source": [
    "print(gs.best_params_)\n",
    "print(gs.best_score_)\n"
   ]
  }
 ],
 "metadata": {
  "interpreter": {
   "hash": "8f586d29ed66b04345fe5e490c331713fbaab51ba1e3e0631cbea37b530e2714"
  },
  "kernelspec": {
   "display_name": "Python 3.7.13 ('m2vec')",
   "language": "python",
   "name": "python3"
  },
  "language_info": {
   "codemirror_mode": {
    "name": "ipython",
    "version": 3
   },
   "file_extension": ".py",
   "mimetype": "text/x-python",
   "name": "python",
   "nbconvert_exporter": "python",
   "pygments_lexer": "ipython3",
   "version": "3.7.13"
  },
  "orig_nbformat": 4
 },
 "nbformat": 4,
 "nbformat_minor": 2
}
