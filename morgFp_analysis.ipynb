{
 "cells": [
  {
   "cell_type": "code",
   "execution_count": 1,
   "metadata": {},
   "outputs": [
    {
     "ename": "ModuleNotFoundError",
     "evalue": "No module named 'rdkit'",
     "output_type": "error",
     "traceback": [
      "\u001b[1;31m---------------------------------------------------------------------------\u001b[0m",
      "\u001b[1;31mModuleNotFoundError\u001b[0m                       Traceback (most recent call last)",
      "\u001b[1;32m<ipython-input-1-e20bef8f45a5>\u001b[0m in \u001b[0;36m<module>\u001b[1;34m\u001b[0m\n\u001b[1;32m----> 1\u001b[1;33m \u001b[1;32mfrom\u001b[0m \u001b[0mrdkit\u001b[0m\u001b[1;33m.\u001b[0m\u001b[0mChem\u001b[0m \u001b[1;32mimport\u001b[0m \u001b[0mAllChem\u001b[0m\u001b[1;33m\u001b[0m\u001b[1;33m\u001b[0m\u001b[0m\n\u001b[0m\u001b[0;32m      2\u001b[0m \u001b[1;32mfrom\u001b[0m \u001b[0mrdkit\u001b[0m \u001b[1;32mimport\u001b[0m \u001b[0mDataStructs\u001b[0m\u001b[1;33m\u001b[0m\u001b[1;33m\u001b[0m\u001b[0m\n\u001b[0;32m      3\u001b[0m \u001b[1;32mfrom\u001b[0m \u001b[0mrdkit\u001b[0m \u001b[1;32mimport\u001b[0m \u001b[0mChem\u001b[0m\u001b[1;33m\u001b[0m\u001b[1;33m\u001b[0m\u001b[0m\n",
      "\u001b[1;31mModuleNotFoundError\u001b[0m: No module named 'rdkit'"
     ]
    }
   ],
   "source": [
    "from rdkit.Chem import AllChem\n",
    "from rdkit import DataStructs\n",
    "from rdkit import Chem\n"
   ]
  },
  {
   "cell_type": "code",
   "execution_count": null,
   "metadata": {},
   "outputs": [],
   "source": [
    "import pandas as pd\n",
    "import numpy as np\n",
    "import seaborn as sns\n",
    "import matplotlib.pyplot as plt\n",
    "# from rdkit import Chem\n",
    "# from mol2vec.features import mol2alt_sentence, MolSentence, DfVec, sentences2vec\n",
    "# from gensim.models import word2vec\n"
   ]
  },
  {
   "cell_type": "code",
   "execution_count": null,
   "metadata": {},
   "outputs": [],
   "source": [
    "m1 = Chem.MolFromSmiles('CCN1CCCC1CNC(=O)C2=CC(=C(C=C2OC)N)S(=O)(=O)CC')\n",
    "m2 = Chem.MolFromSmiles('CCN(CC)CCOCCOC(=O)C1(CCCC1)C2=CC=CC=C2')\n",
    "fp1 = AllChem.GetMorganFingerprintAsBitVect(m1,2,nBits=1024, useFeatures=True)\n",
    "fp2 = AllChem.GetMorganFingerprintAsBitVect(m2,2,nBits=1024, useFeatures=True)\n",
    "# dir(fp1)\n",
    "# print(fp1.ToList())\n",
    "# print(fp2.ToList())\n",
    "\n",
    "# sum(np.array(fp1.ToList()) - np.array(fp2.ToList()))"
   ]
  },
  {
   "cell_type": "code",
   "execution_count": null,
   "metadata": {},
   "outputs": [
    {
     "data": {
      "text/plain": [
       "Index(['cid', 'smiles', 'action', 'action_gen'], dtype='object')"
      ]
     },
     "execution_count": 195,
     "metadata": {},
     "output_type": "execute_result"
    }
   ],
   "source": [
    "df = pd.read_csv(\"data/processed/basic_data.csv\")\n",
    "df.head()\n",
    "df.columns"
   ]
  },
  {
   "cell_type": "code",
   "execution_count": null,
   "metadata": {},
   "outputs": [
    {
     "data": {
      "text/html": [
       "<div>\n",
       "<style scoped>\n",
       "    .dataframe tbody tr th:only-of-type {\n",
       "        vertical-align: middle;\n",
       "    }\n",
       "\n",
       "    .dataframe tbody tr th {\n",
       "        vertical-align: top;\n",
       "    }\n",
       "\n",
       "    .dataframe thead th {\n",
       "        text-align: right;\n",
       "    }\n",
       "</style>\n",
       "<table border=\"1\" class=\"dataframe\">\n",
       "  <thead>\n",
       "    <tr style=\"text-align: right;\">\n",
       "      <th></th>\n",
       "      <th>0</th>\n",
       "      <th>1</th>\n",
       "      <th>2</th>\n",
       "      <th>3</th>\n",
       "      <th>4</th>\n",
       "      <th>5</th>\n",
       "      <th>6</th>\n",
       "      <th>7</th>\n",
       "      <th>8</th>\n",
       "      <th>9</th>\n",
       "      <th>...</th>\n",
       "      <th>1014</th>\n",
       "      <th>1015</th>\n",
       "      <th>1016</th>\n",
       "      <th>1017</th>\n",
       "      <th>1018</th>\n",
       "      <th>1019</th>\n",
       "      <th>1020</th>\n",
       "      <th>1021</th>\n",
       "      <th>1022</th>\n",
       "      <th>1023</th>\n",
       "    </tr>\n",
       "  </thead>\n",
       "  <tbody>\n",
       "    <tr>\n",
       "      <th>0</th>\n",
       "      <td>1</td>\n",
       "      <td>1</td>\n",
       "      <td>1</td>\n",
       "      <td>0</td>\n",
       "      <td>1</td>\n",
       "      <td>0</td>\n",
       "      <td>0</td>\n",
       "      <td>0</td>\n",
       "      <td>0</td>\n",
       "      <td>0</td>\n",
       "      <td>...</td>\n",
       "      <td>0</td>\n",
       "      <td>1</td>\n",
       "      <td>1</td>\n",
       "      <td>0</td>\n",
       "      <td>0</td>\n",
       "      <td>0</td>\n",
       "      <td>0</td>\n",
       "      <td>0</td>\n",
       "      <td>0</td>\n",
       "      <td>0</td>\n",
       "    </tr>\n",
       "    <tr>\n",
       "      <th>1</th>\n",
       "      <td>1</td>\n",
       "      <td>0</td>\n",
       "      <td>0</td>\n",
       "      <td>0</td>\n",
       "      <td>1</td>\n",
       "      <td>0</td>\n",
       "      <td>0</td>\n",
       "      <td>0</td>\n",
       "      <td>0</td>\n",
       "      <td>0</td>\n",
       "      <td>...</td>\n",
       "      <td>0</td>\n",
       "      <td>0</td>\n",
       "      <td>0</td>\n",
       "      <td>0</td>\n",
       "      <td>0</td>\n",
       "      <td>0</td>\n",
       "      <td>0</td>\n",
       "      <td>0</td>\n",
       "      <td>0</td>\n",
       "      <td>0</td>\n",
       "    </tr>\n",
       "    <tr>\n",
       "      <th>2</th>\n",
       "      <td>1</td>\n",
       "      <td>0</td>\n",
       "      <td>1</td>\n",
       "      <td>0</td>\n",
       "      <td>1</td>\n",
       "      <td>0</td>\n",
       "      <td>0</td>\n",
       "      <td>0</td>\n",
       "      <td>0</td>\n",
       "      <td>0</td>\n",
       "      <td>...</td>\n",
       "      <td>0</td>\n",
       "      <td>0</td>\n",
       "      <td>1</td>\n",
       "      <td>0</td>\n",
       "      <td>0</td>\n",
       "      <td>0</td>\n",
       "      <td>0</td>\n",
       "      <td>0</td>\n",
       "      <td>0</td>\n",
       "      <td>0</td>\n",
       "    </tr>\n",
       "    <tr>\n",
       "      <th>3</th>\n",
       "      <td>1</td>\n",
       "      <td>0</td>\n",
       "      <td>1</td>\n",
       "      <td>0</td>\n",
       "      <td>1</td>\n",
       "      <td>0</td>\n",
       "      <td>0</td>\n",
       "      <td>0</td>\n",
       "      <td>0</td>\n",
       "      <td>0</td>\n",
       "      <td>...</td>\n",
       "      <td>0</td>\n",
       "      <td>0</td>\n",
       "      <td>1</td>\n",
       "      <td>0</td>\n",
       "      <td>0</td>\n",
       "      <td>0</td>\n",
       "      <td>0</td>\n",
       "      <td>0</td>\n",
       "      <td>0</td>\n",
       "      <td>0</td>\n",
       "    </tr>\n",
       "    <tr>\n",
       "      <th>4</th>\n",
       "      <td>1</td>\n",
       "      <td>0</td>\n",
       "      <td>1</td>\n",
       "      <td>0</td>\n",
       "      <td>1</td>\n",
       "      <td>0</td>\n",
       "      <td>0</td>\n",
       "      <td>0</td>\n",
       "      <td>1</td>\n",
       "      <td>0</td>\n",
       "      <td>...</td>\n",
       "      <td>0</td>\n",
       "      <td>0</td>\n",
       "      <td>1</td>\n",
       "      <td>0</td>\n",
       "      <td>0</td>\n",
       "      <td>0</td>\n",
       "      <td>0</td>\n",
       "      <td>0</td>\n",
       "      <td>0</td>\n",
       "      <td>1</td>\n",
       "    </tr>\n",
       "    <tr>\n",
       "      <th>...</th>\n",
       "      <td>...</td>\n",
       "      <td>...</td>\n",
       "      <td>...</td>\n",
       "      <td>...</td>\n",
       "      <td>...</td>\n",
       "      <td>...</td>\n",
       "      <td>...</td>\n",
       "      <td>...</td>\n",
       "      <td>...</td>\n",
       "      <td>...</td>\n",
       "      <td>...</td>\n",
       "      <td>...</td>\n",
       "      <td>...</td>\n",
       "      <td>...</td>\n",
       "      <td>...</td>\n",
       "      <td>...</td>\n",
       "      <td>...</td>\n",
       "      <td>...</td>\n",
       "      <td>...</td>\n",
       "      <td>...</td>\n",
       "      <td>...</td>\n",
       "    </tr>\n",
       "    <tr>\n",
       "      <th>166</th>\n",
       "      <td>1</td>\n",
       "      <td>0</td>\n",
       "      <td>0</td>\n",
       "      <td>0</td>\n",
       "      <td>1</td>\n",
       "      <td>0</td>\n",
       "      <td>0</td>\n",
       "      <td>0</td>\n",
       "      <td>1</td>\n",
       "      <td>0</td>\n",
       "      <td>...</td>\n",
       "      <td>0</td>\n",
       "      <td>0</td>\n",
       "      <td>0</td>\n",
       "      <td>0</td>\n",
       "      <td>0</td>\n",
       "      <td>0</td>\n",
       "      <td>0</td>\n",
       "      <td>0</td>\n",
       "      <td>0</td>\n",
       "      <td>0</td>\n",
       "    </tr>\n",
       "    <tr>\n",
       "      <th>167</th>\n",
       "      <td>1</td>\n",
       "      <td>0</td>\n",
       "      <td>0</td>\n",
       "      <td>0</td>\n",
       "      <td>1</td>\n",
       "      <td>0</td>\n",
       "      <td>0</td>\n",
       "      <td>0</td>\n",
       "      <td>1</td>\n",
       "      <td>0</td>\n",
       "      <td>...</td>\n",
       "      <td>0</td>\n",
       "      <td>0</td>\n",
       "      <td>0</td>\n",
       "      <td>0</td>\n",
       "      <td>0</td>\n",
       "      <td>0</td>\n",
       "      <td>0</td>\n",
       "      <td>0</td>\n",
       "      <td>0</td>\n",
       "      <td>0</td>\n",
       "    </tr>\n",
       "    <tr>\n",
       "      <th>168</th>\n",
       "      <td>1</td>\n",
       "      <td>1</td>\n",
       "      <td>1</td>\n",
       "      <td>1</td>\n",
       "      <td>1</td>\n",
       "      <td>0</td>\n",
       "      <td>0</td>\n",
       "      <td>0</td>\n",
       "      <td>0</td>\n",
       "      <td>0</td>\n",
       "      <td>...</td>\n",
       "      <td>0</td>\n",
       "      <td>0</td>\n",
       "      <td>1</td>\n",
       "      <td>1</td>\n",
       "      <td>0</td>\n",
       "      <td>0</td>\n",
       "      <td>0</td>\n",
       "      <td>0</td>\n",
       "      <td>0</td>\n",
       "      <td>0</td>\n",
       "    </tr>\n",
       "    <tr>\n",
       "      <th>169</th>\n",
       "      <td>1</td>\n",
       "      <td>0</td>\n",
       "      <td>1</td>\n",
       "      <td>0</td>\n",
       "      <td>1</td>\n",
       "      <td>0</td>\n",
       "      <td>1</td>\n",
       "      <td>0</td>\n",
       "      <td>1</td>\n",
       "      <td>0</td>\n",
       "      <td>...</td>\n",
       "      <td>0</td>\n",
       "      <td>1</td>\n",
       "      <td>0</td>\n",
       "      <td>0</td>\n",
       "      <td>0</td>\n",
       "      <td>0</td>\n",
       "      <td>0</td>\n",
       "      <td>0</td>\n",
       "      <td>0</td>\n",
       "      <td>0</td>\n",
       "    </tr>\n",
       "    <tr>\n",
       "      <th>170</th>\n",
       "      <td>1</td>\n",
       "      <td>0</td>\n",
       "      <td>1</td>\n",
       "      <td>1</td>\n",
       "      <td>1</td>\n",
       "      <td>0</td>\n",
       "      <td>0</td>\n",
       "      <td>0</td>\n",
       "      <td>0</td>\n",
       "      <td>0</td>\n",
       "      <td>...</td>\n",
       "      <td>0</td>\n",
       "      <td>0</td>\n",
       "      <td>1</td>\n",
       "      <td>1</td>\n",
       "      <td>0</td>\n",
       "      <td>0</td>\n",
       "      <td>0</td>\n",
       "      <td>0</td>\n",
       "      <td>0</td>\n",
       "      <td>0</td>\n",
       "    </tr>\n",
       "  </tbody>\n",
       "</table>\n",
       "<p>171 rows × 1024 columns</p>\n",
       "</div>"
      ],
      "text/plain": [
       "     0     1     2     3     4     5     6     7     8     9     ...  1014  \\\n",
       "0       1     1     1     0     1     0     0     0     0     0  ...     0   \n",
       "1       1     0     0     0     1     0     0     0     0     0  ...     0   \n",
       "2       1     0     1     0     1     0     0     0     0     0  ...     0   \n",
       "3       1     0     1     0     1     0     0     0     0     0  ...     0   \n",
       "4       1     0     1     0     1     0     0     0     1     0  ...     0   \n",
       "..    ...   ...   ...   ...   ...   ...   ...   ...   ...   ...  ...   ...   \n",
       "166     1     0     0     0     1     0     0     0     1     0  ...     0   \n",
       "167     1     0     0     0     1     0     0     0     1     0  ...     0   \n",
       "168     1     1     1     1     1     0     0     0     0     0  ...     0   \n",
       "169     1     0     1     0     1     0     1     0     1     0  ...     0   \n",
       "170     1     0     1     1     1     0     0     0     0     0  ...     0   \n",
       "\n",
       "     1015  1016  1017  1018  1019  1020  1021  1022  1023  \n",
       "0       1     1     0     0     0     0     0     0     0  \n",
       "1       0     0     0     0     0     0     0     0     0  \n",
       "2       0     1     0     0     0     0     0     0     0  \n",
       "3       0     1     0     0     0     0     0     0     0  \n",
       "4       0     1     0     0     0     0     0     0     1  \n",
       "..    ...   ...   ...   ...   ...   ...   ...   ...   ...  \n",
       "166     0     0     0     0     0     0     0     0     0  \n",
       "167     0     0     0     0     0     0     0     0     0  \n",
       "168     0     1     1     0     0     0     0     0     0  \n",
       "169     1     0     0     0     0     0     0     0     0  \n",
       "170     0     1     1     0     0     0     0     0     0  \n",
       "\n",
       "[171 rows x 1024 columns]"
      ]
     },
     "execution_count": 196,
     "metadata": {},
     "output_type": "execute_result"
    }
   ],
   "source": [
    "df['mol'] = df['smiles'].apply(lambda x: Chem.MolFromSmiles(x))\n",
    "\n",
    "morgan_FP = []\n",
    "\n",
    "for mol in df['mol']:\n",
    "    fp1 = AllChem.GetMorganFingerprintAsBitVect(mol,2,nBits=1024, useFeatures=True)\n",
    "    morgan_FP.append(fp1.ToList())\n",
    "\n",
    "df_morgan_FP = pd.DataFrame(morgan_FP)\n",
    "df_morgan_FP"
   ]
  },
  {
   "cell_type": "code",
   "execution_count": null,
   "metadata": {},
   "outputs": [],
   "source": [
    "df_test = pd.concat([df, df_morgan_FP], axis=1)\n",
    "df_test.set_index('cid', inplace=True)\n",
    "df_test.to_csv('morgan_fingerprint.csv')"
   ]
  },
  {
   "cell_type": "code",
   "execution_count": null,
   "metadata": {},
   "outputs": [],
   "source": [
    "from sklearn.decomposition import PCA\n",
    "from sklearn.manifold import TSNE\n",
    "from sklearn.decomposition import TruncatedSVD\n",
    "\n",
    "from sklearn.cluster import KMeans\n",
    "\n",
    "from sklearn.preprocessing import StandardScaler\n",
    "from sklearn.preprocessing import MinMaxScaler\n",
    "from sklearn.preprocessing import LabelEncoder\n",
    "\n",
    "from sklearn.metrics import classification_report\n",
    "from sklearn.metrics import f1_score\n",
    "from sklearn.metrics import accuracy_score\n",
    "from sklearn.metrics import rand_score"
   ]
  },
  {
   "cell_type": "code",
   "execution_count": null,
   "metadata": {},
   "outputs": [],
   "source": [
    "# pair_rand_score = []\n",
    "# n_comp = range(2, 100)\n",
    "# for comp in n_comp: \n",
    "#     svd = TruncatedSVD(n_components=comp, n_iter=7, random_state=42)\n",
    "#     df_trans = svd.fit_transform(df_morgan_FP)\n",
    "\n",
    "#     # trunc_results = pd.DataFrame(df_trans, columns=['trunc' + str(i) for i in range(1, comp + 1)])\n",
    "#     trunc_results = pd.DataFrame(df_trans)\n",
    "\n",
    "#     clustering_kmeans = KMeans(n_clusters=4)\n",
    "#     trunc_results['clusters'] = clustering_kmeans.fit_predict(trunc_results)\n",
    "\n",
    "#     cluster_dict = dict(trunc_results['clusters'].value_counts())\n",
    "#     cluster_dict = dict(sorted(cluster_dict.items(), key=lambda item: item[1], reverse=True)).keys()\n",
    "#     cluster_dict = list(cluster_dict)\n",
    "\n",
    "#     trunc_results['action_gen'] = df['action_gen']\n",
    "#     trunc_results['action_gen_cluster'] = trunc_results['clusters'].map({cluster_dict[0]: 'AGONIST', cluster_dict[1]: 'ANTAGONIST', cluster_dict[2]: 'PARTIAL AGONIST', cluster_dict[3]: 'OTHER'})\n",
    "\n",
    "#     # rd_sc = rand_score(df.action_gen, trunc_results.clusters)\n",
    "#     c_rpt = classification_report(trunc_results.action_gen, trunc_results.action_gen_cluster, output_dict=True)\n",
    "#     total_score = sum([c_rpt[key]['precision'] for key in list(c_rpt.keys())[:4]])\n",
    "#     pair_rand_score.append(total_score)\n",
    "\n",
    "# sns.lineplot(n_comp, pair_rand_score)\n",
    "# plt.grid()\n",
    "# plt.show()\n"
   ]
  },
  {
   "cell_type": "markdown",
   "metadata": {},
   "source": [
    "## Truncated SVD"
   ]
  },
  {
   "cell_type": "code",
   "execution_count": null,
   "metadata": {},
   "outputs": [],
   "source": [
    "n_comp = 50\n",
    "svd = TruncatedSVD(n_components=n_comp, n_iter=7, random_state=42)\n",
    "df_trans = svd.fit_transform(df_morgan_FP)\n",
    "\n",
    "trunc_results = pd.DataFrame(df_trans, columns=['trunc' + str(i) for i in range(1, n_comp + 1)])\n",
    "\n",
    "# sns.scatterplot(x='trunc1', y=\"trunc2\", hue=df['action_gen'], data=trunc_results)\n",
    "# plt.title('Clusters on PCA with actual values')\n",
    "# plt.show()\n"
   ]
  },
  {
   "cell_type": "code",
   "execution_count": null,
   "metadata": {},
   "outputs": [
    {
     "data": {
      "image/png": "[encoded data removed]",
      "text/plain": [
       "<Figure size 432x288 with 1 Axes>"
      ]
     },
     "metadata": {
      "needs_background": "light"
     },
     "output_type": "display_data"
    }
   ],
   "source": [
    "clustering_kmeans = KMeans(n_clusters=4)\n",
    "trunc_results['clusters'] = clustering_kmeans.fit_predict(trunc_results)\n",
    "trunc_results['clusters'].value_counts()\n",
    "\n",
    "sns.scatterplot(x=\"trunc1\", y=\"trunc2\", hue=trunc_results['clusters'], data=trunc_results)\n",
    "plt.title('Clusters on PCA with clusters labels')\n",
    "plt.show()"
   ]
  },
  {
   "cell_type": "code",
   "execution_count": null,
   "metadata": {},
   "outputs": [
    {
     "name": "stdout",
     "output_type": "stream",
     "text": [
      "1    71\n",
      "3    55\n",
      "0    28\n",
      "2    17\n",
      "Name: clusters, dtype: int64\n",
      "pairing_score:  0.5506019951840385\n",
      "                 precision    recall  f1-score   support\n",
      "\n",
      "        AGONIST       0.77      0.51      0.61       108\n",
      "     ANTAGONIST       0.40      0.51      0.45        43\n",
      "          OTHER       0.00      0.00      0.00         9\n",
      "PARTIAL AGONIST       0.18      0.45      0.26        11\n",
      "\n",
      "       accuracy                           0.48       171\n",
      "      macro avg       0.34      0.37      0.33       171\n",
      "   weighted avg       0.60      0.48      0.52       171\n",
      "\n"
     ]
    }
   ],
   "source": [
    "print(trunc_results['clusters'].value_counts())\n",
    "# sort keys based on number of values in each clusters\n",
    "cluster_dict = dict(trunc_results['clusters'].value_counts())\n",
    "cluster_dict = dict(sorted(cluster_dict.items(), key=lambda item: item[1], reverse=True)).keys()\n",
    "cluster_dict = list(cluster_dict)\n",
    "\n",
    "trunc_results['action_gen'] = df['action_gen']\n",
    "trunc_results['action_gen_cluster'] = trunc_results['clusters'].map({cluster_dict[0]: 'AGONIST', cluster_dict[1]: 'ANTAGONIST', cluster_dict[2]: 'PARTIAL AGONIST', cluster_dict[3]: 'OTHER'})\n",
    "\n",
    "print('pairing_score: ', rand_score(trunc_results.action_gen, trunc_results.action_gen_cluster))\n",
    "trunc_results[trunc_results.action_gen == trunc_results.action_gen_cluster].shape[0] / trunc_results.shape[0]\n",
    "# print('Accuracy', accuracy_score(trunc_results.action_gen, trunc_results.action_gen_cluster))\n",
    "print(classification_report(trunc_results.action_gen, trunc_results.action_gen_cluster))\n"
   ]
  },
  {
   "cell_type": "markdown",
   "metadata": {},
   "source": [
    "## Trunc + LDA"
   ]
  },
  {
   "cell_type": "code",
   "execution_count": null,
   "metadata": {},
   "outputs": [
    {
     "data": {
      "image/png": "[encoded data removed]",
      "text/plain": [
       "<Figure size 432x288 with 1 Axes>"
      ]
     },
     "metadata": {
      "needs_background": "light"
     },
     "output_type": "display_data"
    }
   ],
   "source": [
    "svd = TruncatedSVD(n_components=50, n_iter=7, random_state=42)\n",
    "df_morganFP_trunc = svd.fit_transform(df_morgan_FP)\n",
    "\n",
    "from sklearn.discriminant_analysis import LinearDiscriminantAnalysis as LDA\n",
    "from sklearn.model_selection import train_test_split\n",
    "\n",
    "np.random.seed(42)\n",
    "df_morganFP_trunc_scaled = df_morganFP_trunc\n",
    "scaler = StandardScaler()\n",
    "df_morganFP_trunc_scaled = pd.DataFrame(scaler.fit_transform(df_morganFP_trunc))\n",
    "df_morganFP_trunc_scaled['action_gen'] = df['action_gen']\n",
    "\n",
    "\n",
    "# normal LDA \n",
    "n_comp = 2\n",
    "# lda = LDA(n_components=n_comp).fit(df_morganFP_trunc_scaled.iloc[:, :-1], df_morganFP_trunc_scaled.iloc[:, -1])\n",
    "\n",
    "# normal LDA with partial training set to prevent overfitting\n",
    "# df_sample = df_morganFP_trunc_scaled.sample(n=140)\n",
    "# lda = LDA(n_components=n_comp).fit(df_sample.iloc[:, :-1], df_sample.iloc[:, -1])\n",
    "# X_train, X_test, y_train, y_test = train_test_split(df_morganFP_trunc_scaled.iloc[:, :-1], df_morganFP_trunc_scaled.iloc[:, -1], \n",
    "#                                                 train_size=0.6, random_state=42)\n",
    "# lda = LDA(n_components=n_comp).fit(X_train, y_train)\n",
    "\n",
    "\n",
    "# solve generalized eigenvalue problem\n",
    "X_train, X_test, y_train, y_test = train_test_split(df_morganFP_trunc_scaled.iloc[:, :-1], df_morganFP_trunc_scaled.iloc[:, -1], \n",
    "                                                train_size=0.6, random_state=42)\n",
    "lda = LDA(n_components=n_comp, solver='eigen', shrinkage=0.1).fit(X_train, y_train)\n",
    "\n",
    "df_morganFP_trunc_scaled.drop(\"action_gen\", axis=1, inplace=True)\n",
    "# lda_results = lda.transform(X_train)\n",
    "lda_results = lda.transform(df_morganFP_trunc_scaled)\n",
    "\n",
    "lda_results = pd.DataFrame(lda_results, columns=['trunc' + str(i) for i in range(1, n_comp+1)])\n",
    "sns.scatterplot(x='trunc1', y=\"trunc2\", hue=df['action_gen'], data=lda_results)\n",
    "# sns.scatterplot(x='trunc1', y=\"trunc2\", hue=y_train, data=lda_results)\n",
    "plt.title('Clusters on PCA with actual values')\n",
    "# plt.ylim([-13, 7])\n",
    "# plt.xlim([-6, 12])\n",
    "plt.show()\n"
   ]
  },
  {
   "cell_type": "code",
   "execution_count": null,
   "metadata": {},
   "outputs": [
    {
     "name": "stdout",
     "output_type": "stream",
     "text": [
      "pairing_score:  0.7105711849957375\n",
      "                 precision    recall  f1-score   support\n",
      "\n",
      "        AGONIST       0.85      0.83      0.84        42\n",
      "     ANTAGONIST       0.65      0.61      0.63        18\n",
      "          OTHER       0.40      0.40      0.40         5\n",
      "PARTIAL AGONIST       0.17      0.25      0.20         4\n",
      "\n",
      "       accuracy                           0.71        69\n",
      "      macro avg       0.52      0.52      0.52        69\n",
      "   weighted avg       0.73      0.71      0.72        69\n",
      "\n"
     ]
    }
   ],
   "source": [
    "print('pairing_score: ', rand_score(y_test, lda.predict(X_test)))\n",
    "print(classification_report(y_test, lda.predict(X_test)))"
   ]
  },
  {
   "cell_type": "code",
   "execution_count": null,
   "metadata": {},
   "outputs": [
    {
     "data": {
      "image/png": "[encoded data removed]",
      "text/plain": [
       "<Figure size 432x288 with 1 Axes>"
      ]
     },
     "metadata": {
      "needs_background": "light"
     },
     "output_type": "display_data"
    }
   ],
   "source": [
    "clustering_kmeans = KMeans(n_clusters=4)\n",
    "lda_results['clusters'] = clustering_kmeans.fit_predict(lda_results)\n",
    "lda_results['clusters'].value_counts()\n",
    "\n",
    "sns.scatterplot(x=\"trunc1\", y=\"trunc2\", hue=lda_results['clusters'], data=lda_results)\n",
    "plt.title('Clusters on PCA with clusters labels')\n",
    "plt.show()"
   ]
  },
  {
   "cell_type": "code",
   "execution_count": null,
   "metadata": {},
   "outputs": [
    {
     "name": "stdout",
     "output_type": "stream",
     "text": [
      "1    102\n",
      "0     55\n",
      "2      8\n",
      "3      6\n",
      "Name: clusters, dtype: int64\n",
      "pairing_score:  0.773718610251118\n",
      "                 precision    recall  f1-score   support\n",
      "\n",
      "        AGONIST       0.91      0.86      0.89       108\n",
      "     ANTAGONIST       0.69      0.88      0.78        43\n",
      "          OTHER       0.00      0.00      0.00         9\n",
      "PARTIAL AGONIST       0.00      0.00      0.00        11\n",
      "\n",
      "       accuracy                           0.77       171\n",
      "      macro avg       0.40      0.44      0.42       171\n",
      "   weighted avg       0.75      0.77      0.75       171\n",
      "\n"
     ]
    }
   ],
   "source": [
    "print(lda_results['clusters'].value_counts())\n",
    "# sort keys based on number of values in each clusters\n",
    "cluster_dict = dict(lda_results['clusters'].value_counts())\n",
    "cluster_dict = dict(sorted(cluster_dict.items(), key=lambda item: item[1], reverse=True)).keys()\n",
    "cluster_dict = list(cluster_dict)\n",
    "\n",
    "lda_results['action_gen'] = df['action_gen']\n",
    "lda_results['action_gen_cluster'] = lda_results['clusters'].map({cluster_dict[0]: 'AGONIST', cluster_dict[1]: 'ANTAGONIST', cluster_dict[2]: 'PARTIAL AGONIST', cluster_dict[3]: 'OTHER'})\n",
    "\n",
    "print('pairing_score: ', rand_score(lda_results.action_gen, lda_results.action_gen_cluster))\n",
    "lda_results[lda_results.action_gen == lda_results.action_gen_cluster].shape[0] / lda_results.shape[0]\n",
    "# print('Accuracy', accuracy_score(lda_results.action_gen, lda_results.action_gen_cluster))\n",
    "print(classification_report(lda_results.action_gen, lda_results.action_gen_cluster))\n"
   ]
  },
  {
   "cell_type": "markdown",
   "metadata": {},
   "source": [
    "## Truncated SVD + TSNE"
   ]
  },
  {
   "cell_type": "code",
   "execution_count": null,
   "metadata": {},
   "outputs": [
    {
     "name": "stderr",
     "output_type": "stream",
     "text": [
      "c:\\Users\\fongm\\Anaconda3\\envs\\myenv\\lib\\site-packages\\sklearn\\manifold\\_t_sne.py:783: FutureWarning: The default initialization in TSNE will change from 'random' to 'pca' in 1.2.\n",
      "  FutureWarning,\n",
      "c:\\Users\\fongm\\Anaconda3\\envs\\myenv\\lib\\site-packages\\sklearn\\manifold\\_t_sne.py:793: FutureWarning: The default learning rate in TSNE will change from 200.0 to 'auto' in 1.2.\n",
      "  FutureWarning,\n"
     ]
    },
    {
     "data": {
      "image/png": "[encoded data removed]",
      "text/plain": [
       "<Figure size 432x288 with 1 Axes>"
      ]
     },
     "metadata": {
      "needs_background": "light"
     },
     "output_type": "display_data"
    }
   ],
   "source": [
    "svd = TruncatedSVD(n_components=50, n_iter=7, random_state=42)\n",
    "df_trans = svd.fit_transform(df_morgan_FP)\n",
    "# df_trans\n",
    "\n",
    "# scaler = StandardScaler()\n",
    "# df_trans_scaled = scaler.fit_transform(df_trans)\n",
    "\n",
    "tsne = TSNE(n_components=2, perplexity=40, n_iter=300)\n",
    "tsne_results = tsne.fit_transform(df_trans)\n",
    "\n",
    "tsne_results = pd.DataFrame(tsne_results, columns=['ts1', 'ts2'])\n",
    "sns.scatterplot(x='ts1', y=\"ts2\", hue=df['action_gen'], data=tsne_results)\n",
    "plt.title('Clusters on PCA with actual values')\n",
    "plt.show()"
   ]
  },
  {
   "cell_type": "code",
   "execution_count": null,
   "metadata": {},
   "outputs": [
    {
     "data": {
      "text/plain": [
       "0    81\n",
       "2    51\n",
       "3    20\n",
       "1    19\n",
       "Name: clusters, dtype: int64"
      ]
     },
     "execution_count": 188,
     "metadata": {},
     "output_type": "execute_result"
    }
   ],
   "source": [
    "clustering_kmeans = KMeans(n_clusters=4)\n",
    "df_morgan_FP['clusters'] = clustering_kmeans.fit_predict(df_morgan_FP)\n",
    "df_morgan_FP['clusters'].value_counts()\n",
    "\n"
   ]
  },
  {
   "cell_type": "code",
   "execution_count": null,
   "metadata": {},
   "outputs": [],
   "source": [
    "# df_morgan_FP['action_gen'] = df['action_gen']\n",
    "# print('pairing_score: ', rand_score(df_morgan_FP.action_gen, df_morgan_FP.clusters))"
   ]
  }
 ],
 "metadata": {
  "interpreter": {
   "hash": "cc32506d68c87c815ea2721a66e90cf98a67c66a6b520a56499d53bc81ff9c39"
  },
  "kernelspec": {
   "display_name": "Python 3.7.6 ('base')",
   "language": "python",
   "name": "python3"
  },
  "language_info": {
   "codemirror_mode": {
    "name": "ipython",
    "version": 3
   },
   "file_extension": ".py",
   "mimetype": "text/x-python",
   "name": "python",
   "nbconvert_exporter": "python",
   "pygments_lexer": "ipython3",
   "version": "3.7.6"
  },
  "orig_nbformat": 4
 },
 "nbformat": 4,
 "nbformat_minor": 2
}
