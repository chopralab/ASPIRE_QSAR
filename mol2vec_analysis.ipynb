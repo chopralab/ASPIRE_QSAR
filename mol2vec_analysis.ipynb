{
 "cells": [
  {
   "cell_type": "code",
   "execution_count": 916,
   "metadata": {},
   "outputs": [],
   "source": [
    "import pandas as pd\n",
    "import numpy as np\n",
    "import seaborn as sns\n",
    "import matplotlib.pyplot as plt\n",
    "from rdkit import Chem\n",
    "from mol2vec.features import mol2alt_sentence, MolSentence, DfVec, sentences2vec\n",
    "from gensim.models import word2vec\n",
    "\n",
    "%matplotlib inline"
   ]
  },
  {
   "cell_type": "code",
   "execution_count": 917,
   "metadata": {},
   "outputs": [],
   "source": [
    "# !pip install gensim==3.0.0"
   ]
  },
  {
   "cell_type": "code",
   "execution_count": 918,
   "metadata": {},
   "outputs": [],
   "source": [
    "# !pip install scipy==1.0.0"
   ]
  },
  {
   "cell_type": "code",
   "execution_count": 919,
   "metadata": {},
   "outputs": [
    {
     "data": {
      "text/plain": [
       "Index(['Unnamed: 0', 'cid', 'smiles', 'action'], dtype='object')"
      ]
     },
     "execution_count": 919,
     "metadata": {},
     "output_type": "execute_result"
    }
   ],
   "source": [
    "df = pd.read_csv(\"data/processedtest.csv\")\n",
    "df.head()\n",
    "df.columns"
   ]
  },
  {
   "cell_type": "code",
   "execution_count": 920,
   "metadata": {},
   "outputs": [
    {
     "data": {
      "text/plain": [
       "'3.0.0'"
      ]
     },
     "execution_count": 920,
     "metadata": {},
     "output_type": "execute_result"
    }
   ],
   "source": [
    "import gensim\n",
    "gensim.__version__"
   ]
  },
  {
   "cell_type": "code",
   "execution_count": 921,
   "metadata": {},
   "outputs": [],
   "source": [
    "# remove null values\n",
    "df = df[~df[\"action\"].isnull()]"
   ]
  },
  {
   "cell_type": "code",
   "execution_count": 922,
   "metadata": {},
   "outputs": [
    {
     "data": {
      "text/plain": [
       "AGONIST            108\n",
       "ANTAGONIST          57\n",
       "FULL AGONIST        19\n",
       "PARTIAL AGONIST     14\n",
       "POSITIVE             4\n",
       "BINDER               2\n",
       "NEUTRAL              2\n",
       "BIASED AGONIST       2\n",
       "OTHER/UNKNOWN        1\n",
       "LIGAND               1\n",
       "Name: action, dtype: int64"
      ]
     },
     "execution_count": 922,
     "metadata": {},
     "output_type": "execute_result"
    }
   ],
   "source": [
    "df['action'].value_counts()"
   ]
  },
  {
   "cell_type": "code",
   "execution_count": 923,
   "metadata": {},
   "outputs": [
    {
     "data": {
      "text/plain": [
       "AGONIST            127\n",
       "ANTAGONIST          57\n",
       "PARTIAL AGONIST     14\n",
       "POSITIVE             4\n",
       "BINDER               2\n",
       "NEUTRAL              2\n",
       "BIASED AGONIST       2\n",
       "OTHER/UNKNOWN        1\n",
       "LIGAND               1\n",
       "Name: action_gen, dtype: int64"
      ]
     },
     "execution_count": 923,
     "metadata": {},
     "output_type": "execute_result"
    }
   ],
   "source": [
    "def parse(x):\n",
    "    x = str(x)\n",
    "    if x.startswith(\"FULL \"):\n",
    "        return \"AGONIST\"\n",
    "    else:\n",
    "        return x\n",
    "        \n",
    "df[\"action_gen\"] = df[\"action\"].apply(parse)\n",
    "df[\"action_gen\"].value_counts()"
   ]
  },
  {
   "cell_type": "code",
   "execution_count": 924,
   "metadata": {},
   "outputs": [],
   "source": [
    "condition = (df.action_gen != \"AGONIST\") & (df.action_gen != \"ANTAGONIST\") & (df.action_gen != \"PARTIAL AGONIST\")\n",
    "df[\"action_gen\"] = np.where(condition, \"OTHER\", df.action_gen)"
   ]
  },
  {
   "cell_type": "code",
   "execution_count": 925,
   "metadata": {},
   "outputs": [
    {
     "data": {
      "text/plain": [
       "AGONIST            127\n",
       "ANTAGONIST          57\n",
       "PARTIAL AGONIST     14\n",
       "OTHER               12\n",
       "Name: action_gen, dtype: int64"
      ]
     },
     "execution_count": 925,
     "metadata": {},
     "output_type": "execute_result"
    }
   ],
   "source": [
    "df[\"action_gen\"].value_counts()"
   ]
  },
  {
   "cell_type": "code",
   "execution_count": 926,
   "metadata": {},
   "outputs": [],
   "source": [
    "df = df.drop_duplicates(subset=['cid'])\n",
    "df = df[['cid', 'smiles', 'action', 'action_gen']]\n",
    "df.set_index('cid', inplace=True)\n",
    "df.to_csv('data/processed/basic_data.csv')"
   ]
  },
  {
   "cell_type": "code",
   "execution_count": 927,
   "metadata": {},
   "outputs": [
    {
     "data": {
      "text/plain": [
       "(171, 3)"
      ]
     },
     "execution_count": 927,
     "metadata": {},
     "output_type": "execute_result"
    }
   ],
   "source": [
    "df.shape"
   ]
  },
  {
   "cell_type": "code",
   "execution_count": 928,
   "metadata": {},
   "outputs": [
    {
     "name": "stdout",
     "output_type": "stream",
     "text": [
      ">>> create mol from smiles ... \n",
      ">>> create sentence from mol ... \n",
      ">>> load the word2vec model ... \n",
      ">>> create embedding from sentence ... \n",
      ">>> data columns =  Index(['smiles', 'action', 'action_gen', 'mol', 'sentence', 'embedding'], dtype='object') \n",
      "\n"
     ]
    }
   ],
   "source": [
    "print(\">>> create mol from smiles ... \")\n",
    "df['mol'] = df['smiles'].apply(lambda x: Chem.MolFromSmiles(x)) \n",
    "\n",
    "print(\">>> create sentence from mol ... \")\n",
    "df['sentence'] = df.apply(lambda x: MolSentence(mol2alt_sentence(x['mol'], radius=1)), axis=1)\n",
    "\n",
    "print(\">>> load the word2vec model ... \")\n",
    "from gensim.models import word2vec\n",
    "w2v_model = word2vec.Word2Vec.load('model\\\\model_300dim.pkl')\n",
    "# w2v_model = word2vec.Word2Vec.load('model_300dim.pkl')\n",
    "\n",
    "print(\">>> create embedding from sentence ... \")\n",
    "df['embedding'] = [DfVec(x) for x in sentences2vec(df['sentence'], w2v_model)]\n",
    "\n",
    "print(\">>> data columns = \", df.columns, \"\\n\")\n",
    "\n",
    "df_mol2vec = np.array([x.vec for x in df['embedding']])\n",
    "df_mol2vec = pd.DataFrame(df_mol2vec)\n"
   ]
  },
  {
   "cell_type": "code",
   "execution_count": 929,
   "metadata": {},
   "outputs": [
    {
     "data": {
      "text/html": [
       "<div>\n",
       "<style scoped>\n",
       "    .dataframe tbody tr th:only-of-type {\n",
       "        vertical-align: middle;\n",
       "    }\n",
       "\n",
       "    .dataframe tbody tr th {\n",
       "        vertical-align: top;\n",
       "    }\n",
       "\n",
       "    .dataframe thead th {\n",
       "        text-align: right;\n",
       "    }\n",
       "</style>\n",
       "<table border=\"1\" class=\"dataframe\">\n",
       "  <thead>\n",
       "    <tr style=\"text-align: right;\">\n",
       "      <th></th>\n",
       "      <th>0</th>\n",
       "      <th>1</th>\n",
       "      <th>2</th>\n",
       "      <th>3</th>\n",
       "      <th>4</th>\n",
       "      <th>5</th>\n",
       "      <th>6</th>\n",
       "      <th>7</th>\n",
       "      <th>8</th>\n",
       "      <th>9</th>\n",
       "      <th>...</th>\n",
       "      <th>90</th>\n",
       "      <th>91</th>\n",
       "      <th>92</th>\n",
       "      <th>93</th>\n",
       "      <th>94</th>\n",
       "      <th>95</th>\n",
       "      <th>96</th>\n",
       "      <th>97</th>\n",
       "      <th>98</th>\n",
       "      <th>99</th>\n",
       "    </tr>\n",
       "  </thead>\n",
       "  <tbody>\n",
       "    <tr>\n",
       "      <th>0</th>\n",
       "      <td>6.280141</td>\n",
       "      <td>-0.328470</td>\n",
       "      <td>2.414576</td>\n",
       "      <td>-1.690867</td>\n",
       "      <td>-7.861639</td>\n",
       "      <td>-6.867691</td>\n",
       "      <td>-9.626471</td>\n",
       "      <td>-13.199176</td>\n",
       "      <td>-1.294791</td>\n",
       "      <td>-11.148396</td>\n",
       "      <td>...</td>\n",
       "      <td>19.299658</td>\n",
       "      <td>2.169511</td>\n",
       "      <td>-0.793115</td>\n",
       "      <td>-16.764660</td>\n",
       "      <td>13.043880</td>\n",
       "      <td>-18.739483</td>\n",
       "      <td>3.756747</td>\n",
       "      <td>15.374719</td>\n",
       "      <td>-14.515256</td>\n",
       "      <td>-6.286633</td>\n",
       "    </tr>\n",
       "    <tr>\n",
       "      <th>1</th>\n",
       "      <td>1.776356</td>\n",
       "      <td>3.756445</td>\n",
       "      <td>-6.181037</td>\n",
       "      <td>-5.822800</td>\n",
       "      <td>-5.826627</td>\n",
       "      <td>-4.405025</td>\n",
       "      <td>-8.603537</td>\n",
       "      <td>-10.111814</td>\n",
       "      <td>-4.385093</td>\n",
       "      <td>-8.642610</td>\n",
       "      <td>...</td>\n",
       "      <td>16.824162</td>\n",
       "      <td>5.012199</td>\n",
       "      <td>-1.432787</td>\n",
       "      <td>-14.343889</td>\n",
       "      <td>10.836793</td>\n",
       "      <td>-18.628334</td>\n",
       "      <td>1.475181</td>\n",
       "      <td>15.598952</td>\n",
       "      <td>-10.674813</td>\n",
       "      <td>-5.693790</td>\n",
       "    </tr>\n",
       "    <tr>\n",
       "      <th>2</th>\n",
       "      <td>6.314234</td>\n",
       "      <td>5.259421</td>\n",
       "      <td>-0.680459</td>\n",
       "      <td>-7.090142</td>\n",
       "      <td>-2.442776</td>\n",
       "      <td>-9.001303</td>\n",
       "      <td>-11.153745</td>\n",
       "      <td>-11.118653</td>\n",
       "      <td>-4.218091</td>\n",
       "      <td>-11.227092</td>\n",
       "      <td>...</td>\n",
       "      <td>20.611570</td>\n",
       "      <td>7.556344</td>\n",
       "      <td>-1.368805</td>\n",
       "      <td>-18.631535</td>\n",
       "      <td>10.332385</td>\n",
       "      <td>-18.168184</td>\n",
       "      <td>-0.347461</td>\n",
       "      <td>11.707021</td>\n",
       "      <td>-13.346869</td>\n",
       "      <td>-9.483927</td>\n",
       "    </tr>\n",
       "    <tr>\n",
       "      <th>3</th>\n",
       "      <td>3.372167</td>\n",
       "      <td>-0.755933</td>\n",
       "      <td>-3.060266</td>\n",
       "      <td>-4.772605</td>\n",
       "      <td>-6.081095</td>\n",
       "      <td>-6.983521</td>\n",
       "      <td>-10.408932</td>\n",
       "      <td>-9.785253</td>\n",
       "      <td>-7.122725</td>\n",
       "      <td>-12.498787</td>\n",
       "      <td>...</td>\n",
       "      <td>19.356724</td>\n",
       "      <td>8.006906</td>\n",
       "      <td>-1.125456</td>\n",
       "      <td>-17.910374</td>\n",
       "      <td>7.266664</td>\n",
       "      <td>-21.190121</td>\n",
       "      <td>2.686775</td>\n",
       "      <td>13.276052</td>\n",
       "      <td>-11.772227</td>\n",
       "      <td>-3.436572</td>\n",
       "    </tr>\n",
       "    <tr>\n",
       "      <th>4</th>\n",
       "      <td>-1.496679</td>\n",
       "      <td>6.152759</td>\n",
       "      <td>0.588301</td>\n",
       "      <td>-6.650611</td>\n",
       "      <td>-5.761706</td>\n",
       "      <td>-5.832739</td>\n",
       "      <td>-4.404896</td>\n",
       "      <td>-4.544698</td>\n",
       "      <td>-2.249762</td>\n",
       "      <td>-4.385048</td>\n",
       "      <td>...</td>\n",
       "      <td>13.872375</td>\n",
       "      <td>1.219543</td>\n",
       "      <td>-6.606980</td>\n",
       "      <td>-8.758172</td>\n",
       "      <td>7.176021</td>\n",
       "      <td>-14.006166</td>\n",
       "      <td>5.154285</td>\n",
       "      <td>11.168540</td>\n",
       "      <td>-6.243005</td>\n",
       "      <td>-2.394396</td>\n",
       "    </tr>\n",
       "    <tr>\n",
       "      <th>...</th>\n",
       "      <td>...</td>\n",
       "      <td>...</td>\n",
       "      <td>...</td>\n",
       "      <td>...</td>\n",
       "      <td>...</td>\n",
       "      <td>...</td>\n",
       "      <td>...</td>\n",
       "      <td>...</td>\n",
       "      <td>...</td>\n",
       "      <td>...</td>\n",
       "      <td>...</td>\n",
       "      <td>...</td>\n",
       "      <td>...</td>\n",
       "      <td>...</td>\n",
       "      <td>...</td>\n",
       "      <td>...</td>\n",
       "      <td>...</td>\n",
       "      <td>...</td>\n",
       "      <td>...</td>\n",
       "      <td>...</td>\n",
       "      <td>...</td>\n",
       "    </tr>\n",
       "    <tr>\n",
       "      <th>166</th>\n",
       "      <td>3.702456</td>\n",
       "      <td>-1.441905</td>\n",
       "      <td>-3.830351</td>\n",
       "      <td>-4.911148</td>\n",
       "      <td>-9.687961</td>\n",
       "      <td>-5.936050</td>\n",
       "      <td>-11.954692</td>\n",
       "      <td>-8.482609</td>\n",
       "      <td>-2.526412</td>\n",
       "      <td>-11.928185</td>\n",
       "      <td>...</td>\n",
       "      <td>18.830000</td>\n",
       "      <td>3.986431</td>\n",
       "      <td>-5.243053</td>\n",
       "      <td>-14.841425</td>\n",
       "      <td>6.901628</td>\n",
       "      <td>-23.908350</td>\n",
       "      <td>2.742482</td>\n",
       "      <td>15.500882</td>\n",
       "      <td>-11.651638</td>\n",
       "      <td>-2.351627</td>\n",
       "    </tr>\n",
       "    <tr>\n",
       "      <th>167</th>\n",
       "      <td>3.461288</td>\n",
       "      <td>-1.513749</td>\n",
       "      <td>-3.431657</td>\n",
       "      <td>-5.302059</td>\n",
       "      <td>-9.319710</td>\n",
       "      <td>-5.905469</td>\n",
       "      <td>-11.412456</td>\n",
       "      <td>-8.100624</td>\n",
       "      <td>-2.178119</td>\n",
       "      <td>-11.863521</td>\n",
       "      <td>...</td>\n",
       "      <td>18.322538</td>\n",
       "      <td>4.380358</td>\n",
       "      <td>-5.922580</td>\n",
       "      <td>-15.014755</td>\n",
       "      <td>6.630800</td>\n",
       "      <td>-23.506742</td>\n",
       "      <td>2.896177</td>\n",
       "      <td>15.085280</td>\n",
       "      <td>-11.980536</td>\n",
       "      <td>-2.415028</td>\n",
       "    </tr>\n",
       "    <tr>\n",
       "      <th>168</th>\n",
       "      <td>-0.374055</td>\n",
       "      <td>3.579891</td>\n",
       "      <td>-6.851539</td>\n",
       "      <td>-12.594655</td>\n",
       "      <td>-7.360147</td>\n",
       "      <td>-5.953069</td>\n",
       "      <td>-13.223902</td>\n",
       "      <td>-11.967194</td>\n",
       "      <td>1.312468</td>\n",
       "      <td>-4.554150</td>\n",
       "      <td>...</td>\n",
       "      <td>26.341173</td>\n",
       "      <td>-1.922469</td>\n",
       "      <td>-4.906705</td>\n",
       "      <td>-22.792141</td>\n",
       "      <td>18.464617</td>\n",
       "      <td>-28.491587</td>\n",
       "      <td>12.383924</td>\n",
       "      <td>20.470411</td>\n",
       "      <td>-24.913034</td>\n",
       "      <td>-1.457546</td>\n",
       "    </tr>\n",
       "    <tr>\n",
       "      <th>169</th>\n",
       "      <td>3.816453</td>\n",
       "      <td>0.769446</td>\n",
       "      <td>-2.545771</td>\n",
       "      <td>-5.988578</td>\n",
       "      <td>-10.221293</td>\n",
       "      <td>-4.583409</td>\n",
       "      <td>-9.938968</td>\n",
       "      <td>-15.230546</td>\n",
       "      <td>-2.148406</td>\n",
       "      <td>-19.600471</td>\n",
       "      <td>...</td>\n",
       "      <td>23.059633</td>\n",
       "      <td>7.594724</td>\n",
       "      <td>-7.413008</td>\n",
       "      <td>-14.945212</td>\n",
       "      <td>17.409239</td>\n",
       "      <td>-31.190739</td>\n",
       "      <td>4.204212</td>\n",
       "      <td>17.317575</td>\n",
       "      <td>-16.193220</td>\n",
       "      <td>-1.041622</td>\n",
       "    </tr>\n",
       "    <tr>\n",
       "      <th>170</th>\n",
       "      <td>2.079093</td>\n",
       "      <td>15.519241</td>\n",
       "      <td>0.861543</td>\n",
       "      <td>-15.011485</td>\n",
       "      <td>-5.894507</td>\n",
       "      <td>-13.654318</td>\n",
       "      <td>-18.386621</td>\n",
       "      <td>-31.490719</td>\n",
       "      <td>-1.154668</td>\n",
       "      <td>-14.623960</td>\n",
       "      <td>...</td>\n",
       "      <td>32.069481</td>\n",
       "      <td>7.591980</td>\n",
       "      <td>-1.917062</td>\n",
       "      <td>-35.737110</td>\n",
       "      <td>34.356003</td>\n",
       "      <td>-27.370499</td>\n",
       "      <td>2.327811</td>\n",
       "      <td>17.705044</td>\n",
       "      <td>-21.356716</td>\n",
       "      <td>-9.330437</td>\n",
       "    </tr>\n",
       "  </tbody>\n",
       "</table>\n",
       "<p>171 rows × 100 columns</p>\n",
       "</div>"
      ],
      "text/plain": [
       "           0          1         2          3          4          5   \\\n",
       "0    6.280141  -0.328470  2.414576  -1.690867  -7.861639  -6.867691   \n",
       "1    1.776356   3.756445 -6.181037  -5.822800  -5.826627  -4.405025   \n",
       "2    6.314234   5.259421 -0.680459  -7.090142  -2.442776  -9.001303   \n",
       "3    3.372167  -0.755933 -3.060266  -4.772605  -6.081095  -6.983521   \n",
       "4   -1.496679   6.152759  0.588301  -6.650611  -5.761706  -5.832739   \n",
       "..        ...        ...       ...        ...        ...        ...   \n",
       "166  3.702456  -1.441905 -3.830351  -4.911148  -9.687961  -5.936050   \n",
       "167  3.461288  -1.513749 -3.431657  -5.302059  -9.319710  -5.905469   \n",
       "168 -0.374055   3.579891 -6.851539 -12.594655  -7.360147  -5.953069   \n",
       "169  3.816453   0.769446 -2.545771  -5.988578 -10.221293  -4.583409   \n",
       "170  2.079093  15.519241  0.861543 -15.011485  -5.894507 -13.654318   \n",
       "\n",
       "            6          7         8          9   ...         90        91  \\\n",
       "0    -9.626471 -13.199176 -1.294791 -11.148396  ...  19.299658  2.169511   \n",
       "1    -8.603537 -10.111814 -4.385093  -8.642610  ...  16.824162  5.012199   \n",
       "2   -11.153745 -11.118653 -4.218091 -11.227092  ...  20.611570  7.556344   \n",
       "3   -10.408932  -9.785253 -7.122725 -12.498787  ...  19.356724  8.006906   \n",
       "4    -4.404896  -4.544698 -2.249762  -4.385048  ...  13.872375  1.219543   \n",
       "..         ...        ...       ...        ...  ...        ...       ...   \n",
       "166 -11.954692  -8.482609 -2.526412 -11.928185  ...  18.830000  3.986431   \n",
       "167 -11.412456  -8.100624 -2.178119 -11.863521  ...  18.322538  4.380358   \n",
       "168 -13.223902 -11.967194  1.312468  -4.554150  ...  26.341173 -1.922469   \n",
       "169  -9.938968 -15.230546 -2.148406 -19.600471  ...  23.059633  7.594724   \n",
       "170 -18.386621 -31.490719 -1.154668 -14.623960  ...  32.069481  7.591980   \n",
       "\n",
       "           92         93         94         95         96         97  \\\n",
       "0   -0.793115 -16.764660  13.043880 -18.739483   3.756747  15.374719   \n",
       "1   -1.432787 -14.343889  10.836793 -18.628334   1.475181  15.598952   \n",
       "2   -1.368805 -18.631535  10.332385 -18.168184  -0.347461  11.707021   \n",
       "3   -1.125456 -17.910374   7.266664 -21.190121   2.686775  13.276052   \n",
       "4   -6.606980  -8.758172   7.176021 -14.006166   5.154285  11.168540   \n",
       "..        ...        ...        ...        ...        ...        ...   \n",
       "166 -5.243053 -14.841425   6.901628 -23.908350   2.742482  15.500882   \n",
       "167 -5.922580 -15.014755   6.630800 -23.506742   2.896177  15.085280   \n",
       "168 -4.906705 -22.792141  18.464617 -28.491587  12.383924  20.470411   \n",
       "169 -7.413008 -14.945212  17.409239 -31.190739   4.204212  17.317575   \n",
       "170 -1.917062 -35.737110  34.356003 -27.370499   2.327811  17.705044   \n",
       "\n",
       "            98        99  \n",
       "0   -14.515256 -6.286633  \n",
       "1   -10.674813 -5.693790  \n",
       "2   -13.346869 -9.483927  \n",
       "3   -11.772227 -3.436572  \n",
       "4    -6.243005 -2.394396  \n",
       "..         ...       ...  \n",
       "166 -11.651638 -2.351627  \n",
       "167 -11.980536 -2.415028  \n",
       "168 -24.913034 -1.457546  \n",
       "169 -16.193220 -1.041622  \n",
       "170 -21.356716 -9.330437  \n",
       "\n",
       "[171 rows x 100 columns]"
      ]
     },
     "execution_count": 929,
     "metadata": {},
     "output_type": "execute_result"
    }
   ],
   "source": [
    "df_mol2vec"
   ]
  },
  {
   "cell_type": "code",
   "execution_count": 930,
   "metadata": {},
   "outputs": [],
   "source": [
    "from sklearn.decomposition import PCA\n",
    "from sklearn.cluster import KMeans\n",
    "\n",
    "from sklearn.preprocessing import StandardScaler\n",
    "from sklearn.preprocessing import MinMaxScaler\n",
    "from sklearn.preprocessing import LabelEncoder\n",
    "\n",
    "from sklearn.metrics import rand_score"
   ]
  },
  {
   "cell_type": "code",
   "execution_count": 931,
   "metadata": {},
   "outputs": [
    {
     "data": {
      "text/html": [
       "<div>\n",
       "<style scoped>\n",
       "    .dataframe tbody tr th:only-of-type {\n",
       "        vertical-align: middle;\n",
       "    }\n",
       "\n",
       "    .dataframe tbody tr th {\n",
       "        vertical-align: top;\n",
       "    }\n",
       "\n",
       "    .dataframe thead th {\n",
       "        text-align: right;\n",
       "    }\n",
       "</style>\n",
       "<table border=\"1\" class=\"dataframe\">\n",
       "  <thead>\n",
       "    <tr style=\"text-align: right;\">\n",
       "      <th></th>\n",
       "      <th>cid</th>\n",
       "      <th>smiles</th>\n",
       "      <th>action</th>\n",
       "      <th>action_gen</th>\n",
       "      <th>mol</th>\n",
       "      <th>sentence</th>\n",
       "      <th>embedding</th>\n",
       "    </tr>\n",
       "  </thead>\n",
       "  <tbody>\n",
       "    <tr>\n",
       "      <th>0</th>\n",
       "      <td>2159</td>\n",
       "      <td>CCN1CCCC1CNC(=O)C2=CC(=C(C=C2OC)N)S(=O)(=O)CC</td>\n",
       "      <td>AGONIST</td>\n",
       "      <td>AGONIST</td>\n",
       "      <td>&lt;img data-content=\"rdkit/molecule\" src=\"data:i...</td>\n",
       "      <td>(2246728737, 3542456614, 2245384272, 225184566...</td>\n",
       "      <td>(100,) dimensional vector</td>\n",
       "    </tr>\n",
       "    <tr>\n",
       "      <th>1</th>\n",
       "      <td>2160</td>\n",
       "      <td>CN(C)CCC=C1C2=CC=CC=C2CCC3=CC=CC=C31</td>\n",
       "      <td>BINDER</td>\n",
       "      <td>OTHER</td>\n",
       "      <td>&lt;img data-content=\"rdkit/molecule\" src=\"data:i...</td>\n",
       "      <td>(2246728737, 3818546315, 848128881, 3121777292...</td>\n",
       "      <td>(100,) dimensional vector</td>\n",
       "    </tr>\n",
       "    <tr>\n",
       "      <th>2</th>\n",
       "      <td>2562</td>\n",
       "      <td>CCN(CC)CCOCCOC(=O)C1(CCCC1)C2=CC=CC=C2</td>\n",
       "      <td>ANTAGONIST</td>\n",
       "      <td>ANTAGONIST</td>\n",
       "      <td>&lt;img data-content=\"rdkit/molecule\" src=\"data:i...</td>\n",
       "      <td>(2246728737, 3542456614, 2245384272, 592593828...</td>\n",
       "      <td>(100,) dimensional vector</td>\n",
       "    </tr>\n",
       "    <tr>\n",
       "      <th>3</th>\n",
       "      <td>3345</td>\n",
       "      <td>CCC(=O)N(C1CCN(CC1)CCC2=CC=CC=C2)C3=CC=CC=C3</td>\n",
       "      <td>AGONIST</td>\n",
       "      <td>AGONIST</td>\n",
       "      <td>&lt;img data-content=\"rdkit/molecule\" src=\"data:i...</td>\n",
       "      <td>(2246728737, 3542456614, 2245384272, 206478835...</td>\n",
       "      <td>(100,) dimensional vector</td>\n",
       "    </tr>\n",
       "    <tr>\n",
       "      <th>4</th>\n",
       "      <td>3821</td>\n",
       "      <td>CNC1(CCCCC1=O)C2=CC=CC=C2Cl</td>\n",
       "      <td>BINDER</td>\n",
       "      <td>OTHER</td>\n",
       "      <td>&lt;img data-content=\"rdkit/molecule\" src=\"data:i...</td>\n",
       "      <td>(2246728737, 3824063894, 847961216, 1733418522...</td>\n",
       "      <td>(100,) dimensional vector</td>\n",
       "    </tr>\n",
       "    <tr>\n",
       "      <th>...</th>\n",
       "      <td>...</td>\n",
       "      <td>...</td>\n",
       "      <td>...</td>\n",
       "      <td>...</td>\n",
       "      <td>...</td>\n",
       "      <td>...</td>\n",
       "      <td>...</td>\n",
       "    </tr>\n",
       "    <tr>\n",
       "      <th>166</th>\n",
       "      <td>132990963</td>\n",
       "      <td>C1CCC(CC1)N2CCN(CC2)C(CC3=CC=CC=C3)C4=CC=C(C=C4)F</td>\n",
       "      <td>AGONIST</td>\n",
       "      <td>AGONIST</td>\n",
       "      <td>&lt;img data-content=\"rdkit/molecule\" src=\"data:i...</td>\n",
       "      <td>(2968968094, 2142032900, 2968968094, 214203290...</td>\n",
       "      <td>(100,) dimensional vector</td>\n",
       "    </tr>\n",
       "    <tr>\n",
       "      <th>167</th>\n",
       "      <td>132990975</td>\n",
       "      <td>C1CCC(CC1)N2CCN(CC2)C(CC3=CC=CC=C3)C4=CC=CC=C4F</td>\n",
       "      <td>AGONIST</td>\n",
       "      <td>AGONIST</td>\n",
       "      <td>&lt;img data-content=\"rdkit/molecule\" src=\"data:i...</td>\n",
       "      <td>(2968968094, 2142032900, 2968968094, 214203290...</td>\n",
       "      <td>(100,) dimensional vector</td>\n",
       "    </tr>\n",
       "    <tr>\n",
       "      <th>168</th>\n",
       "      <td>134156377</td>\n",
       "      <td>CN1CC[C@]23[C@@H]4[C@H]1CC5=C2C(=C(C=C5)OC)O[C...</td>\n",
       "      <td>AGONIST</td>\n",
       "      <td>AGONIST</td>\n",
       "      <td>&lt;img data-content=\"rdkit/molecule\" src=\"data:i...</td>\n",
       "      <td>(2246728737, 3657471097, 2092489639, 201425559...</td>\n",
       "      <td>(100,) dimensional vector</td>\n",
       "    </tr>\n",
       "    <tr>\n",
       "      <th>169</th>\n",
       "      <td>137434175</td>\n",
       "      <td>CCC1=CC2=C(C(=C(N=C2C(=C1)F)N3CCC(CC3)NC4CCOCC...</td>\n",
       "      <td>ANTAGONIST</td>\n",
       "      <td>ANTAGONIST</td>\n",
       "      <td>&lt;img data-content=\"rdkit/molecule\" src=\"data:i...</td>\n",
       "      <td>(2246728737, 3542456614, 2245384272, 618671879...</td>\n",
       "      <td>(100,) dimensional vector</td>\n",
       "    </tr>\n",
       "    <tr>\n",
       "      <th>170</th>\n",
       "      <td>145993966</td>\n",
       "      <td>CN1CC[C@]23[C@@H]4[C@H](CCC2([C@H]1CC5=C3C(=C(...</td>\n",
       "      <td>AGONIST</td>\n",
       "      <td>AGONIST</td>\n",
       "      <td>&lt;img data-content=\"rdkit/molecule\" src=\"data:i...</td>\n",
       "      <td>(2246728737, 3657471097, 2092489639, 201425559...</td>\n",
       "      <td>(100,) dimensional vector</td>\n",
       "    </tr>\n",
       "  </tbody>\n",
       "</table>\n",
       "<p>171 rows × 7 columns</p>\n",
       "</div>"
      ],
      "text/plain": [
       "           cid                                             smiles      action  \\\n",
       "0         2159      CCN1CCCC1CNC(=O)C2=CC(=C(C=C2OC)N)S(=O)(=O)CC     AGONIST   \n",
       "1         2160               CN(C)CCC=C1C2=CC=CC=C2CCC3=CC=CC=C31      BINDER   \n",
       "2         2562             CCN(CC)CCOCCOC(=O)C1(CCCC1)C2=CC=CC=C2  ANTAGONIST   \n",
       "3         3345       CCC(=O)N(C1CCN(CC1)CCC2=CC=CC=C2)C3=CC=CC=C3     AGONIST   \n",
       "4         3821                        CNC1(CCCCC1=O)C2=CC=CC=C2Cl      BINDER   \n",
       "..         ...                                                ...         ...   \n",
       "166  132990963  C1CCC(CC1)N2CCN(CC2)C(CC3=CC=CC=C3)C4=CC=C(C=C4)F     AGONIST   \n",
       "167  132990975    C1CCC(CC1)N2CCN(CC2)C(CC3=CC=CC=C3)C4=CC=CC=C4F     AGONIST   \n",
       "168  134156377  CN1CC[C@]23[C@@H]4[C@H]1CC5=C2C(=C(C=C5)OC)O[C...     AGONIST   \n",
       "169  137434175  CCC1=CC2=C(C(=C(N=C2C(=C1)F)N3CCC(CC3)NC4CCOCC...  ANTAGONIST   \n",
       "170  145993966  CN1CC[C@]23[C@@H]4[C@H](CCC2([C@H]1CC5=C3C(=C(...     AGONIST   \n",
       "\n",
       "     action_gen                                                mol  \\\n",
       "0       AGONIST  <img data-content=\"rdkit/molecule\" src=\"data:i...   \n",
       "1         OTHER  <img data-content=\"rdkit/molecule\" src=\"data:i...   \n",
       "2    ANTAGONIST  <img data-content=\"rdkit/molecule\" src=\"data:i...   \n",
       "3       AGONIST  <img data-content=\"rdkit/molecule\" src=\"data:i...   \n",
       "4         OTHER  <img data-content=\"rdkit/molecule\" src=\"data:i...   \n",
       "..          ...                                                ...   \n",
       "166     AGONIST  <img data-content=\"rdkit/molecule\" src=\"data:i...   \n",
       "167     AGONIST  <img data-content=\"rdkit/molecule\" src=\"data:i...   \n",
       "168     AGONIST  <img data-content=\"rdkit/molecule\" src=\"data:i...   \n",
       "169  ANTAGONIST  <img data-content=\"rdkit/molecule\" src=\"data:i...   \n",
       "170     AGONIST  <img data-content=\"rdkit/molecule\" src=\"data:i...   \n",
       "\n",
       "                                              sentence  \\\n",
       "0    (2246728737, 3542456614, 2245384272, 225184566...   \n",
       "1    (2246728737, 3818546315, 848128881, 3121777292...   \n",
       "2    (2246728737, 3542456614, 2245384272, 592593828...   \n",
       "3    (2246728737, 3542456614, 2245384272, 206478835...   \n",
       "4    (2246728737, 3824063894, 847961216, 1733418522...   \n",
       "..                                                 ...   \n",
       "166  (2968968094, 2142032900, 2968968094, 214203290...   \n",
       "167  (2968968094, 2142032900, 2968968094, 214203290...   \n",
       "168  (2246728737, 3657471097, 2092489639, 201425559...   \n",
       "169  (2246728737, 3542456614, 2245384272, 618671879...   \n",
       "170  (2246728737, 3657471097, 2092489639, 201425559...   \n",
       "\n",
       "                     embedding  \n",
       "0    (100,) dimensional vector  \n",
       "1    (100,) dimensional vector  \n",
       "2    (100,) dimensional vector  \n",
       "3    (100,) dimensional vector  \n",
       "4    (100,) dimensional vector  \n",
       "..                         ...  \n",
       "166  (100,) dimensional vector  \n",
       "167  (100,) dimensional vector  \n",
       "168  (100,) dimensional vector  \n",
       "169  (100,) dimensional vector  \n",
       "170  (100,) dimensional vector  \n",
       "\n",
       "[171 rows x 7 columns]"
      ]
     },
     "execution_count": 931,
     "metadata": {},
     "output_type": "execute_result"
    }
   ],
   "source": [
    "# add indexes to dictionary\n",
    "df.reset_index(inplace=True)\n",
    "# encoding\n",
    "# from sklearn.preprocessing import LabelEncoder\n",
    "# labelencoder = LabelEncoder()\n",
    "# df['encoded_label'] = labelencoder.fit_transform(df['action_gen'])\n",
    "df"
   ]
  },
  {
   "cell_type": "code",
   "execution_count": 932,
   "metadata": {},
   "outputs": [],
   "source": [
    "# scaler = StandardScaler()\n",
    "# df_mol2vec = scaler.fit_transform(df_mol2vec)\n",
    "\n",
    "# scaler = MinMaxScaler()\n",
    "# df_mol2vec = scaler.fit_transform(df_mol2vec)\n"
   ]
  },
  {
   "cell_type": "code",
   "execution_count": 933,
   "metadata": {},
   "outputs": [
    {
     "name": "stdout",
     "output_type": "stream",
     "text": [
      "0.9999999403461572\n"
     ]
    },
    {
     "name": "stderr",
     "output_type": "stream",
     "text": [
      "c:\\Users\\Public\\anaconda3\\envs\\m2vec\\lib\\site-packages\\seaborn\\_decorators.py:43: FutureWarning: Pass the following variables as keyword args: x, y. From version 0.12, the only valid positional argument will be `data`, and passing other arguments without an explicit keyword will result in an error or misinterpretation.\n",
      "  FutureWarning\n"
     ]
    },
    {
     "data": {
      "image/png": "[encoded data removed]",
      "text/plain": [
       "<Figure size 432x288 with 1 Axes>"
      ]
     },
     "metadata": {
      "needs_background": "light"
     },
     "output_type": "display_data"
    }
   ],
   "source": [
    "scaler = StandardScaler()\n",
    "df_mol2vec_scaled = scaler.fit_transform(df_mol2vec)\n",
    "\n",
    "pca = PCA().fit(df_mol2vec_scaled)\n",
    "pc = pca.transform(df_mol2vec_scaled)\n",
    "\n",
    "var = pca.explained_variance_ratio_[:10]\n",
    "cum_sum = np.cumsum(pca.explained_variance_ratio_)\n",
    "labels = ['PC'+ str(i) for i in range(1,11)]\n",
    "\n",
    "print(sum(pca.explained_variance_ratio_))\n",
    "# sns.barplot(labels, var)\n",
    "sns.lineplot([x for x in range(len(cum_sum))], cum_sum)\n",
    "plt.grid()\n",
    "plt.show()"
   ]
  },
  {
   "cell_type": "markdown",
   "metadata": {},
   "source": [
    "## Cluster from PC1 to PC5"
   ]
  },
  {
   "cell_type": "code",
   "execution_count": 934,
   "metadata": {},
   "outputs": [
    {
     "data": {
      "text/plain": [
       "0      2\n",
       "1      2\n",
       "2      2\n",
       "3      2\n",
       "4      2\n",
       "      ..\n",
       "166    2\n",
       "167    2\n",
       "168    0\n",
       "169    0\n",
       "170    0\n",
       "Name: clusters, Length: 171, dtype: int32"
      ]
     },
     "execution_count": 934,
     "metadata": {},
     "output_type": "execute_result"
    }
   ],
   "source": [
    "pca_num_components = 5\n",
    "\n",
    "\n",
    "reduced_data = PCA(n_components=pca_num_components).fit_transform(df_mol2vec_scaled)\n",
    "results = pd.DataFrame(reduced_data,columns=['pc' + str(x) for x in range(1, 6)])\n",
    "\n",
    "# sns.scatterplot(x=\"pca1\", y=\"pca2\", hue=df['action_gen'], data=results)\n",
    "# plt.title('Clusters on PCA with actual values')\n",
    "# plt.show()\n",
    "\n",
    "\n",
    "clustering_kmeans = KMeans(n_clusters=4)\n",
    "results['clusters'] = clustering_kmeans.fit_predict(results)\n",
    "results['clusters']"
   ]
  },
  {
   "cell_type": "code",
   "execution_count": 935,
   "metadata": {},
   "outputs": [
    {
     "name": "stdout",
     "output_type": "stream",
     "text": [
      "2    89\n",
      "0    75\n",
      "3     4\n",
      "1     3\n",
      "Name: clusters, dtype: int64\n",
      "pairing_score:  0.5628482972136223\n",
      "Accuracy 0.6140350877192983\n"
     ]
    }
   ],
   "source": [
    "print(results['clusters'].value_counts())\n",
    "cluster_dict = dict(results['clusters'].value_counts())\n",
    "cluster_dict = dict(sorted(cluster_dict.items(), key=lambda item: item[1], reverse=True)).keys()\n",
    "cluster_dict = list(cluster_dict)\n",
    "\n",
    "results['action_gen'] = df['action_gen']\n",
    "results['action_gen_cluster'] = results['clusters'].map({cluster_dict[0]: 'AGONIST', cluster_dict[1]: 'ANTAGONIST', cluster_dict[2]: 'ANTAGONIST', cluster_dict[3]: 'OTHER'})\n",
    "\n",
    "print('pairing_score: ', rand_score(results.action_gen, results.action_gen_cluster))\n",
    "results[results.action_gen == results.action_gen_cluster].shape[0] / results.shape[0]\n",
    "print('Accuracy', results[results.action_gen == results.action_gen_cluster].shape[0] / results.shape[0])"
   ]
  },
  {
   "cell_type": "markdown",
   "metadata": {},
   "source": [
    "## PCA before clusters (PC1 & PC2)"
   ]
  },
  {
   "cell_type": "code",
   "execution_count": 936,
   "metadata": {},
   "outputs": [
    {
     "data": {
      "image/png": "[encoded data removed]",
      "text/plain": [
       "<Figure size 432x288 with 1 Axes>"
      ]
     },
     "metadata": {
      "needs_background": "light"
     },
     "output_type": "display_data"
    }
   ],
   "source": [
    "pca_num_components = 2\n",
    "\n",
    "\n",
    "reduced_data = PCA(n_components=pca_num_components).fit_transform(df_mol2vec_scaled)\n",
    "results2 = pd.DataFrame(reduced_data,columns=['pca1','pca2'])\n",
    "\n",
    "sns.scatterplot(x=\"pca1\", y=\"pca2\", hue=df['action_gen'], data=results2)\n",
    "plt.title('Clusters on PCA with actual values')\n",
    "plt.show()\n"
   ]
  },
  {
   "cell_type": "code",
   "execution_count": 937,
   "metadata": {},
   "outputs": [
    {
     "data": {
      "image/png": "[encoded data removed]",
      "text/plain": [
       "<Figure size 432x288 with 1 Axes>"
      ]
     },
     "metadata": {
      "needs_background": "light"
     },
     "output_type": "display_data"
    }
   ],
   "source": [
    "clustering_kmeans = KMeans(n_clusters=4)\n",
    "results2['clusters'] = clustering_kmeans.fit_predict(results2)\n",
    "results2['clusters']\n",
    "\n",
    "sns.scatterplot(x=\"pca1\", y=\"pca2\", hue=results2['clusters'], data=results2)\n",
    "plt.title('Clusters on PCA with clusters labels')\n",
    "plt.show()"
   ]
  },
  {
   "cell_type": "markdown",
   "metadata": {},
   "source": [
    "## Cluster before PCA"
   ]
  },
  {
   "cell_type": "code",
   "execution_count": 938,
   "metadata": {},
   "outputs": [
    {
     "data": {
      "text/plain": [
       "0      3\n",
       "1      3\n",
       "2      3\n",
       "3      3\n",
       "4      3\n",
       "      ..\n",
       "166    3\n",
       "167    3\n",
       "168    3\n",
       "169    3\n",
       "170    0\n",
       "Name: clusters, Length: 171, dtype: int32"
      ]
     },
     "execution_count": 938,
     "metadata": {},
     "output_type": "execute_result"
    }
   ],
   "source": [
    "clustering_kmeans = KMeans(n_clusters=4)\n",
    "df_mol2vec['clusters'] = clustering_kmeans.fit_predict(df_mol2vec)\n",
    "df_mol2vec['clusters']"
   ]
  },
  {
   "cell_type": "code",
   "execution_count": 939,
   "metadata": {},
   "outputs": [
    {
     "name": "stderr",
     "output_type": "stream",
     "text": [
      "c:\\Users\\Public\\anaconda3\\envs\\m2vec\\lib\\site-packages\\sklearn\\utils\\validation.py:1692: FutureWarning: Feature names only support names that are all strings. Got feature names with dtypes: ['int', 'str']. An error will be raised in 1.2.\n",
      "  FutureWarning,\n"
     ]
    },
    {
     "data": {
      "image/png": "[encoded data removed]",
      "text/plain": [
       "<Figure size 432x288 with 1 Axes>"
      ]
     },
     "metadata": {
      "needs_background": "light"
     },
     "output_type": "display_data"
    }
   ],
   "source": [
    "pca_num_components = 2\n",
    "\n",
    "reduced_data = PCA(n_components=pca_num_components).fit_transform(df_mol2vec)\n",
    "results = pd.DataFrame(reduced_data,columns=['pca1','pca2'])\n",
    "\n",
    "sns.scatterplot(x=\"pca1\", y=\"pca2\", hue=df_mol2vec['clusters'], data=results)\n",
    "plt.title('Clusters on PCA with actual values')\n",
    "plt.show()"
   ]
  },
  {
   "cell_type": "code",
   "execution_count": 940,
   "metadata": {},
   "outputs": [
    {
     "data": {
      "image/png": "[encoded data removed]",
      "text/plain": [
       "<Figure size 432x288 with 1 Axes>"
      ]
     },
     "metadata": {
      "needs_background": "light"
     },
     "output_type": "display_data"
    }
   ],
   "source": [
    "sns.scatterplot(x=\"pca1\", y=\"pca2\", hue=df['action_gen'], data=results)\n",
    "plt.title('Clusters on PCA with actual values')\n",
    "plt.show()"
   ]
  },
  {
   "cell_type": "markdown",
   "metadata": {},
   "source": [
    "## Results comparison"
   ]
  },
  {
   "cell_type": "code",
   "execution_count": 941,
   "metadata": {},
   "outputs": [
    {
     "name": "stdout",
     "output_type": "stream",
     "text": [
      "0    127\n",
      "3     23\n",
      "2     17\n",
      "1      4\n",
      "Name: clusters, dtype: int64\n",
      "pairing_score:  0.496594427244582\n",
      "Accuracy 0.5321637426900585\n"
     ]
    }
   ],
   "source": [
    "# sort keys based on number of values in each clusters\n",
    "print(results2['clusters'].value_counts())\n",
    "cluster_dict = dict(results2['clusters'].value_counts())\n",
    "cluster_dict = dict(sorted(cluster_dict.items(), key=lambda item: item[1], reverse=True)).keys()\n",
    "cluster_dict = list(cluster_dict)\n",
    "\n",
    "results2['action_gen'] = df['action_gen']\n",
    "results2['action_gen_cluster'] = results2['clusters'].map({cluster_dict[0]: 'AGONIST', cluster_dict[1]: 'ANTAGONIST', cluster_dict[2]: 'ANTAGONIST', cluster_dict[3]: 'OTHER'})\n",
    "\n",
    "print('pairing_score: ', rand_score(results2.action_gen, results2.action_gen_cluster))\n",
    "results2[results2.action_gen == results2.action_gen_cluster].shape[0] / results2.shape[0]\n",
    "print('Accuracy', results2[results2.action_gen == results2.action_gen_cluster].shape[0] / results2.shape[0])"
   ]
  },
  {
   "cell_type": "code",
   "execution_count": 942,
   "metadata": {},
   "outputs": [
    {
     "name": "stdout",
     "output_type": "stream",
     "text": [
      "3    137\n",
      "0     27\n",
      "2      4\n",
      "1      3\n",
      "Name: clusters, dtype: int64\n",
      "pairing_score:  0.47327141382868937\n",
      "Accuracy 0.5321637426900585\n"
     ]
    }
   ],
   "source": [
    "# sort keys based on number of values in each clusters\n",
    "print(df_mol2vec['clusters'].value_counts())\n",
    "cluster_dict = dict(df_mol2vec['clusters'].value_counts())\n",
    "cluster_dict = dict(sorted(cluster_dict.items(), key=lambda item: item[1], reverse=True)).keys()\n",
    "cluster_dict = list(cluster_dict)\n",
    "\n",
    "df_mol2vec['action_gen'] = df['action_gen']\n",
    "df_mol2vec['action_gen_cluster'] = df_mol2vec['clusters'].map({cluster_dict[0]: 'AGONIST', cluster_dict[1]: 'ANTAGONIST', cluster_dict[2]: 'PARTIAL AGONIST', cluster_dict[3]: 'OTHER'})\n",
    "\n",
    "print('pairing_score: ', rand_score(df_mol2vec.action_gen, df_mol2vec.action_gen_cluster))\n",
    "df_mol2vec[df_mol2vec.action_gen == df_mol2vec.action_gen_cluster].shape[0] / df_mol2vec.shape[0]\n",
    "print('Accuracy', df_mol2vec[df_mol2vec.action_gen == df_mol2vec.action_gen_cluster].shape[0] / df_mol2vec.shape[0])"
   ]
  },
  {
   "cell_type": "code",
   "execution_count": 943,
   "metadata": {},
   "outputs": [
    {
     "data": {
      "text/plain": [
       "AGONIST            108\n",
       "ANTAGONIST          43\n",
       "PARTIAL AGONIST     11\n",
       "OTHER                9\n",
       "Name: action_gen, dtype: int64"
      ]
     },
     "execution_count": 943,
     "metadata": {},
     "output_type": "execute_result"
    }
   ],
   "source": [
    "df['action_gen'].value_counts()"
   ]
  },
  {
   "cell_type": "code",
   "execution_count": null,
   "metadata": {},
   "outputs": [],
   "source": [
    "\n"
   ]
  }
 ],
 "metadata": {
  "interpreter": {
   "hash": "a7b1bf7cda555139a90bb8f30917beea45d65add00b5946fe39a8fc1c4accc0c"
  },
  "kernelspec": {
   "display_name": "Python 3.7.13 ('m2vec')",
   "language": "python",
   "name": "python3"
  },
  "language_info": {
   "codemirror_mode": {
    "name": "ipython",
    "version": 3
   },
   "file_extension": ".py",
   "mimetype": "text/x-python",
   "name": "python",
   "nbconvert_exporter": "python",
   "pygments_lexer": "ipython3",
   "version": "3.7.13"
  }
 },
 "nbformat": 4,
 "nbformat_minor": 2
}
